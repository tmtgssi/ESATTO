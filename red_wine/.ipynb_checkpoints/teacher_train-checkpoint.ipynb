{
 "cells": [
  {
   "cell_type": "code",
   "execution_count": 1,
   "id": "4ff52092",
   "metadata": {},
   "outputs": [
    {
     "name": "stderr",
     "output_type": "stream",
     "text": [
      "/home/philipslinux/anaconda3/lib/python3.9/site-packages/torchvision/models/_utils.py:208: UserWarning: The parameter 'pretrained' is deprecated since 0.13 and may be removed in the future, please use 'weights' instead.\n",
      "  warnings.warn(\n",
      "/home/philipslinux/anaconda3/lib/python3.9/site-packages/torchvision/models/_utils.py:223: UserWarning: Arguments other than a weight enum or `None` for 'weights' are deprecated since 0.13 and may be removed in the future. The current behavior is equivalent to passing `weights=ResNet152_Weights.IMAGENET1K_V1`. You can also use `weights=ResNet152_Weights.DEFAULT` to get the most up-to-date weights.\n",
      "  warnings.warn(msg)\n"
     ]
    },
    {
     "name": "stdout",
     "output_type": "stream",
     "text": [
      "Starting Phase 1...\n",
      "Phase 1 - Epoch [1/20]\n"
     ]
    },
    {
     "name": "stderr",
     "output_type": "stream",
     "text": [
      "Training: 100%|█████████████████████████████████| 28/28 [00:09<00:00,  2.80it/s]\n",
      "Evaluating: 100%|█████████████████████████████| 512/512 [00:07<00:00, 65.14it/s]\n",
      "/home/philipslinux/anaconda3/lib/python3.9/site-packages/sklearn/metrics/_classification.py:1334: UndefinedMetricWarning: Precision and F-score are ill-defined and being set to 0.0 in labels with no predicted samples. Use `zero_division` parameter to control this behavior.\n",
      "  _warn_prf(average, modifier, msg_start, len(result))\n",
      "/home/philipslinux/anaconda3/lib/python3.9/site-packages/sklearn/metrics/_classification.py:1334: UndefinedMetricWarning: Precision and F-score are ill-defined and being set to 0.0 in labels with no predicted samples. Use `zero_division` parameter to control this behavior.\n",
      "  _warn_prf(average, modifier, msg_start, len(result))\n",
      "/home/philipslinux/anaconda3/lib/python3.9/site-packages/sklearn/metrics/_classification.py:1334: UndefinedMetricWarning: Precision and F-score are ill-defined and being set to 0.0 in labels with no predicted samples. Use `zero_division` parameter to control this behavior.\n",
      "  _warn_prf(average, modifier, msg_start, len(result))\n"
     ]
    },
    {
     "name": "stdout",
     "output_type": "stream",
     "text": [
      "Train Loss: 0.4931, Train Accuracy: 78.36%, Valid Loss: 0.3834, Valid Accuracy: 87.50%\n",
      "Best model saved with validation accuracy in phase 1: 87.50%\n",
      "Phase 1 - Epoch [2/20]\n"
     ]
    },
    {
     "name": "stderr",
     "output_type": "stream",
     "text": [
      "Training: 100%|█████████████████████████████████| 28/28 [00:09<00:00,  2.99it/s]\n",
      "Evaluating: 100%|█████████████████████████████| 512/512 [00:08<00:00, 63.97it/s]\n",
      "/home/philipslinux/anaconda3/lib/python3.9/site-packages/sklearn/metrics/_classification.py:1334: UndefinedMetricWarning: Precision and F-score are ill-defined and being set to 0.0 in labels with no predicted samples. Use `zero_division` parameter to control this behavior.\n",
      "  _warn_prf(average, modifier, msg_start, len(result))\n",
      "/home/philipslinux/anaconda3/lib/python3.9/site-packages/sklearn/metrics/_classification.py:1334: UndefinedMetricWarning: Precision and F-score are ill-defined and being set to 0.0 in labels with no predicted samples. Use `zero_division` parameter to control this behavior.\n",
      "  _warn_prf(average, modifier, msg_start, len(result))\n",
      "/home/philipslinux/anaconda3/lib/python3.9/site-packages/sklearn/metrics/_classification.py:1334: UndefinedMetricWarning: Precision and F-score are ill-defined and being set to 0.0 in labels with no predicted samples. Use `zero_division` parameter to control this behavior.\n",
      "  _warn_prf(average, modifier, msg_start, len(result))\n"
     ]
    },
    {
     "name": "stdout",
     "output_type": "stream",
     "text": [
      "Train Loss: 0.3913, Train Accuracy: 85.27%, Valid Loss: 0.3432, Valid Accuracy: 87.50%\n",
      "Phase 1 - Epoch [3/20]\n"
     ]
    },
    {
     "name": "stderr",
     "output_type": "stream",
     "text": [
      "Training: 100%|█████████████████████████████████| 28/28 [00:08<00:00,  3.25it/s]\n",
      "Evaluating: 100%|█████████████████████████████| 512/512 [00:07<00:00, 66.05it/s]\n",
      "/home/philipslinux/anaconda3/lib/python3.9/site-packages/sklearn/metrics/_classification.py:1334: UndefinedMetricWarning: Precision and F-score are ill-defined and being set to 0.0 in labels with no predicted samples. Use `zero_division` parameter to control this behavior.\n",
      "  _warn_prf(average, modifier, msg_start, len(result))\n",
      "/home/philipslinux/anaconda3/lib/python3.9/site-packages/sklearn/metrics/_classification.py:1334: UndefinedMetricWarning: Precision and F-score are ill-defined and being set to 0.0 in labels with no predicted samples. Use `zero_division` parameter to control this behavior.\n",
      "  _warn_prf(average, modifier, msg_start, len(result))\n",
      "/home/philipslinux/anaconda3/lib/python3.9/site-packages/sklearn/metrics/_classification.py:1334: UndefinedMetricWarning: Precision and F-score are ill-defined and being set to 0.0 in labels with no predicted samples. Use `zero_division` parameter to control this behavior.\n",
      "  _warn_prf(average, modifier, msg_start, len(result))\n"
     ]
    },
    {
     "name": "stdout",
     "output_type": "stream",
     "text": [
      "Train Loss: 0.3711, Train Accuracy: 85.27%, Valid Loss: 0.3344, Valid Accuracy: 87.50%\n",
      "Phase 1 - Epoch [4/20]\n"
     ]
    },
    {
     "name": "stderr",
     "output_type": "stream",
     "text": [
      "Training: 100%|█████████████████████████████████| 28/28 [00:08<00:00,  3.26it/s]\n",
      "Evaluating: 100%|█████████████████████████████| 512/512 [00:07<00:00, 65.01it/s]\n",
      "/home/philipslinux/anaconda3/lib/python3.9/site-packages/sklearn/metrics/_classification.py:1334: UndefinedMetricWarning: Precision and F-score are ill-defined and being set to 0.0 in labels with no predicted samples. Use `zero_division` parameter to control this behavior.\n",
      "  _warn_prf(average, modifier, msg_start, len(result))\n",
      "/home/philipslinux/anaconda3/lib/python3.9/site-packages/sklearn/metrics/_classification.py:1334: UndefinedMetricWarning: Precision and F-score are ill-defined and being set to 0.0 in labels with no predicted samples. Use `zero_division` parameter to control this behavior.\n",
      "  _warn_prf(average, modifier, msg_start, len(result))\n",
      "/home/philipslinux/anaconda3/lib/python3.9/site-packages/sklearn/metrics/_classification.py:1334: UndefinedMetricWarning: Precision and F-score are ill-defined and being set to 0.0 in labels with no predicted samples. Use `zero_division` parameter to control this behavior.\n",
      "  _warn_prf(average, modifier, msg_start, len(result))\n"
     ]
    },
    {
     "name": "stdout",
     "output_type": "stream",
     "text": [
      "Train Loss: 0.3680, Train Accuracy: 85.27%, Valid Loss: 0.3276, Valid Accuracy: 87.50%\n",
      "Phase 1 - Epoch [5/20]\n"
     ]
    },
    {
     "name": "stderr",
     "output_type": "stream",
     "text": [
      "Training: 100%|█████████████████████████████████| 28/28 [00:08<00:00,  3.23it/s]\n",
      "Evaluating: 100%|█████████████████████████████| 512/512 [00:08<00:00, 63.42it/s]\n",
      "/home/philipslinux/anaconda3/lib/python3.9/site-packages/sklearn/metrics/_classification.py:1334: UndefinedMetricWarning: Precision and F-score are ill-defined and being set to 0.0 in labels with no predicted samples. Use `zero_division` parameter to control this behavior.\n",
      "  _warn_prf(average, modifier, msg_start, len(result))\n",
      "/home/philipslinux/anaconda3/lib/python3.9/site-packages/sklearn/metrics/_classification.py:1334: UndefinedMetricWarning: Precision and F-score are ill-defined and being set to 0.0 in labels with no predicted samples. Use `zero_division` parameter to control this behavior.\n",
      "  _warn_prf(average, modifier, msg_start, len(result))\n",
      "/home/philipslinux/anaconda3/lib/python3.9/site-packages/sklearn/metrics/_classification.py:1334: UndefinedMetricWarning: Precision and F-score are ill-defined and being set to 0.0 in labels with no predicted samples. Use `zero_division` parameter to control this behavior.\n",
      "  _warn_prf(average, modifier, msg_start, len(result))\n"
     ]
    },
    {
     "name": "stdout",
     "output_type": "stream",
     "text": [
      "Train Loss: 0.3470, Train Accuracy: 85.27%, Valid Loss: 0.3189, Valid Accuracy: 87.50%\n",
      "Phase 1 - Epoch [6/20]\n"
     ]
    },
    {
     "name": "stderr",
     "output_type": "stream",
     "text": [
      "Training: 100%|█████████████████████████████████| 28/28 [00:08<00:00,  3.25it/s]\n",
      "Evaluating: 100%|█████████████████████████████| 512/512 [00:08<00:00, 63.78it/s]\n",
      "/home/philipslinux/anaconda3/lib/python3.9/site-packages/sklearn/metrics/_classification.py:1334: UndefinedMetricWarning: Precision and F-score are ill-defined and being set to 0.0 in labels with no predicted samples. Use `zero_division` parameter to control this behavior.\n",
      "  _warn_prf(average, modifier, msg_start, len(result))\n",
      "/home/philipslinux/anaconda3/lib/python3.9/site-packages/sklearn/metrics/_classification.py:1334: UndefinedMetricWarning: Precision and F-score are ill-defined and being set to 0.0 in labels with no predicted samples. Use `zero_division` parameter to control this behavior.\n",
      "  _warn_prf(average, modifier, msg_start, len(result))\n",
      "/home/philipslinux/anaconda3/lib/python3.9/site-packages/sklearn/metrics/_classification.py:1334: UndefinedMetricWarning: Precision and F-score are ill-defined and being set to 0.0 in labels with no predicted samples. Use `zero_division` parameter to control this behavior.\n",
      "  _warn_prf(average, modifier, msg_start, len(result))\n"
     ]
    },
    {
     "name": "stdout",
     "output_type": "stream",
     "text": [
      "Train Loss: 0.3343, Train Accuracy: 85.27%, Valid Loss: 0.3118, Valid Accuracy: 87.50%\n",
      "Phase 1 - Epoch [7/20]\n"
     ]
    },
    {
     "name": "stderr",
     "output_type": "stream",
     "text": [
      "Training: 100%|█████████████████████████████████| 28/28 [00:08<00:00,  3.26it/s]\n",
      "Evaluating: 100%|█████████████████████████████| 512/512 [00:08<00:00, 60.40it/s]\n",
      "/home/philipslinux/anaconda3/lib/python3.9/site-packages/sklearn/metrics/_classification.py:1334: UndefinedMetricWarning: Precision and F-score are ill-defined and being set to 0.0 in labels with no predicted samples. Use `zero_division` parameter to control this behavior.\n",
      "  _warn_prf(average, modifier, msg_start, len(result))\n",
      "/home/philipslinux/anaconda3/lib/python3.9/site-packages/sklearn/metrics/_classification.py:1334: UndefinedMetricWarning: Precision and F-score are ill-defined and being set to 0.0 in labels with no predicted samples. Use `zero_division` parameter to control this behavior.\n",
      "  _warn_prf(average, modifier, msg_start, len(result))\n",
      "/home/philipslinux/anaconda3/lib/python3.9/site-packages/sklearn/metrics/_classification.py:1334: UndefinedMetricWarning: Precision and F-score are ill-defined and being set to 0.0 in labels with no predicted samples. Use `zero_division` parameter to control this behavior.\n",
      "  _warn_prf(average, modifier, msg_start, len(result))\n"
     ]
    },
    {
     "name": "stdout",
     "output_type": "stream",
     "text": [
      "Train Loss: 0.3103, Train Accuracy: 85.27%, Valid Loss: 0.3072, Valid Accuracy: 87.50%\n",
      "Phase 1 - Epoch [8/20]\n"
     ]
    },
    {
     "name": "stderr",
     "output_type": "stream",
     "text": [
      "Training: 100%|█████████████████████████████████| 28/28 [00:08<00:00,  3.25it/s]\n",
      "Evaluating: 100%|█████████████████████████████| 512/512 [00:07<00:00, 64.42it/s]\n"
     ]
    },
    {
     "name": "stdout",
     "output_type": "stream",
     "text": [
      "Train Loss: 0.2912, Train Accuracy: 85.27%, Valid Loss: 0.3048, Valid Accuracy: 87.30%\n",
      "Phase 1 - Epoch [9/20]\n"
     ]
    },
    {
     "name": "stderr",
     "output_type": "stream",
     "text": [
      "Training: 100%|█████████████████████████████████| 28/28 [00:08<00:00,  3.22it/s]\n",
      "Evaluating: 100%|█████████████████████████████| 512/512 [00:07<00:00, 65.91it/s]\n"
     ]
    },
    {
     "name": "stdout",
     "output_type": "stream",
     "text": [
      "Train Loss: 0.2758, Train Accuracy: 85.92%, Valid Loss: 0.2970, Valid Accuracy: 86.91%\n",
      "Phase 1 - Epoch [10/20]\n"
     ]
    },
    {
     "name": "stderr",
     "output_type": "stream",
     "text": [
      "Training: 100%|█████████████████████████████████| 28/28 [00:08<00:00,  3.25it/s]\n",
      "Evaluating: 100%|█████████████████████████████| 512/512 [00:08<00:00, 63.41it/s]\n"
     ]
    },
    {
     "name": "stdout",
     "output_type": "stream",
     "text": [
      "Train Loss: 0.2480, Train Accuracy: 87.35%, Valid Loss: 0.2945, Valid Accuracy: 87.50%\n",
      "Phase 1 - Epoch [11/20]\n"
     ]
    },
    {
     "name": "stderr",
     "output_type": "stream",
     "text": [
      "Training: 100%|█████████████████████████████████| 28/28 [00:08<00:00,  3.23it/s]\n",
      "Evaluating: 100%|█████████████████████████████| 512/512 [00:07<00:00, 64.24it/s]\n"
     ]
    },
    {
     "name": "stdout",
     "output_type": "stream",
     "text": [
      "Train Loss: 0.2259, Train Accuracy: 89.31%, Valid Loss: 0.2894, Valid Accuracy: 87.50%\n",
      "Phase 1 - Epoch [12/20]\n"
     ]
    },
    {
     "name": "stderr",
     "output_type": "stream",
     "text": [
      "Training: 100%|█████████████████████████████████| 28/28 [00:08<00:00,  3.19it/s]\n",
      "Evaluating: 100%|█████████████████████████████| 512/512 [00:07<00:00, 65.31it/s]\n"
     ]
    },
    {
     "name": "stdout",
     "output_type": "stream",
     "text": [
      "Train Loss: 0.1999, Train Accuracy: 91.13%, Valid Loss: 0.2916, Valid Accuracy: 87.70%\n",
      "Best model saved with validation accuracy in phase 1: 87.70%\n",
      "Phase 1 - Epoch [13/20]\n"
     ]
    },
    {
     "name": "stderr",
     "output_type": "stream",
     "text": [
      "Training: 100%|█████████████████████████████████| 28/28 [00:09<00:00,  2.98it/s]\n",
      "Evaluating: 100%|█████████████████████████████| 512/512 [00:07<00:00, 68.72it/s]\n"
     ]
    },
    {
     "name": "stdout",
     "output_type": "stream",
     "text": [
      "Train Loss: 0.1743, Train Accuracy: 93.35%, Valid Loss: 0.2964, Valid Accuracy: 87.11%\n",
      "Phase 1 - Epoch [14/20]\n"
     ]
    },
    {
     "name": "stderr",
     "output_type": "stream",
     "text": [
      "Training: 100%|█████████████████████████████████| 28/28 [00:08<00:00,  3.25it/s]\n",
      "Evaluating: 100%|█████████████████████████████| 512/512 [00:07<00:00, 66.39it/s]\n"
     ]
    },
    {
     "name": "stdout",
     "output_type": "stream",
     "text": [
      "Train Loss: 0.1601, Train Accuracy: 95.96%, Valid Loss: 0.3172, Valid Accuracy: 87.89%\n",
      "Best model saved with validation accuracy in phase 1: 87.89%\n",
      "Phase 1 - Epoch [15/20]\n"
     ]
    },
    {
     "name": "stderr",
     "output_type": "stream",
     "text": [
      "Training: 100%|█████████████████████████████████| 28/28 [00:09<00:00,  2.98it/s]\n",
      "Evaluating: 100%|█████████████████████████████| 512/512 [00:07<00:00, 65.63it/s]\n"
     ]
    },
    {
     "name": "stdout",
     "output_type": "stream",
     "text": [
      "Train Loss: 0.1339, Train Accuracy: 98.31%, Valid Loss: 0.3090, Valid Accuracy: 87.89%\n",
      "Phase 1 - Epoch [16/20]\n"
     ]
    },
    {
     "name": "stderr",
     "output_type": "stream",
     "text": [
      "Training: 100%|█████████████████████████████████| 28/28 [00:08<00:00,  3.27it/s]\n",
      "Evaluating: 100%|█████████████████████████████| 512/512 [00:07<00:00, 67.61it/s]\n"
     ]
    },
    {
     "name": "stdout",
     "output_type": "stream",
     "text": [
      "Train Loss: 0.1067, Train Accuracy: 98.96%, Valid Loss: 0.3159, Valid Accuracy: 88.09%\n",
      "Best model saved with validation accuracy in phase 1: 88.09%\n",
      "Phase 1 - Epoch [17/20]\n"
     ]
    },
    {
     "name": "stderr",
     "output_type": "stream",
     "text": [
      "Training: 100%|█████████████████████████████████| 28/28 [00:08<00:00,  3.15it/s]\n",
      "Evaluating: 100%|█████████████████████████████| 512/512 [00:07<00:00, 67.86it/s]\n"
     ]
    },
    {
     "name": "stdout",
     "output_type": "stream",
     "text": [
      "Train Loss: 0.0885, Train Accuracy: 99.61%, Valid Loss: 0.3428, Valid Accuracy: 86.72%\n",
      "Phase 1 - Epoch [18/20]\n"
     ]
    },
    {
     "name": "stderr",
     "output_type": "stream",
     "text": [
      "Training: 100%|█████████████████████████████████| 28/28 [00:08<00:00,  3.24it/s]\n",
      "Evaluating: 100%|█████████████████████████████| 512/512 [00:07<00:00, 64.68it/s]\n"
     ]
    },
    {
     "name": "stdout",
     "output_type": "stream",
     "text": [
      "Train Loss: 0.0772, Train Accuracy: 99.61%, Valid Loss: 0.3566, Valid Accuracy: 85.94%\n",
      "Phase 1 - Epoch [19/20]\n"
     ]
    },
    {
     "name": "stderr",
     "output_type": "stream",
     "text": [
      "Training: 100%|█████████████████████████████████| 28/28 [00:08<00:00,  3.17it/s]\n",
      "Evaluating: 100%|█████████████████████████████| 512/512 [00:07<00:00, 66.15it/s]\n"
     ]
    },
    {
     "name": "stdout",
     "output_type": "stream",
     "text": [
      "Train Loss: 0.0685, Train Accuracy: 99.61%, Valid Loss: 0.3598, Valid Accuracy: 88.48%\n",
      "Best model saved with validation accuracy in phase 1: 88.48%\n",
      "Phase 1 - Epoch [20/20]\n"
     ]
    },
    {
     "name": "stderr",
     "output_type": "stream",
     "text": [
      "Training: 100%|█████████████████████████████████| 28/28 [00:09<00:00,  3.03it/s]\n",
      "Evaluating: 100%|█████████████████████████████| 512/512 [00:07<00:00, 65.66it/s]\n",
      "/tmp/ipykernel_2632945/2502011099.py:172: FutureWarning: You are using `torch.load` with `weights_only=False` (the current default value), which uses the default pickle module implicitly. It is possible to construct malicious pickle data which will execute arbitrary code during unpickling (See https://github.com/pytorch/pytorch/blob/main/SECURITY.md#untrusted-models for more details). In a future release, the default value for `weights_only` will be flipped to `True`. This limits the functions that could be executed during unpickling. Arbitrary objects will no longer be allowed to be loaded via this mode unless they are explicitly allowlisted by the user via `torch.serialization.add_safe_globals`. We recommend you start setting `weights_only=True` for any use case where you don't have full control of the loaded file. Please open an issue on GitHub for any issues related to this experimental feature.\n",
      "  model.load_state_dict(torch.load(best_model_path_p1))\n"
     ]
    },
    {
     "name": "stdout",
     "output_type": "stream",
     "text": [
      "Train Loss: 0.0557, Train Accuracy: 99.87%, Valid Loss: 0.3731, Valid Accuracy: 88.09%\n",
      "Loading the best model for Phase 2...\n",
      "Starting Phase 2...\n",
      "Phase 2 - Epoch [1/10]\n"
     ]
    },
    {
     "name": "stderr",
     "output_type": "stream",
     "text": [
      "Training: 100%|█████████████████████████████████| 28/28 [00:08<00:00,  3.28it/s]\n",
      "Evaluating: 100%|█████████████████████████████| 512/512 [00:07<00:00, 67.07it/s]\n"
     ]
    },
    {
     "name": "stdout",
     "output_type": "stream",
     "text": [
      "Train Loss: 0.0537, Train Accuracy: 100.00%, Valid Loss: 0.3673, Valid Accuracy: 86.52%\n",
      "Best model saved with validation accuracy phase2: 86.52%\n",
      "Last model phase 2 saved : 86.52%\n",
      "Phase 2 - Epoch [2/10]\n"
     ]
    },
    {
     "name": "stderr",
     "output_type": "stream",
     "text": [
      "Training: 100%|█████████████████████████████████| 28/28 [00:09<00:00,  3.04it/s]\n",
      "Evaluating: 100%|█████████████████████████████| 512/512 [00:08<00:00, 62.64it/s]\n"
     ]
    },
    {
     "name": "stdout",
     "output_type": "stream",
     "text": [
      "Train Loss: 0.0558, Train Accuracy: 100.00%, Valid Loss: 0.3669, Valid Accuracy: 86.91%\n",
      "Best model saved with validation accuracy phase2: 86.91%\n",
      "Last model phase 2 saved : 86.91%\n",
      "Phase 2 - Epoch [3/10]\n"
     ]
    },
    {
     "name": "stderr",
     "output_type": "stream",
     "text": [
      "Training: 100%|█████████████████████████████████| 28/28 [00:09<00:00,  3.05it/s]\n",
      "Evaluating: 100%|█████████████████████████████| 512/512 [00:07<00:00, 67.77it/s]\n"
     ]
    },
    {
     "name": "stdout",
     "output_type": "stream",
     "text": [
      "Train Loss: 0.0532, Train Accuracy: 100.00%, Valid Loss: 0.3700, Valid Accuracy: 86.52%\n",
      "Last model phase 2 saved : 86.52%\n",
      "Phase 2 - Epoch [4/10]\n"
     ]
    },
    {
     "name": "stderr",
     "output_type": "stream",
     "text": [
      "Training: 100%|█████████████████████████████████| 28/28 [00:08<00:00,  3.12it/s]\n",
      "Evaluating: 100%|█████████████████████████████| 512/512 [00:07<00:00, 65.92it/s]\n"
     ]
    },
    {
     "name": "stdout",
     "output_type": "stream",
     "text": [
      "Train Loss: 0.0599, Train Accuracy: 99.87%, Valid Loss: 0.3745, Valid Accuracy: 87.70%\n",
      "Best model saved with validation accuracy phase2: 87.70%\n",
      "Last model phase 2 saved : 87.70%\n",
      "Phase 2 - Epoch [5/10]\n"
     ]
    },
    {
     "name": "stderr",
     "output_type": "stream",
     "text": [
      "Training: 100%|█████████████████████████████████| 28/28 [00:09<00:00,  3.07it/s]\n",
      "Evaluating: 100%|█████████████████████████████| 512/512 [00:07<00:00, 65.83it/s]\n"
     ]
    },
    {
     "name": "stdout",
     "output_type": "stream",
     "text": [
      "Train Loss: 0.0513, Train Accuracy: 100.00%, Valid Loss: 0.3766, Valid Accuracy: 86.72%\n",
      "Last model phase 2 saved : 86.72%\n",
      "Phase 2 - Epoch [6/10]\n"
     ]
    },
    {
     "name": "stderr",
     "output_type": "stream",
     "text": [
      "Training: 100%|█████████████████████████████████| 28/28 [00:09<00:00,  3.10it/s]\n",
      "Evaluating: 100%|█████████████████████████████| 512/512 [00:07<00:00, 67.89it/s]\n"
     ]
    },
    {
     "name": "stdout",
     "output_type": "stream",
     "text": [
      "Train Loss: 0.0489, Train Accuracy: 100.00%, Valid Loss: 0.3805, Valid Accuracy: 86.33%\n",
      "Last model phase 2 saved : 86.33%\n",
      "Phase 2 - Epoch [7/10]\n"
     ]
    },
    {
     "name": "stderr",
     "output_type": "stream",
     "text": [
      "Training: 100%|█████████████████████████████████| 28/28 [00:09<00:00,  3.05it/s]\n",
      "Evaluating: 100%|█████████████████████████████| 512/512 [00:07<00:00, 66.27it/s]\n"
     ]
    },
    {
     "name": "stdout",
     "output_type": "stream",
     "text": [
      "Train Loss: 0.0490, Train Accuracy: 100.00%, Valid Loss: 0.3859, Valid Accuracy: 86.33%\n",
      "Last model phase 2 saved : 86.33%\n",
      "Phase 2 - Epoch [8/10]\n"
     ]
    },
    {
     "name": "stderr",
     "output_type": "stream",
     "text": [
      "Training: 100%|█████████████████████████████████| 28/28 [00:09<00:00,  2.99it/s]\n",
      "Evaluating: 100%|█████████████████████████████| 512/512 [00:07<00:00, 65.54it/s]\n"
     ]
    },
    {
     "name": "stdout",
     "output_type": "stream",
     "text": [
      "Train Loss: 0.0475, Train Accuracy: 100.00%, Valid Loss: 0.3907, Valid Accuracy: 86.52%\n",
      "Last model phase 2 saved : 86.52%\n",
      "Phase 2 - Epoch [9/10]\n"
     ]
    },
    {
     "name": "stderr",
     "output_type": "stream",
     "text": [
      "Training: 100%|█████████████████████████████████| 28/28 [00:09<00:00,  2.81it/s]\n",
      "Evaluating: 100%|█████████████████████████████| 512/512 [00:07<00:00, 65.98it/s]\n"
     ]
    },
    {
     "name": "stdout",
     "output_type": "stream",
     "text": [
      "Train Loss: 0.0458, Train Accuracy: 100.00%, Valid Loss: 0.3929, Valid Accuracy: 86.13%\n",
      "Last model phase 2 saved : 86.13%\n",
      "Phase 2 - Epoch [10/10]\n"
     ]
    },
    {
     "name": "stderr",
     "output_type": "stream",
     "text": [
      "Training: 100%|█████████████████████████████████| 28/28 [00:09<00:00,  2.94it/s]\n",
      "Evaluating: 100%|█████████████████████████████| 512/512 [00:07<00:00, 65.16it/s]\n"
     ]
    },
    {
     "name": "stdout",
     "output_type": "stream",
     "text": [
      "Train Loss: 0.0444, Train Accuracy: 100.00%, Valid Loss: 0.3965, Valid Accuracy: 86.33%\n",
      "Last model phase 2 saved : 86.33%\n"
     ]
    },
    {
     "data": {
      "image/png": "[encoded data removed]",
      "text/plain": [
       "<Figure size 1500x1000 with 3 Axes>"
      ]
     },
     "metadata": {},
     "output_type": "display_data"
    }
   ],
   "source": [
    "import os\n",
    "import torch\n",
    "import torch.nn as nn\n",
    "import torch.optim as optim\n",
    "from torch.utils.data import DataLoader\n",
    "from torchvision import datasets, transforms\n",
    "from sklearn.metrics import classification_report\n",
    "import numpy as np\n",
    "import matplotlib.pyplot as plt\n",
    "from tqdm import tqdm\n",
    "from torchvision import transforms, models, datasets\n",
    "train_ratio = 0.6\n",
    "batch_size = 28\n",
    "num_epochs_phase1 = 20\n",
    "num_epochs_phase2 = 10\n",
    "lr = 0.000001\n",
    "ss=10\n",
    "g=0.2\n",
    "best_model_path_p1 = \"./checkpoints/best_model_res152_dif_p1.pth\"\n",
    "best_model_path_p2 = \"./checkpoints/best_model_res152_dif_p2.pth\"\n",
    "last_model_path_p2 = \"./checkpoints/last_model_res152_dif_p2.pth\"\n",
    "loss_weight_main, loss_weight_aux = 0.9, 0.1\n",
    "transform = transforms.Compose([\n",
    "    transforms.Resize((224, 224)),\n",
    "    transforms.ToTensor(),\n",
    "    transforms.Normalize(mean=[0.485, 0.456, 0.406], std=[0.229, 0.224, 0.225])\n",
    "])\n",
    "train_set = datasets.ImageFolder(root=\"./syn_vision_dataset/train\", transform=transform)\n",
    "total_samples = len(train_set)\n",
    "train_samples = int(train_ratio * total_samples)\n",
    "val_samples = total_samples - train_samples\n",
    "train_data, valid_data = torch.utils.data.random_split(train_set, [train_samples, val_samples])\n",
    "train_loader = DataLoader(train_data, batch_size=batch_size, shuffle=True)\n",
    "valid_loader = DataLoader(valid_data, batch_size=1, shuffle=False)\n",
    "class Network(nn.Module):\n",
    "    def __init__(self, num_classes=10):\n",
    "        super(Network, self).__init__()\n",
    "        self.backbone1 = models.resnet152(pretrained=True)\n",
    "        self.feature_extractor1 = nn.Sequential(*list(self.backbone1.children())[:-2])\n",
    "        self.feature_extractor2 = nn.Sequential(*list(self.backbone1.children())[:-50])\n",
    "        self.feature_extractor3 = nn.Sequential(*list(self.backbone1.children())[:-100])\n",
    "        self.global_pool = nn.AdaptiveAvgPool2d(1)\n",
    "        self.local_pool = nn.AdaptiveAvgPool2d((4, 4))\n",
    "        self.fc1 = nn.Linear(34816, 256)\n",
    "        self.fc2 = nn.Linear(51, 256)\n",
    "        self.fc3 = nn.Linear(51, 256)\n",
    "        self.fc_out1 = nn.Linear(256, num_classes)\n",
    "        self.fc_out2 = nn.Linear(256, num_classes)\n",
    "        self.fc_out3 = nn.Linear(256, num_classes)\n",
    "        self.fc_out_final = nn.Linear(6, num_classes)\n",
    "    def forward(self, x):\n",
    "        features1 = self.feature_extractor1(x)\n",
    "        global_features1 = self.global_pool(features1).view(x.size(0), -1)\n",
    "        local_features1 = self.local_pool(features1).view(x.size(0), -1)\n",
    "        combined_features1 = torch.cat((global_features1, local_features1), dim=1)\n",
    "        features2 = self.feature_extractor2(x)\n",
    "        global_features2 = self.global_pool(features2).view(x.size(0), -1)\n",
    "        local_features2 = self.local_pool(features2).view(x.size(0), -1)\n",
    "        combined_features2 = torch.cat((global_features2, local_features2), dim=1)\n",
    "        features3 = self.feature_extractor3(x)\n",
    "        global_features3 = self.global_pool(features3).view(x.size(0), -1)\n",
    "        local_features3 = self.local_pool(features3).view(x.size(0), -1)\n",
    "        combined_features3 = torch.cat((global_features3, local_features3), dim=1)\n",
    "        out1 = self.fc_out1(self.fc1(combined_features1))\n",
    "        out2 = self.fc_out2(self.fc2(combined_features2))\n",
    "        out3 = self.fc_out3(self.fc3(combined_features3))\n",
    "        out_cat = torch.cat((out1, out2, out3), dim=1)\n",
    "        final_out = self.fc_out_final(out_cat)\n",
    "        return final_out, out1, out2, out3\n",
    "def train_one_epoch(model, optimizer, criterion_main, criterion_aux, train_loader, device):\n",
    "    model.train()\n",
    "    total_loss = 0.0\n",
    "    total_correct = 0\n",
    "    total_samples = 0\n",
    "    for images, labels in tqdm(train_loader, desc=\"Training\", leave=True):\n",
    "        images, labels = images.to(device), labels.to(device)\n",
    "        optimizer.zero_grad()\n",
    "        outputs, out1, out2, out3 = model(images)\n",
    "        loss_main = criterion_main(outputs, labels)\n",
    "        loss_aux = (criterion_aux(out1, labels) + criterion_aux(out2, labels) + criterion_aux(out3, labels)) / 3\n",
    "        loss = loss_weight_main * loss_main + loss_weight_aux * loss_aux\n",
    "        loss.backward()\n",
    "        optimizer.step()\n",
    "        total_loss += loss.item()\n",
    "        _, predicted = torch.max(outputs, 1)\n",
    "        total_correct += (predicted == labels).sum().item()\n",
    "        total_samples += labels.size(0)\n",
    "    avg_loss = total_loss / len(train_loader)\n",
    "    accuracy = total_correct / total_samples * 100\n",
    "    return avg_loss, accuracy\n",
    "def evaluate(model, criterion_main, valid_loader, device):\n",
    "    model.eval()\n",
    "    total_loss = 0.0\n",
    "    total_correct = 0\n",
    "    total_samples = 0\n",
    "    all_labels = []\n",
    "    all_preds = []\n",
    "    with torch.no_grad():\n",
    "        for images, labels in tqdm(valid_loader, desc=\"Evaluating\", leave=True):\n",
    "            images, labels = images.to(device), labels.to(device)\n",
    "            outputs, _, _, _ = model(images)\n",
    "            loss = criterion_main(outputs, labels)\n",
    "            total_loss += loss.item()\n",
    "            _, predicted = torch.max(outputs, 1)\n",
    "            all_labels.extend(labels.cpu().numpy())\n",
    "            all_preds.extend(predicted.cpu().numpy())\n",
    "            total_correct += (predicted == labels).sum().item()\n",
    "            total_samples += labels.size(0)\n",
    "    avg_loss = total_loss / len(valid_loader)\n",
    "    accuracy = total_correct / total_samples * 100\n",
    "    report = classification_report(all_labels, all_preds, target_names=train_set.classes, output_dict=True)\n",
    "    return avg_loss, accuracy, report\n",
    "device = torch.device(\"cuda\" if torch.cuda.is_available() else \"cpu\")\n",
    "model = Network(num_classes=2).to(device)\n",
    "criterion_main = nn.CrossEntropyLoss()\n",
    "criterion_aux = nn.CrossEntropyLoss()\n",
    "optimizer = optim.Adam(model.parameters(), lr=lr)\n",
    "best_valid_acc = 0.0\n",
    "train_losses_phase1, train_accuracies_phase1, valid_losses_phase1, valid_accuracies_phase1 = [], [], [], []\n",
    "train_losses_phase2, train_accuracies_phase2, valid_losses_phase2, valid_accuracies_phase2 = [], [], [], []\n",
    "learning_rates_phase1, learning_rates_phase2 = [], []\n",
    "print(\"Starting Phase 1...\")\n",
    "for epoch in range(num_epochs_phase1):\n",
    "    print(f\"Phase 1 - Epoch [{epoch + 1}/{num_epochs_phase1}]\")\n",
    "    train_loss, train_acc = train_one_epoch(model, optimizer, criterion_main, criterion_aux, train_loader, device)\n",
    "    valid_loss, valid_acc, _ = evaluate(model, criterion_main, valid_loader, device)\n",
    "    train_losses_phase1.append(train_loss)\n",
    "    train_accuracies_phase1.append(train_acc)\n",
    "    valid_losses_phase1.append(valid_loss)\n",
    "    valid_accuracies_phase1.append(valid_acc)\n",
    "    learning_rates_phase1.append(optimizer.param_groups[0]['lr'])  # Track learning rate\n",
    "    print(f\"Train Loss: {train_loss:.4f}, Train Accuracy: {train_acc:.2f}%, \"\n",
    "          f\"Valid Loss: {valid_loss:.4f}, Valid Accuracy: {valid_acc:.2f}%\")\n",
    "    if valid_acc > best_valid_acc:\n",
    "        best_valid_acc = valid_acc\n",
    "        torch.save(model.state_dict(), best_model_path_p1)\n",
    "        print(f\"Best model saved with validation accuracy in phase 1: {valid_acc:.2f}%\")\n",
    "best_valid_acc = 0.0\n",
    "print(\"Loading the best model for Phase 2...\")\n",
    "model.load_state_dict(torch.load(best_model_path_p1))\n",
    "optimizer = optim.Adam(model.parameters(), lr=lr/10)\n",
    "scheduler = torch.optim.lr_scheduler.StepLR(optimizer, step_size=ss, gamma=g)\n",
    "print(\"Starting Phase 2...\")\n",
    "for epoch in range(num_epochs_phase2):\n",
    "    print(f\"Phase 2 - Epoch [{epoch + 1}/{num_epochs_phase2}]\")\n",
    "    train_loss, train_acc = train_one_epoch(model, optimizer, criterion_main, criterion_aux, train_loader, device)\n",
    "    valid_loss, valid_acc, _ = evaluate(model, criterion_main, valid_loader, device)\n",
    "    train_losses_phase2.append(train_loss)\n",
    "    train_accuracies_phase2.append(train_acc)\n",
    "    valid_losses_phase2.append(valid_loss)\n",
    "    valid_accuracies_phase2.append(valid_acc)\n",
    "    learning_rates_phase2.append(optimizer.param_groups[0]['lr'])  \n",
    "    print(f\"Train Loss: {train_loss:.4f}, Train Accuracy: {train_acc:.2f}%, \"\n",
    "          f\"Valid Loss: {valid_loss:.4f}, Valid Accuracy: {valid_acc:.2f}%\")\n",
    "    if valid_acc > best_valid_acc:\n",
    "        best_valid_acc = valid_acc\n",
    "        torch.save(model.state_dict(), best_model_path_p2)\n",
    "        print(f\"Best model saved with validation accuracy phase2: {valid_acc:.2f}%\")\n",
    "    torch.save(model.state_dict(), last_model_path_p2)\n",
    "    print(f\"Last model phase 2 saved : {valid_acc:.2f}%\")\n",
    "    scheduler.step()\n",
    "train_losses = train_losses_phase1 + train_losses_phase2\n",
    "train_accuracies = train_accuracies_phase1 + train_accuracies_phase2\n",
    "valid_losses = valid_losses_phase1 + valid_losses_phase2\n",
    "valid_accuracies = valid_accuracies_phase1 + valid_accuracies_phase2\n",
    "learning_rates = learning_rates_phase1 + learning_rates_phase2\n",
    "plt.figure(figsize=(15, 10))\n",
    "plt.subplot(3, 1, 1)\n",
    "plt.plot(range(1, len(train_losses) + 1), train_losses, label=\"Train Loss\")\n",
    "plt.plot(range(1, len(valid_losses) + 1), valid_losses, label=\"Validation Loss\")\n",
    "plt.axvline(x=num_epochs_phase1, color='r', linestyle='--', label=\"Phase 1 End\")\n",
    "plt.title(\"Loss vs Epochs\")\n",
    "plt.xlabel(\"Epochs\")\n",
    "plt.ylabel(\"Loss\")\n",
    "plt.legend()\n",
    "plt.subplot(3, 1, 2)\n",
    "plt.plot(range(1, len(train_accuracies) + 1), train_accuracies, label=\"Train Accuracy\")\n",
    "plt.plot(range(1, len(valid_accuracies) + 1), valid_accuracies, label=\"Validation Accuracy\")\n",
    "plt.axvline(x=num_epochs_phase1, color='r', linestyle='--', label=\"Phase 1 End\")\n",
    "plt.title(\"Accuracy vs Epochs\")\n",
    "plt.xlabel(\"Epochs\")\n",
    "plt.ylabel(\"Accuracy (%)\")\n",
    "plt.legend()\n",
    "plt.subplot(3, 1, 3)\n",
    "plt.plot(range(1, len(learning_rates) + 1), learning_rates, label=\"Learning Rate\")\n",
    "plt.axvline(x=num_epochs_phase1, color='r', linestyle='--', label=\"Phase 1 End\")\n",
    "plt.title(\"Learning Rate vs Epochs\")\n",
    "plt.xlabel(\"Epochs\")\n",
    "plt.ylabel(\"Learning Rate\")\n",
    "plt.legend()\n",
    "plt.tight_layout()\n",
    "plt.show()"
   ]
  },
  {
   "cell_type": "code",
   "execution_count": null,
   "id": "5009f2cf",
   "metadata": {},
   "outputs": [],
   "source": []
  }
 ],
 "metadata": {
  "kernelspec": {
   "display_name": "Python 3 (ipykernel)",
   "language": "python",
   "name": "python3"
  },
  "language_info": {
   "codemirror_mode": {
    "name": "ipython",
    "version": 3
   },
   "file_extension": ".py",
   "mimetype": "text/x-python",
   "name": "python",
   "nbconvert_exporter": "python",
   "pygments_lexer": "ipython3",
   "version": "3.10.9"
  }
 },
 "nbformat": 4,
 "nbformat_minor": 5
}
