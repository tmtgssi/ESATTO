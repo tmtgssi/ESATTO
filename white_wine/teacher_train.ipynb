{
 "cells": [
  {
   "cell_type": "code",
   "execution_count": 1,
   "id": "4ff52092",
   "metadata": {},
   "outputs": [
    {
     "name": "stderr",
     "output_type": "stream",
     "text": [
      "/home/philipslinux/anaconda3/lib/python3.9/site-packages/torchvision/models/_utils.py:208: UserWarning: The parameter 'pretrained' is deprecated since 0.13 and may be removed in the future, please use 'weights' instead.\n",
      "  warnings.warn(\n",
      "/home/philipslinux/anaconda3/lib/python3.9/site-packages/torchvision/models/_utils.py:223: UserWarning: Arguments other than a weight enum or `None` for 'weights' are deprecated since 0.13 and may be removed in the future. The current behavior is equivalent to passing `weights=ResNet152_Weights.IMAGENET1K_V1`. You can also use `weights=ResNet152_Weights.DEFAULT` to get the most up-to-date weights.\n",
      "  warnings.warn(msg)\n"
     ]
    },
    {
     "name": "stdout",
     "output_type": "stream",
     "text": [
      "Starting Phase 1...\n",
      "Phase 1 - Epoch [1/30]\n"
     ]
    },
    {
     "name": "stderr",
     "output_type": "stream",
     "text": [
      "Training: 100%|███████████████████████████████| 120/120 [00:31<00:00,  3.79it/s]\n",
      "Evaluating: 100%|███████████████████████████| 1029/1029 [00:17<00:00, 60.10it/s]\n",
      "/home/philipslinux/anaconda3/lib/python3.9/site-packages/sklearn/metrics/_classification.py:1334: UndefinedMetricWarning: Precision and F-score are ill-defined and being set to 0.0 in labels with no predicted samples. Use `zero_division` parameter to control this behavior.\n",
      "  _warn_prf(average, modifier, msg_start, len(result))\n",
      "/home/philipslinux/anaconda3/lib/python3.9/site-packages/sklearn/metrics/_classification.py:1334: UndefinedMetricWarning: Precision and F-score are ill-defined and being set to 0.0 in labels with no predicted samples. Use `zero_division` parameter to control this behavior.\n",
      "  _warn_prf(average, modifier, msg_start, len(result))\n",
      "/home/philipslinux/anaconda3/lib/python3.9/site-packages/sklearn/metrics/_classification.py:1334: UndefinedMetricWarning: Precision and F-score are ill-defined and being set to 0.0 in labels with no predicted samples. Use `zero_division` parameter to control this behavior.\n",
      "  _warn_prf(average, modifier, msg_start, len(result))\n"
     ]
    },
    {
     "name": "stdout",
     "output_type": "stream",
     "text": [
      "Train Loss: 0.4979, Train Accuracy: 78.99%, Valid Loss: 0.4748, Valid Accuracy: 76.19%\n",
      "Best model saved with validation accuracy in phase 1: 76.19%\n",
      "Phase 1 - Epoch [2/30]\n"
     ]
    },
    {
     "name": "stderr",
     "output_type": "stream",
     "text": [
      "Training: 100%|███████████████████████████████| 120/120 [00:31<00:00,  3.86it/s]\n",
      "Evaluating: 100%|███████████████████████████| 1029/1029 [00:15<00:00, 64.57it/s]\n"
     ]
    },
    {
     "name": "stdout",
     "output_type": "stream",
     "text": [
      "Train Loss: 0.4590, Train Accuracy: 79.32%, Valid Loss: 0.4755, Valid Accuracy: 76.09%\n",
      "Phase 1 - Epoch [3/30]\n"
     ]
    },
    {
     "name": "stderr",
     "output_type": "stream",
     "text": [
      "Training: 100%|███████████████████████████████| 120/120 [00:30<00:00,  3.88it/s]\n",
      "Evaluating: 100%|███████████████████████████| 1029/1029 [00:16<00:00, 64.00it/s]\n",
      "/home/philipslinux/anaconda3/lib/python3.9/site-packages/sklearn/metrics/_classification.py:1334: UndefinedMetricWarning: Precision and F-score are ill-defined and being set to 0.0 in labels with no predicted samples. Use `zero_division` parameter to control this behavior.\n",
      "  _warn_prf(average, modifier, msg_start, len(result))\n",
      "/home/philipslinux/anaconda3/lib/python3.9/site-packages/sklearn/metrics/_classification.py:1334: UndefinedMetricWarning: Precision and F-score are ill-defined and being set to 0.0 in labels with no predicted samples. Use `zero_division` parameter to control this behavior.\n",
      "  _warn_prf(average, modifier, msg_start, len(result))\n",
      "/home/philipslinux/anaconda3/lib/python3.9/site-packages/sklearn/metrics/_classification.py:1334: UndefinedMetricWarning: Precision and F-score are ill-defined and being set to 0.0 in labels with no predicted samples. Use `zero_division` parameter to control this behavior.\n",
      "  _warn_prf(average, modifier, msg_start, len(result))\n"
     ]
    },
    {
     "name": "stdout",
     "output_type": "stream",
     "text": [
      "Train Loss: 0.4261, Train Accuracy: 79.70%, Valid Loss: 0.5064, Valid Accuracy: 76.19%\n",
      "Phase 1 - Epoch [4/30]\n"
     ]
    },
    {
     "name": "stderr",
     "output_type": "stream",
     "text": [
      "Training: 100%|███████████████████████████████| 120/120 [00:29<00:00,  4.01it/s]\n",
      "Evaluating: 100%|███████████████████████████| 1029/1029 [00:16<00:00, 62.85it/s]\n"
     ]
    },
    {
     "name": "stdout",
     "output_type": "stream",
     "text": [
      "Train Loss: 0.4016, Train Accuracy: 81.41%, Valid Loss: 0.4705, Valid Accuracy: 76.58%\n",
      "Best model saved with validation accuracy in phase 1: 76.58%\n",
      "Phase 1 - Epoch [5/30]\n"
     ]
    },
    {
     "name": "stderr",
     "output_type": "stream",
     "text": [
      "Training: 100%|███████████████████████████████| 120/120 [00:30<00:00,  3.88it/s]\n",
      "Evaluating: 100%|███████████████████████████| 1029/1029 [00:16<00:00, 62.60it/s]\n"
     ]
    },
    {
     "name": "stdout",
     "output_type": "stream",
     "text": [
      "Train Loss: 0.3753, Train Accuracy: 82.16%, Valid Loss: 0.4487, Valid Accuracy: 79.40%\n",
      "Best model saved with validation accuracy in phase 1: 79.40%\n",
      "Phase 1 - Epoch [6/30]\n"
     ]
    },
    {
     "name": "stderr",
     "output_type": "stream",
     "text": [
      "Training: 100%|███████████████████████████████| 120/120 [00:31<00:00,  3.86it/s]\n",
      "Evaluating: 100%|███████████████████████████| 1029/1029 [00:15<00:00, 65.51it/s]\n"
     ]
    },
    {
     "name": "stdout",
     "output_type": "stream",
     "text": [
      "Train Loss: 0.3326, Train Accuracy: 85.37%, Valid Loss: 0.7058, Valid Accuracy: 76.09%\n",
      "Phase 1 - Epoch [7/30]\n"
     ]
    },
    {
     "name": "stderr",
     "output_type": "stream",
     "text": [
      "Training: 100%|███████████████████████████████| 120/120 [00:37<00:00,  3.17it/s]\n",
      "Evaluating: 100%|███████████████████████████| 1029/1029 [00:17<00:00, 59.64it/s]\n"
     ]
    },
    {
     "name": "stdout",
     "output_type": "stream",
     "text": [
      "Train Loss: 0.3065, Train Accuracy: 86.45%, Valid Loss: 0.6277, Valid Accuracy: 77.45%\n",
      "Phase 1 - Epoch [8/30]\n"
     ]
    },
    {
     "name": "stderr",
     "output_type": "stream",
     "text": [
      "Training: 100%|███████████████████████████████| 120/120 [00:31<00:00,  3.81it/s]\n",
      "Evaluating: 100%|███████████████████████████| 1029/1029 [00:16<00:00, 62.85it/s]\n"
     ]
    },
    {
     "name": "stdout",
     "output_type": "stream",
     "text": [
      "Train Loss: 0.2719, Train Accuracy: 88.66%, Valid Loss: 0.4981, Valid Accuracy: 77.07%\n",
      "Phase 1 - Epoch [9/30]\n"
     ]
    },
    {
     "name": "stderr",
     "output_type": "stream",
     "text": [
      "Training: 100%|███████████████████████████████| 120/120 [00:30<00:00,  3.98it/s]\n",
      "Evaluating: 100%|███████████████████████████| 1029/1029 [00:15<00:00, 65.04it/s]\n"
     ]
    },
    {
     "name": "stdout",
     "output_type": "stream",
     "text": [
      "Train Loss: 0.2312, Train Accuracy: 91.20%, Valid Loss: 0.5229, Valid Accuracy: 79.20%\n",
      "Phase 1 - Epoch [10/30]\n"
     ]
    },
    {
     "name": "stderr",
     "output_type": "stream",
     "text": [
      "Training: 100%|███████████████████████████████| 120/120 [00:30<00:00,  3.96it/s]\n",
      "Evaluating: 100%|███████████████████████████| 1029/1029 [00:16<00:00, 62.29it/s]\n"
     ]
    },
    {
     "name": "stdout",
     "output_type": "stream",
     "text": [
      "Train Loss: 0.2160, Train Accuracy: 91.58%, Valid Loss: 0.6041, Valid Accuracy: 78.13%\n",
      "Phase 1 - Epoch [11/30]\n"
     ]
    },
    {
     "name": "stderr",
     "output_type": "stream",
     "text": [
      "Training: 100%|███████████████████████████████| 120/120 [00:30<00:00,  3.98it/s]\n",
      "Evaluating: 100%|███████████████████████████| 1029/1029 [00:15<00:00, 65.23it/s]\n"
     ]
    },
    {
     "name": "stdout",
     "output_type": "stream",
     "text": [
      "Train Loss: 0.1841, Train Accuracy: 93.71%, Valid Loss: 0.7155, Valid Accuracy: 80.17%\n",
      "Best model saved with validation accuracy in phase 1: 80.17%\n",
      "Phase 1 - Epoch [12/30]\n"
     ]
    },
    {
     "name": "stderr",
     "output_type": "stream",
     "text": [
      "Training: 100%|███████████████████████████████| 120/120 [00:30<00:00,  3.89it/s]\n",
      "Evaluating: 100%|███████████████████████████| 1029/1029 [00:16<00:00, 62.98it/s]\n"
     ]
    },
    {
     "name": "stdout",
     "output_type": "stream",
     "text": [
      "Train Loss: 0.1214, Train Accuracy: 96.17%, Valid Loss: 0.8729, Valid Accuracy: 75.02%\n",
      "Phase 1 - Epoch [13/30]\n"
     ]
    },
    {
     "name": "stderr",
     "output_type": "stream",
     "text": [
      "Training: 100%|███████████████████████████████| 120/120 [00:30<00:00,  3.89it/s]\n",
      "Evaluating: 100%|███████████████████████████| 1029/1029 [00:16<00:00, 61.23it/s]\n"
     ]
    },
    {
     "name": "stdout",
     "output_type": "stream",
     "text": [
      "Train Loss: 0.1427, Train Accuracy: 95.62%, Valid Loss: 0.7079, Valid Accuracy: 73.76%\n",
      "Phase 1 - Epoch [14/30]\n"
     ]
    },
    {
     "name": "stderr",
     "output_type": "stream",
     "text": [
      "Training: 100%|███████████████████████████████| 120/120 [00:34<00:00,  3.51it/s]\n",
      "Evaluating: 100%|███████████████████████████| 1029/1029 [00:15<00:00, 64.63it/s]\n"
     ]
    },
    {
     "name": "stdout",
     "output_type": "stream",
     "text": [
      "Train Loss: 0.1281, Train Accuracy: 96.25%, Valid Loss: 0.7238, Valid Accuracy: 78.81%\n",
      "Phase 1 - Epoch [15/30]\n"
     ]
    },
    {
     "name": "stderr",
     "output_type": "stream",
     "text": [
      "Training: 100%|███████████████████████████████| 120/120 [00:31<00:00,  3.80it/s]\n",
      "Evaluating: 100%|███████████████████████████| 1029/1029 [00:16<00:00, 62.69it/s]\n"
     ]
    },
    {
     "name": "stdout",
     "output_type": "stream",
     "text": [
      "Train Loss: 0.1232, Train Accuracy: 96.50%, Valid Loss: 1.1187, Valid Accuracy: 79.88%\n",
      "Phase 1 - Epoch [16/30]\n"
     ]
    },
    {
     "name": "stderr",
     "output_type": "stream",
     "text": [
      "Training: 100%|███████████████████████████████| 120/120 [00:30<00:00,  3.98it/s]\n",
      "Evaluating: 100%|███████████████████████████| 1029/1029 [00:16<00:00, 63.34it/s]\n"
     ]
    },
    {
     "name": "stdout",
     "output_type": "stream",
     "text": [
      "Train Loss: 0.0963, Train Accuracy: 97.62%, Valid Loss: 0.7914, Valid Accuracy: 80.47%\n",
      "Best model saved with validation accuracy in phase 1: 80.47%\n",
      "Phase 1 - Epoch [17/30]\n"
     ]
    },
    {
     "name": "stderr",
     "output_type": "stream",
     "text": [
      "Training: 100%|███████████████████████████████| 120/120 [00:30<00:00,  3.88it/s]\n",
      "Evaluating: 100%|███████████████████████████| 1029/1029 [00:15<00:00, 64.70it/s]\n"
     ]
    },
    {
     "name": "stdout",
     "output_type": "stream",
     "text": [
      "Train Loss: 0.0639, Train Accuracy: 99.08%, Valid Loss: 0.8867, Valid Accuracy: 78.62%\n",
      "Phase 1 - Epoch [18/30]\n"
     ]
    },
    {
     "name": "stderr",
     "output_type": "stream",
     "text": [
      "Training: 100%|███████████████████████████████| 120/120 [00:31<00:00,  3.85it/s]\n",
      "Evaluating: 100%|███████████████████████████| 1029/1029 [00:16<00:00, 63.64it/s]\n"
     ]
    },
    {
     "name": "stdout",
     "output_type": "stream",
     "text": [
      "Train Loss: 0.0842, Train Accuracy: 98.37%, Valid Loss: 0.8898, Valid Accuracy: 76.77%\n",
      "Phase 1 - Epoch [19/30]\n"
     ]
    },
    {
     "name": "stderr",
     "output_type": "stream",
     "text": [
      "Training: 100%|███████████████████████████████| 120/120 [00:30<00:00,  3.96it/s]\n",
      "Evaluating: 100%|███████████████████████████| 1029/1029 [00:15<00:00, 64.48it/s]\n"
     ]
    },
    {
     "name": "stdout",
     "output_type": "stream",
     "text": [
      "Train Loss: 0.0901, Train Accuracy: 98.04%, Valid Loss: 0.9840, Valid Accuracy: 79.11%\n",
      "Phase 1 - Epoch [20/30]\n"
     ]
    },
    {
     "name": "stderr",
     "output_type": "stream",
     "text": [
      "Training: 100%|███████████████████████████████| 120/120 [00:30<00:00,  3.97it/s]\n",
      "Evaluating: 100%|███████████████████████████| 1029/1029 [00:21<00:00, 47.92it/s]\n"
     ]
    },
    {
     "name": "stdout",
     "output_type": "stream",
     "text": [
      "Train Loss: 0.0845, Train Accuracy: 97.79%, Valid Loss: 0.8279, Valid Accuracy: 74.34%\n",
      "Phase 1 - Epoch [21/30]\n"
     ]
    },
    {
     "name": "stderr",
     "output_type": "stream",
     "text": [
      "Training: 100%|███████████████████████████████| 120/120 [00:31<00:00,  3.76it/s]\n",
      "Evaluating: 100%|███████████████████████████| 1029/1029 [00:15<00:00, 64.67it/s]\n"
     ]
    },
    {
     "name": "stdout",
     "output_type": "stream",
     "text": [
      "Train Loss: 0.0745, Train Accuracy: 98.46%, Valid Loss: 0.9530, Valid Accuracy: 75.41%\n",
      "Phase 1 - Epoch [22/30]\n"
     ]
    },
    {
     "name": "stderr",
     "output_type": "stream",
     "text": [
      "Training: 100%|███████████████████████████████| 120/120 [00:30<00:00,  3.95it/s]\n",
      "Evaluating: 100%|███████████████████████████| 1029/1029 [00:16<00:00, 62.85it/s]\n"
     ]
    },
    {
     "name": "stdout",
     "output_type": "stream",
     "text": [
      "Train Loss: 0.0548, Train Accuracy: 99.37%, Valid Loss: 1.0205, Valid Accuracy: 77.07%\n",
      "Phase 1 - Epoch [23/30]\n"
     ]
    },
    {
     "name": "stderr",
     "output_type": "stream",
     "text": [
      "Training: 100%|███████████████████████████████| 120/120 [00:30<00:00,  3.89it/s]\n",
      "Evaluating: 100%|███████████████████████████| 1029/1029 [00:15<00:00, 64.61it/s]\n"
     ]
    },
    {
     "name": "stdout",
     "output_type": "stream",
     "text": [
      "Train Loss: 0.0582, Train Accuracy: 99.21%, Valid Loss: 1.1094, Valid Accuracy: 80.08%\n",
      "Phase 1 - Epoch [24/30]\n"
     ]
    },
    {
     "name": "stderr",
     "output_type": "stream",
     "text": [
      "Training: 100%|███████████████████████████████| 120/120 [00:30<00:00,  3.96it/s]\n",
      "Evaluating: 100%|███████████████████████████| 1029/1029 [00:15<00:00, 64.56it/s]\n"
     ]
    },
    {
     "name": "stdout",
     "output_type": "stream",
     "text": [
      "Train Loss: 0.0865, Train Accuracy: 98.17%, Valid Loss: 0.8682, Valid Accuracy: 76.29%\n",
      "Phase 1 - Epoch [25/30]\n"
     ]
    },
    {
     "name": "stderr",
     "output_type": "stream",
     "text": [
      "Training: 100%|███████████████████████████████| 120/120 [00:30<00:00,  3.96it/s]\n",
      "Evaluating: 100%|███████████████████████████| 1029/1029 [00:16<00:00, 62.10it/s]\n"
     ]
    },
    {
     "name": "stdout",
     "output_type": "stream",
     "text": [
      "Train Loss: 0.0497, Train Accuracy: 99.58%, Valid Loss: 1.3042, Valid Accuracy: 79.98%\n",
      "Phase 1 - Epoch [26/30]\n"
     ]
    },
    {
     "name": "stderr",
     "output_type": "stream",
     "text": [
      "Training: 100%|███████████████████████████████| 120/120 [00:30<00:00,  3.98it/s]\n",
      "Evaluating: 100%|███████████████████████████| 1029/1029 [00:15<00:00, 65.20it/s]\n"
     ]
    },
    {
     "name": "stdout",
     "output_type": "stream",
     "text": [
      "Train Loss: 0.0484, Train Accuracy: 99.62%, Valid Loss: 1.6381, Valid Accuracy: 79.01%\n",
      "Phase 1 - Epoch [27/30]\n"
     ]
    },
    {
     "name": "stderr",
     "output_type": "stream",
     "text": [
      "Training: 100%|███████████████████████████████| 120/120 [00:30<00:00,  3.94it/s]\n",
      "Evaluating: 100%|███████████████████████████| 1029/1029 [00:15<00:00, 64.58it/s]\n"
     ]
    },
    {
     "name": "stdout",
     "output_type": "stream",
     "text": [
      "Train Loss: 0.0652, Train Accuracy: 98.92%, Valid Loss: 1.2598, Valid Accuracy: 78.81%\n",
      "Phase 1 - Epoch [28/30]\n"
     ]
    },
    {
     "name": "stderr",
     "output_type": "stream",
     "text": [
      "Training: 100%|███████████████████████████████| 120/120 [00:30<00:00,  3.88it/s]\n",
      "Evaluating: 100%|███████████████████████████| 1029/1029 [00:15<00:00, 64.42it/s]\n"
     ]
    },
    {
     "name": "stdout",
     "output_type": "stream",
     "text": [
      "Train Loss: 0.0561, Train Accuracy: 99.25%, Valid Loss: 1.3010, Valid Accuracy: 80.56%\n",
      "Best model saved with validation accuracy in phase 1: 80.56%\n",
      "Phase 1 - Epoch [29/30]\n"
     ]
    },
    {
     "name": "stderr",
     "output_type": "stream",
     "text": [
      "Training: 100%|███████████████████████████████| 120/120 [00:31<00:00,  3.86it/s]\n",
      "Evaluating: 100%|███████████████████████████| 1029/1029 [00:16<00:00, 64.20it/s]\n"
     ]
    },
    {
     "name": "stdout",
     "output_type": "stream",
     "text": [
      "Train Loss: 0.0512, Train Accuracy: 99.42%, Valid Loss: 1.3287, Valid Accuracy: 78.13%\n",
      "Phase 1 - Epoch [30/30]\n"
     ]
    },
    {
     "name": "stderr",
     "output_type": "stream",
     "text": [
      "Training: 100%|███████████████████████████████| 120/120 [00:30<00:00,  3.96it/s]\n",
      "Evaluating: 100%|███████████████████████████| 1029/1029 [00:16<00:00, 62.85it/s]\n",
      "/tmp/ipykernel_2474129/2304863793.py:168: FutureWarning: You are using `torch.load` with `weights_only=False` (the current default value), which uses the default pickle module implicitly. It is possible to construct malicious pickle data which will execute arbitrary code during unpickling (See https://github.com/pytorch/pytorch/blob/main/SECURITY.md#untrusted-models for more details). In a future release, the default value for `weights_only` will be flipped to `True`. This limits the functions that could be executed during unpickling. Arbitrary objects will no longer be allowed to be loaded via this mode unless they are explicitly allowlisted by the user via `torch.serialization.add_safe_globals`. We recommend you start setting `weights_only=True` for any use case where you don't have full control of the loaded file. Please open an issue on GitHub for any issues related to this experimental feature.\n",
      "  model.load_state_dict(torch.load(best_model_path_p1))\n"
     ]
    },
    {
     "name": "stdout",
     "output_type": "stream",
     "text": [
      "Train Loss: 0.0506, Train Accuracy: 99.42%, Valid Loss: 1.2815, Valid Accuracy: 80.17%\n",
      "Loading the best model for Phase 2...\n",
      "Starting Phase 2...\n",
      "Phase 2 - Epoch [1/10]\n"
     ]
    },
    {
     "name": "stderr",
     "output_type": "stream",
     "text": [
      "Training: 100%|███████████████████████████████| 120/120 [00:30<00:00,  3.97it/s]\n",
      "Evaluating: 100%|███████████████████████████| 1029/1029 [00:35<00:00, 29.16it/s]\n"
     ]
    },
    {
     "name": "stdout",
     "output_type": "stream",
     "text": [
      "Train Loss: 0.0385, Train Accuracy: 99.87%, Valid Loss: 1.2569, Valid Accuracy: 79.69%\n",
      "Best model saved with validation accuracy phase2: 79.69%\n",
      "Last model phase 2 saved : 79.69%\n",
      "Phase 2 - Epoch [2/10]\n"
     ]
    },
    {
     "name": "stderr",
     "output_type": "stream",
     "text": [
      "Training: 100%|███████████████████████████████| 120/120 [03:47<00:00,  1.89s/it]\n",
      "Evaluating: 100%|███████████████████████████| 1029/1029 [00:16<00:00, 63.74it/s]\n"
     ]
    },
    {
     "name": "stdout",
     "output_type": "stream",
     "text": [
      "Train Loss: 0.0372, Train Accuracy: 99.96%, Valid Loss: 1.2753, Valid Accuracy: 80.47%\n",
      "Best model saved with validation accuracy phase2: 80.47%\n",
      "Last model phase 2 saved : 80.47%\n",
      "Phase 2 - Epoch [3/10]\n"
     ]
    },
    {
     "name": "stderr",
     "output_type": "stream",
     "text": [
      "Training: 100%|███████████████████████████████| 120/120 [00:32<00:00,  3.71it/s]\n",
      "Evaluating: 100%|███████████████████████████| 1029/1029 [00:16<00:00, 61.72it/s]\n"
     ]
    },
    {
     "name": "stdout",
     "output_type": "stream",
     "text": [
      "Train Loss: 0.0363, Train Accuracy: 100.00%, Valid Loss: 1.2554, Valid Accuracy: 78.91%\n",
      "Last model phase 2 saved : 78.91%\n",
      "Phase 2 - Epoch [4/10]\n"
     ]
    },
    {
     "name": "stderr",
     "output_type": "stream",
     "text": [
      "Training: 100%|███████████████████████████████| 120/120 [00:33<00:00,  3.58it/s]\n",
      "Evaluating: 100%|███████████████████████████| 1029/1029 [00:24<00:00, 42.56it/s]\n"
     ]
    },
    {
     "name": "stdout",
     "output_type": "stream",
     "text": [
      "Train Loss: 0.0359, Train Accuracy: 100.00%, Valid Loss: 1.2668, Valid Accuracy: 79.59%\n",
      "Last model phase 2 saved : 79.59%\n",
      "Phase 2 - Epoch [5/10]\n"
     ]
    },
    {
     "name": "stderr",
     "output_type": "stream",
     "text": [
      "Training: 100%|███████████████████████████████| 120/120 [00:32<00:00,  3.65it/s]\n",
      "Evaluating: 100%|███████████████████████████| 1029/1029 [00:15<00:00, 64.97it/s]\n"
     ]
    },
    {
     "name": "stdout",
     "output_type": "stream",
     "text": [
      "Train Loss: 0.0371, Train Accuracy: 99.87%, Valid Loss: 1.2530, Valid Accuracy: 79.01%\n",
      "Last model phase 2 saved : 79.01%\n",
      "Phase 2 - Epoch [6/10]\n"
     ]
    },
    {
     "name": "stderr",
     "output_type": "stream",
     "text": [
      "Training: 100%|███████████████████████████████| 120/120 [00:31<00:00,  3.79it/s]\n",
      "Evaluating: 100%|███████████████████████████| 1029/1029 [00:16<00:00, 64.10it/s]\n"
     ]
    },
    {
     "name": "stdout",
     "output_type": "stream",
     "text": [
      "Train Loss: 0.0361, Train Accuracy: 100.00%, Valid Loss: 1.2980, Valid Accuracy: 80.27%\n",
      "Last model phase 2 saved : 80.27%\n",
      "Phase 2 - Epoch [7/10]\n"
     ]
    },
    {
     "name": "stderr",
     "output_type": "stream",
     "text": [
      "Training: 100%|███████████████████████████████| 120/120 [00:30<00:00,  3.89it/s]\n",
      "Evaluating: 100%|███████████████████████████| 1029/1029 [00:16<00:00, 64.03it/s]\n"
     ]
    },
    {
     "name": "stdout",
     "output_type": "stream",
     "text": [
      "Train Loss: 0.0363, Train Accuracy: 100.00%, Valid Loss: 1.2448, Valid Accuracy: 78.81%\n",
      "Last model phase 2 saved : 78.81%\n",
      "Phase 2 - Epoch [8/10]\n"
     ]
    },
    {
     "name": "stderr",
     "output_type": "stream",
     "text": [
      "Training: 100%|███████████████████████████████| 120/120 [00:36<00:00,  3.32it/s]\n",
      "Evaluating: 100%|███████████████████████████| 1029/1029 [00:16<00:00, 61.71it/s]\n"
     ]
    },
    {
     "name": "stdout",
     "output_type": "stream",
     "text": [
      "Train Loss: 0.0361, Train Accuracy: 100.00%, Valid Loss: 1.2755, Valid Accuracy: 79.79%\n",
      "Last model phase 2 saved : 79.79%\n",
      "Phase 2 - Epoch [9/10]\n"
     ]
    },
    {
     "name": "stderr",
     "output_type": "stream",
     "text": [
      "Training: 100%|███████████████████████████████| 120/120 [00:33<00:00,  3.57it/s]\n",
      "Evaluating: 100%|███████████████████████████| 1029/1029 [00:16<00:00, 61.28it/s]\n"
     ]
    },
    {
     "name": "stdout",
     "output_type": "stream",
     "text": [
      "Train Loss: 0.0364, Train Accuracy: 99.96%, Valid Loss: 1.2679, Valid Accuracy: 79.79%\n",
      "Last model phase 2 saved : 79.79%\n",
      "Phase 2 - Epoch [10/10]\n"
     ]
    },
    {
     "name": "stderr",
     "output_type": "stream",
     "text": [
      "Training: 100%|███████████████████████████████| 120/120 [00:31<00:00,  3.87it/s]\n",
      "Evaluating: 100%|███████████████████████████| 1029/1029 [00:16<00:00, 63.40it/s]\n"
     ]
    },
    {
     "name": "stdout",
     "output_type": "stream",
     "text": [
      "Train Loss: 0.0363, Train Accuracy: 99.96%, Valid Loss: 1.2751, Valid Accuracy: 79.79%\n",
      "Last model phase 2 saved : 79.79%\n"
     ]
    },
    {
     "data": {
      "image/png": "[encoded data removed]",
      "text/plain": [
       "<Figure size 1500x1000 with 3 Axes>"
      ]
     },
     "metadata": {},
     "output_type": "display_data"
    }
   ],
   "source": [
    "import os\n",
    "import torch\n",
    "import torch.nn as nn\n",
    "import torch.optim as optim\n",
    "from torch.utils.data import DataLoader\n",
    "from torchvision import datasets, transforms\n",
    "from sklearn.metrics import classification_report\n",
    "import numpy as np\n",
    "import matplotlib.pyplot as plt\n",
    "from tqdm import tqdm\n",
    "from torchvision import transforms, models, datasets\n",
    "train_ratio = 0.7\n",
    "batch_size = 20\n",
    "num_epochs_phase1 = 30\n",
    "num_epochs_phase2 = 10\n",
    "lr = 0.00001\n",
    "ss=1\n",
    "g=0.2\n",
    "best_model_path_p1 = \"./checkpoints/best_model_res152_dif_p1.pth\"\n",
    "best_model_path_p2 = \"./checkpoints/best_model_res152_dif_p2.pth\"\n",
    "last_model_path_p2 = \"./checkpoints/last_model_res152_dif_p2.pth\"\n",
    "loss_weight_main, loss_weight_aux = 0.9, 0.1\n",
    "transform = transforms.Compose([\n",
    "    transforms.Resize((224, 224)),\n",
    "    transforms.ToTensor(),\n",
    "    transforms.Normalize(mean=[0.485, 0.456, 0.406], std=[0.229, 0.224, 0.225])\n",
    "])\n",
    "train_set = datasets.ImageFolder(root=\"./syn_vision_dataset/train\", transform=transform)\n",
    "total_samples = len(train_set)\n",
    "train_samples = int(train_ratio * total_samples)\n",
    "val_samples = total_samples - train_samples\n",
    "train_data, valid_data = torch.utils.data.random_split(train_set, [train_samples, val_samples])\n",
    "train_loader = DataLoader(train_data, batch_size=batch_size, shuffle=True)\n",
    "valid_loader = DataLoader(valid_data, batch_size=1, shuffle=False)\n",
    "class Network(nn.Module):\n",
    "    def __init__(self, num_classes=10):\n",
    "        super(Network, self).__init__()\n",
    "        self.backbone1 = models.resnet152(pretrained=True)\n",
    "        self.feature_extractor1 = nn.Sequential(*list(self.backbone1.children())[:-2])\n",
    "        self.feature_extractor2 = nn.Sequential(*list(self.backbone1.children())[:-50])\n",
    "        self.feature_extractor3 = nn.Sequential(*list(self.backbone1.children())[:-100])\n",
    "        self.global_pool = nn.AdaptiveAvgPool2d(1)\n",
    "        self.local_pool = nn.AdaptiveAvgPool2d((4, 4))\n",
    "        self.fc1 = nn.Linear(34816, 256)\n",
    "        self.fc2 = nn.Linear(51, 256)\n",
    "        self.fc3 = nn.Linear(51, 256)\n",
    "        self.fc_out1 = nn.Linear(256, num_classes)\n",
    "        self.fc_out2 = nn.Linear(256, num_classes)\n",
    "        self.fc_out3 = nn.Linear(256, num_classes)\n",
    "        self.fc_out_final = nn.Linear(6, num_classes)\n",
    "    def forward(self, x):\n",
    "        features1 = self.feature_extractor1(x)\n",
    "        global_features1 = self.global_pool(features1).view(x.size(0), -1)\n",
    "        local_features1 = self.local_pool(features1).view(x.size(0), -1)\n",
    "        combined_features1 = torch.cat((global_features1, local_features1), dim=1)\n",
    "        features2 = self.feature_extractor2(x)\n",
    "        global_features2 = self.global_pool(features2).view(x.size(0), -1)\n",
    "        local_features2 = self.local_pool(features2).view(x.size(0), -1)\n",
    "        combined_features2 = torch.cat((global_features2, local_features2), dim=1)\n",
    "        features3 = self.feature_extractor3(x)\n",
    "        global_features3 = self.global_pool(features3).view(x.size(0), -1)\n",
    "        local_features3 = self.local_pool(features3).view(x.size(0), -1)\n",
    "        combined_features3 = torch.cat((global_features3, local_features3), dim=1)\n",
    "        out1 = self.fc_out1(self.fc1(combined_features1))\n",
    "        out2 = self.fc_out2(self.fc2(combined_features2))\n",
    "        out3 = self.fc_out3(self.fc3(combined_features3))\n",
    "        out_cat = torch.cat((out1, out2, out3), dim=1)\n",
    "        final_out = self.fc_out_final(out_cat)\n",
    "        return final_out, out1, out2, out3\n",
    "def train_one_epoch(model, optimizer, criterion_main, criterion_aux, train_loader, device):\n",
    "    model.train()\n",
    "    total_loss = 0.0\n",
    "    total_correct = 0\n",
    "    total_samples = 0\n",
    "    for images, labels in tqdm(train_loader, desc=\"Training\", leave=True):\n",
    "        images, labels = images.to(device), labels.to(device)\n",
    "        optimizer.zero_grad()\n",
    "        outputs, out1, out2, out3 = model(images)\n",
    "        loss_main = criterion_main(outputs, labels)\n",
    "        loss_aux = (criterion_aux(out1, labels) + criterion_aux(out2, labels) + criterion_aux(out3, labels)) / 3\n",
    "        loss = loss_weight_main * loss_main + loss_weight_aux * loss_aux\n",
    "        loss.backward()\n",
    "        optimizer.step()\n",
    "        total_loss += loss.item()\n",
    "        _, predicted = torch.max(outputs, 1)\n",
    "        total_correct += (predicted == labels).sum().item()\n",
    "        total_samples += labels.size(0)\n",
    "    avg_loss = total_loss / len(train_loader)\n",
    "    accuracy = total_correct / total_samples * 100\n",
    "    return avg_loss, accuracy\n",
    "def evaluate(model, criterion_main, valid_loader, device):\n",
    "    model.eval()\n",
    "    total_loss = 0.0\n",
    "    total_correct = 0\n",
    "    total_samples = 0\n",
    "    all_labels = []\n",
    "    all_preds = []\n",
    "    with torch.no_grad():\n",
    "        for images, labels in tqdm(valid_loader, desc=\"Evaluating\", leave=True):\n",
    "            images, labels = images.to(device), labels.to(device)\n",
    "            outputs, _, _, _ = model(images)\n",
    "            loss = criterion_main(outputs, labels)\n",
    "            total_loss += loss.item()\n",
    "            _, predicted = torch.max(outputs, 1)\n",
    "            all_labels.extend(labels.cpu().numpy())\n",
    "            all_preds.extend(predicted.cpu().numpy())\n",
    "            total_correct += (predicted == labels).sum().item()\n",
    "            total_samples += labels.size(0)\n",
    "    avg_loss = total_loss / len(valid_loader)\n",
    "    accuracy = total_correct / total_samples * 100\n",
    "    report = classification_report(all_labels, all_preds, target_names=train_set.classes, output_dict=True)\n",
    "    return avg_loss, accuracy, report\n",
    "device = torch.device(\"cuda\" if torch.cuda.is_available() else \"cpu\")\n",
    "model = Network(num_classes=2).to(device)\n",
    "criterion_main = nn.CrossEntropyLoss()\n",
    "criterion_aux = nn.CrossEntropyLoss()\n",
    "optimizer = optim.Adam(model.parameters(), lr=lr)\n",
    "best_valid_acc = 0.0\n",
    "train_losses_phase1, train_accuracies_phase1, valid_losses_phase1, valid_accuracies_phase1 = [], [], [], []\n",
    "train_losses_phase2, train_accuracies_phase2, valid_losses_phase2, valid_accuracies_phase2 = [], [], [], []\n",
    "learning_rates_phase1, learning_rates_phase2 = [], []\n",
    "print(\"Starting Phase 1...\")\n",
    "for epoch in range(num_epochs_phase1):\n",
    "    print(f\"Phase 1 - Epoch [{epoch + 1}/{num_epochs_phase1}]\")\n",
    "    train_loss, train_acc = train_one_epoch(model, optimizer, criterion_main, criterion_aux, train_loader, device)\n",
    "    valid_loss, valid_acc, _ = evaluate(model, criterion_main, valid_loader, device)\n",
    "    train_losses_phase1.append(train_loss)\n",
    "    train_accuracies_phase1.append(train_acc)\n",
    "    valid_losses_phase1.append(valid_loss)\n",
    "    valid_accuracies_phase1.append(valid_acc)\n",
    "    learning_rates_phase1.append(optimizer.param_groups[0]['lr'])  # Track learning rate\n",
    "    print(f\"Train Loss: {train_loss:.4f}, Train Accuracy: {train_acc:.2f}%, \"\n",
    "          f\"Valid Loss: {valid_loss:.4f}, Valid Accuracy: {valid_acc:.2f}%\")\n",
    "    if valid_acc > best_valid_acc:\n",
    "        best_valid_acc = valid_acc\n",
    "        torch.save(model.state_dict(), best_model_path_p1)\n",
    "        print(f\"Best model saved with validation accuracy in phase 1: {valid_acc:.2f}%\")\n",
    "best_valid_acc = 0.0\n",
    "print(\"Loading the best model for Phase 2...\")\n",
    "model.load_state_dict(torch.load(best_model_path_p1))\n",
    "optimizer = optim.Adam(model.parameters(), lr=lr/10)\n",
    "scheduler = torch.optim.lr_scheduler.StepLR(optimizer, step_size=ss, gamma=g)\n",
    "print(\"Starting Phase 2...\")\n",
    "for epoch in range(num_epochs_phase2):\n",
    "    print(f\"Phase 2 - Epoch [{epoch + 1}/{num_epochs_phase2}]\")\n",
    "    train_loss, train_acc = train_one_epoch(model, optimizer, criterion_main, criterion_aux, train_loader, device)\n",
    "    valid_loss, valid_acc, _ = evaluate(model, criterion_main, valid_loader, device)\n",
    "    train_losses_phase2.append(train_loss)\n",
    "    train_accuracies_phase2.append(train_acc)\n",
    "    valid_losses_phase2.append(valid_loss)\n",
    "    valid_accuracies_phase2.append(valid_acc)\n",
    "    learning_rates_phase2.append(optimizer.param_groups[0]['lr'])  # Track learning rate\n",
    "    print(f\"Train Loss: {train_loss:.4f}, Train Accuracy: {train_acc:.2f}%, \"\n",
    "          f\"Valid Loss: {valid_loss:.4f}, Valid Accuracy: {valid_acc:.2f}%\")\n",
    "    if valid_acc > best_valid_acc:\n",
    "        best_valid_acc = valid_acc\n",
    "        torch.save(model.state_dict(), best_model_path_p2)\n",
    "        print(f\"Best model saved with validation accuracy phase2: {valid_acc:.2f}%\")\n",
    "    torch.save(model.state_dict(), last_model_path_p2)\n",
    "    print(f\"Last model phase 2 saved : {valid_acc:.2f}%\")\n",
    "    scheduler.step()\n",
    "train_losses = train_losses_phase1 + train_losses_phase2\n",
    "train_accuracies = train_accuracies_phase1 + train_accuracies_phase2\n",
    "valid_losses = valid_losses_phase1 + valid_losses_phase2\n",
    "valid_accuracies = valid_accuracies_phase1 + valid_accuracies_phase2\n",
    "learning_rates = learning_rates_phase1 + learning_rates_phase2\n",
    "plt.figure(figsize=(15, 10))\n",
    "plt.subplot(3, 1, 1)\n",
    "plt.plot(range(1, len(train_losses) + 1), train_losses, label=\"Train Loss\")\n",
    "plt.plot(range(1, len(valid_losses) + 1), valid_losses, label=\"Validation Loss\")\n",
    "plt.axvline(x=num_epochs_phase1, color='r', linestyle='--', label=\"Phase 1 End\")\n",
    "plt.title(\"Loss vs Epochs\")\n",
    "plt.xlabel(\"Epochs\")\n",
    "plt.ylabel(\"Loss\")\n",
    "plt.legend()\n",
    "plt.subplot(3, 1, 2)\n",
    "plt.plot(range(1, len(train_accuracies) + 1), train_accuracies, label=\"Train Accuracy\")\n",
    "plt.plot(range(1, len(valid_accuracies) + 1), valid_accuracies, label=\"Validation Accuracy\")\n",
    "plt.axvline(x=num_epochs_phase1, color='r', linestyle='--', label=\"Phase 1 End\")\n",
    "plt.title(\"Accuracy vs Epochs\")\n",
    "plt.xlabel(\"Epochs\")\n",
    "plt.ylabel(\"Accuracy (%)\")\n",
    "plt.legend()\n",
    "plt.subplot(3, 1, 3)\n",
    "plt.plot(range(1, len(learning_rates) + 1), learning_rates, label=\"Learning Rate\")\n",
    "plt.axvline(x=num_epochs_phase1, color='r', linestyle='--', label=\"Phase 1 End\")\n",
    "plt.title(\"Learning Rate vs Epochs\")\n",
    "plt.xlabel(\"Epochs\")\n",
    "plt.ylabel(\"Learning Rate\")\n",
    "plt.legend()\n",
    "plt.tight_layout()\n",
    "plt.show()"
   ]
  },
  {
   "cell_type": "code",
   "execution_count": null,
   "id": "5009f2cf",
   "metadata": {},
   "outputs": [],
   "source": []
  }
 ],
 "metadata": {
  "kernelspec": {
   "display_name": "Python 3 (ipykernel)",
   "language": "python",
   "name": "python3"
  },
  "language_info": {
   "codemirror_mode": {
    "name": "ipython",
    "version": 3
   },
   "file_extension": ".py",
   "mimetype": "text/x-python",
   "name": "python",
   "nbconvert_exporter": "python",
   "pygments_lexer": "ipython3",
   "version": "3.10.9"
  }
 },
 "nbformat": 4,
 "nbformat_minor": 5
}
