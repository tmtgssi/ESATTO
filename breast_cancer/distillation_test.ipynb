{
 "cells": [
  {
   "cell_type": "code",
   "execution_count": 2,
   "id": "9620be4b",
   "metadata": {},
   "outputs": [
    {
     "name": "stderr",
     "output_type": "stream",
     "text": [
      "/home/philipslinux/anaconda3/lib/python3.10/site-packages/torchvision/models/_utils.py:208: UserWarning: The parameter 'pretrained' is deprecated since 0.13 and may be removed in the future, please use 'weights' instead.\n",
      "  warnings.warn(\n",
      "/home/philipslinux/anaconda3/lib/python3.10/site-packages/torchvision/models/_utils.py:223: UserWarning: Arguments other than a weight enum or `None` for 'weights' are deprecated since 0.13 and may be removed in the future. The current behavior is equivalent to passing `weights=MobileNet_V2_Weights.IMAGENET1K_V1`. You can also use `weights=MobileNet_V2_Weights.DEFAULT` to get the most up-to-date weights.\n",
      "  warnings.warn(msg)\n",
      "/tmp/ipykernel_35795/3340294074.py:25: FutureWarning: You are using `torch.load` with `weights_only=False` (the current default value), which uses the default pickle module implicitly. It is possible to construct malicious pickle data which will execute arbitrary code during unpickling (See https://github.com/pytorch/pytorch/blob/main/SECURITY.md#untrusted-models for more details). In a future release, the default value for `weights_only` will be flipped to `True`. This limits the functions that could be executed during unpickling. Arbitrary objects will no longer be allowed to be loaded via this mode unless they are explicitly allowlisted by the user via `torch.serialization.add_safe_globals`. We recommend you start setting `weights_only=True` for any use case where you don't have full control of the loaded file. Please open an issue on GitHub for any issues related to this experimental feature.\n",
      "  checkpoint = torch.load(checkpoint_path)\n"
     ]
    },
    {
     "name": "stdout",
     "output_type": "stream",
     "text": [
      "Checkpoint loaded from epoch 71\n",
      "              precision    recall  f1-score   support\n",
      "\n",
      "           0     1.0000    0.9762    0.9880        84\n",
      "           1     0.9636    1.0000    0.9815        53\n",
      "\n",
      "    accuracy                         0.9854       137\n",
      "   macro avg     0.9818    0.9881    0.9847       137\n",
      "weighted avg     0.9859    0.9854    0.9854       137\n",
      "\n",
      "N 71\n",
      "Sensitivity:  0.9818181818181818\n",
      "Specificity:  0.9818181818181818\n",
      "Accuracy:  0.9854014598540146\n",
      "Macro F1:  0.9847166443551986\n",
      "Checkpoint loaded from epoch 72\n"
     ]
    },
    {
     "name": "stderr",
     "output_type": "stream",
     "text": [
      "/tmp/ipykernel_35795/3340294074.py:25: FutureWarning: You are using `torch.load` with `weights_only=False` (the current default value), which uses the default pickle module implicitly. It is possible to construct malicious pickle data which will execute arbitrary code during unpickling (See https://github.com/pytorch/pytorch/blob/main/SECURITY.md#untrusted-models for more details). In a future release, the default value for `weights_only` will be flipped to `True`. This limits the functions that could be executed during unpickling. Arbitrary objects will no longer be allowed to be loaded via this mode unless they are explicitly allowlisted by the user via `torch.serialization.add_safe_globals`. We recommend you start setting `weights_only=True` for any use case where you don't have full control of the loaded file. Please open an issue on GitHub for any issues related to this experimental feature.\n",
      "  checkpoint = torch.load(checkpoint_path)\n"
     ]
    },
    {
     "name": "stdout",
     "output_type": "stream",
     "text": [
      "              precision    recall  f1-score   support\n",
      "\n",
      "           0     1.0000    0.9762    0.9880        84\n",
      "           1     0.9636    1.0000    0.9815        53\n",
      "\n",
      "    accuracy                         0.9854       137\n",
      "   macro avg     0.9818    0.9881    0.9847       137\n",
      "weighted avg     0.9859    0.9854    0.9854       137\n",
      "\n",
      "N 72\n",
      "Sensitivity:  0.9818181818181818\n",
      "Specificity:  0.9818181818181818\n",
      "Accuracy:  0.9854014598540146\n",
      "Macro F1:  0.9847166443551986\n",
      "Checkpoint loaded from epoch 73\n"
     ]
    },
    {
     "name": "stderr",
     "output_type": "stream",
     "text": [
      "/tmp/ipykernel_35795/3340294074.py:25: FutureWarning: You are using `torch.load` with `weights_only=False` (the current default value), which uses the default pickle module implicitly. It is possible to construct malicious pickle data which will execute arbitrary code during unpickling (See https://github.com/pytorch/pytorch/blob/main/SECURITY.md#untrusted-models for more details). In a future release, the default value for `weights_only` will be flipped to `True`. This limits the functions that could be executed during unpickling. Arbitrary objects will no longer be allowed to be loaded via this mode unless they are explicitly allowlisted by the user via `torch.serialization.add_safe_globals`. We recommend you start setting `weights_only=True` for any use case where you don't have full control of the loaded file. Please open an issue on GitHub for any issues related to this experimental feature.\n",
      "  checkpoint = torch.load(checkpoint_path)\n"
     ]
    },
    {
     "name": "stdout",
     "output_type": "stream",
     "text": [
      "              precision    recall  f1-score   support\n",
      "\n",
      "           0     0.9762    0.9762    0.9762        84\n",
      "           1     0.9623    0.9623    0.9623        53\n",
      "\n",
      "    accuracy                         0.9708       137\n",
      "   macro avg     0.9692    0.9692    0.9692       137\n",
      "weighted avg     0.9708    0.9708    0.9708       137\n",
      "\n",
      "N 73\n",
      "Sensitivity:  0.9692273135669363\n",
      "Specificity:  0.9692273135669363\n",
      "Accuracy:  0.9708029197080292\n",
      "Macro F1:  0.9692273135669363\n",
      "Checkpoint loaded from epoch 74\n"
     ]
    },
    {
     "name": "stderr",
     "output_type": "stream",
     "text": [
      "/tmp/ipykernel_35795/3340294074.py:25: FutureWarning: You are using `torch.load` with `weights_only=False` (the current default value), which uses the default pickle module implicitly. It is possible to construct malicious pickle data which will execute arbitrary code during unpickling (See https://github.com/pytorch/pytorch/blob/main/SECURITY.md#untrusted-models for more details). In a future release, the default value for `weights_only` will be flipped to `True`. This limits the functions that could be executed during unpickling. Arbitrary objects will no longer be allowed to be loaded via this mode unless they are explicitly allowlisted by the user via `torch.serialization.add_safe_globals`. We recommend you start setting `weights_only=True` for any use case where you don't have full control of the loaded file. Please open an issue on GitHub for any issues related to this experimental feature.\n",
      "  checkpoint = torch.load(checkpoint_path)\n"
     ]
    },
    {
     "name": "stdout",
     "output_type": "stream",
     "text": [
      "              precision    recall  f1-score   support\n",
      "\n",
      "           0     0.9762    0.9762    0.9762        84\n",
      "           1     0.9623    0.9623    0.9623        53\n",
      "\n",
      "    accuracy                         0.9708       137\n",
      "   macro avg     0.9692    0.9692    0.9692       137\n",
      "weighted avg     0.9708    0.9708    0.9708       137\n",
      "\n",
      "N 74\n",
      "Sensitivity:  0.9692273135669363\n",
      "Specificity:  0.9692273135669363\n",
      "Accuracy:  0.9708029197080292\n",
      "Macro F1:  0.9692273135669363\n",
      "Checkpoint loaded from epoch 75\n"
     ]
    },
    {
     "name": "stderr",
     "output_type": "stream",
     "text": [
      "/tmp/ipykernel_35795/3340294074.py:25: FutureWarning: You are using `torch.load` with `weights_only=False` (the current default value), which uses the default pickle module implicitly. It is possible to construct malicious pickle data which will execute arbitrary code during unpickling (See https://github.com/pytorch/pytorch/blob/main/SECURITY.md#untrusted-models for more details). In a future release, the default value for `weights_only` will be flipped to `True`. This limits the functions that could be executed during unpickling. Arbitrary objects will no longer be allowed to be loaded via this mode unless they are explicitly allowlisted by the user via `torch.serialization.add_safe_globals`. We recommend you start setting `weights_only=True` for any use case where you don't have full control of the loaded file. Please open an issue on GitHub for any issues related to this experimental feature.\n",
      "  checkpoint = torch.load(checkpoint_path)\n"
     ]
    },
    {
     "name": "stdout",
     "output_type": "stream",
     "text": [
      "              precision    recall  f1-score   support\n",
      "\n",
      "           0     0.9880    0.9762    0.9820        84\n",
      "           1     0.9630    0.9811    0.9720        53\n",
      "\n",
      "    accuracy                         0.9781       137\n",
      "   macro avg     0.9755    0.9787    0.9770       137\n",
      "weighted avg     0.9783    0.9781    0.9781       137\n",
      "\n",
      "N 75\n",
      "Sensitivity:  0.9754573850959393\n",
      "Specificity:  0.9754573850959393\n",
      "Accuracy:  0.9781021897810219\n",
      "Macro F1:  0.9769992724830712\n",
      "Checkpoint loaded from epoch 76\n"
     ]
    },
    {
     "name": "stderr",
     "output_type": "stream",
     "text": [
      "/tmp/ipykernel_35795/3340294074.py:25: FutureWarning: You are using `torch.load` with `weights_only=False` (the current default value), which uses the default pickle module implicitly. It is possible to construct malicious pickle data which will execute arbitrary code during unpickling (See https://github.com/pytorch/pytorch/blob/main/SECURITY.md#untrusted-models for more details). In a future release, the default value for `weights_only` will be flipped to `True`. This limits the functions that could be executed during unpickling. Arbitrary objects will no longer be allowed to be loaded via this mode unless they are explicitly allowlisted by the user via `torch.serialization.add_safe_globals`. We recommend you start setting `weights_only=True` for any use case where you don't have full control of the loaded file. Please open an issue on GitHub for any issues related to this experimental feature.\n",
      "  checkpoint = torch.load(checkpoint_path)\n"
     ]
    },
    {
     "name": "stdout",
     "output_type": "stream",
     "text": [
      "              precision    recall  f1-score   support\n",
      "\n",
      "           0     1.0000    0.9762    0.9880        84\n",
      "           1     0.9636    1.0000    0.9815        53\n",
      "\n",
      "    accuracy                         0.9854       137\n",
      "   macro avg     0.9818    0.9881    0.9847       137\n",
      "weighted avg     0.9859    0.9854    0.9854       137\n",
      "\n",
      "N 76\n",
      "Sensitivity:  0.9818181818181818\n",
      "Specificity:  0.9818181818181818\n",
      "Accuracy:  0.9854014598540146\n",
      "Macro F1:  0.9847166443551986\n",
      "Checkpoint loaded from epoch 77\n"
     ]
    },
    {
     "name": "stderr",
     "output_type": "stream",
     "text": [
      "/tmp/ipykernel_35795/3340294074.py:25: FutureWarning: You are using `torch.load` with `weights_only=False` (the current default value), which uses the default pickle module implicitly. It is possible to construct malicious pickle data which will execute arbitrary code during unpickling (See https://github.com/pytorch/pytorch/blob/main/SECURITY.md#untrusted-models for more details). In a future release, the default value for `weights_only` will be flipped to `True`. This limits the functions that could be executed during unpickling. Arbitrary objects will no longer be allowed to be loaded via this mode unless they are explicitly allowlisted by the user via `torch.serialization.add_safe_globals`. We recommend you start setting `weights_only=True` for any use case where you don't have full control of the loaded file. Please open an issue on GitHub for any issues related to this experimental feature.\n",
      "  checkpoint = torch.load(checkpoint_path)\n"
     ]
    },
    {
     "name": "stdout",
     "output_type": "stream",
     "text": [
      "              precision    recall  f1-score   support\n",
      "\n",
      "           0     0.9762    0.9762    0.9762        84\n",
      "           1     0.9623    0.9623    0.9623        53\n",
      "\n",
      "    accuracy                         0.9708       137\n",
      "   macro avg     0.9692    0.9692    0.9692       137\n",
      "weighted avg     0.9708    0.9708    0.9708       137\n",
      "\n",
      "N 77\n",
      "Sensitivity:  0.9692273135669363\n",
      "Specificity:  0.9692273135669363\n",
      "Accuracy:  0.9708029197080292\n",
      "Macro F1:  0.9692273135669363\n",
      "Checkpoint loaded from epoch 78\n"
     ]
    },
    {
     "name": "stderr",
     "output_type": "stream",
     "text": [
      "/tmp/ipykernel_35795/3340294074.py:25: FutureWarning: You are using `torch.load` with `weights_only=False` (the current default value), which uses the default pickle module implicitly. It is possible to construct malicious pickle data which will execute arbitrary code during unpickling (See https://github.com/pytorch/pytorch/blob/main/SECURITY.md#untrusted-models for more details). In a future release, the default value for `weights_only` will be flipped to `True`. This limits the functions that could be executed during unpickling. Arbitrary objects will no longer be allowed to be loaded via this mode unless they are explicitly allowlisted by the user via `torch.serialization.add_safe_globals`. We recommend you start setting `weights_only=True` for any use case where you don't have full control of the loaded file. Please open an issue on GitHub for any issues related to this experimental feature.\n",
      "  checkpoint = torch.load(checkpoint_path)\n"
     ]
    },
    {
     "name": "stdout",
     "output_type": "stream",
     "text": [
      "              precision    recall  f1-score   support\n",
      "\n",
      "           0     0.9762    0.9762    0.9762        84\n",
      "           1     0.9623    0.9623    0.9623        53\n",
      "\n",
      "    accuracy                         0.9708       137\n",
      "   macro avg     0.9692    0.9692    0.9692       137\n",
      "weighted avg     0.9708    0.9708    0.9708       137\n",
      "\n",
      "N 78\n",
      "Sensitivity:  0.9692273135669363\n",
      "Specificity:  0.9692273135669363\n",
      "Accuracy:  0.9708029197080292\n",
      "Macro F1:  0.9692273135669363\n",
      "Checkpoint loaded from epoch 79\n"
     ]
    },
    {
     "name": "stderr",
     "output_type": "stream",
     "text": [
      "/tmp/ipykernel_35795/3340294074.py:25: FutureWarning: You are using `torch.load` with `weights_only=False` (the current default value), which uses the default pickle module implicitly. It is possible to construct malicious pickle data which will execute arbitrary code during unpickling (See https://github.com/pytorch/pytorch/blob/main/SECURITY.md#untrusted-models for more details). In a future release, the default value for `weights_only` will be flipped to `True`. This limits the functions that could be executed during unpickling. Arbitrary objects will no longer be allowed to be loaded via this mode unless they are explicitly allowlisted by the user via `torch.serialization.add_safe_globals`. We recommend you start setting `weights_only=True` for any use case where you don't have full control of the loaded file. Please open an issue on GitHub for any issues related to this experimental feature.\n",
      "  checkpoint = torch.load(checkpoint_path)\n"
     ]
    },
    {
     "name": "stdout",
     "output_type": "stream",
     "text": [
      "              precision    recall  f1-score   support\n",
      "\n",
      "           0     0.9762    0.9762    0.9762        84\n",
      "           1     0.9623    0.9623    0.9623        53\n",
      "\n",
      "    accuracy                         0.9708       137\n",
      "   macro avg     0.9692    0.9692    0.9692       137\n",
      "weighted avg     0.9708    0.9708    0.9708       137\n",
      "\n",
      "N 79\n",
      "Sensitivity:  0.9692273135669363\n",
      "Specificity:  0.9692273135669363\n",
      "Accuracy:  0.9708029197080292\n",
      "Macro F1:  0.9692273135669363\n",
      "Checkpoint loaded from epoch 80\n"
     ]
    },
    {
     "name": "stderr",
     "output_type": "stream",
     "text": [
      "/tmp/ipykernel_35795/3340294074.py:25: FutureWarning: You are using `torch.load` with `weights_only=False` (the current default value), which uses the default pickle module implicitly. It is possible to construct malicious pickle data which will execute arbitrary code during unpickling (See https://github.com/pytorch/pytorch/blob/main/SECURITY.md#untrusted-models for more details). In a future release, the default value for `weights_only` will be flipped to `True`. This limits the functions that could be executed during unpickling. Arbitrary objects will no longer be allowed to be loaded via this mode unless they are explicitly allowlisted by the user via `torch.serialization.add_safe_globals`. We recommend you start setting `weights_only=True` for any use case where you don't have full control of the loaded file. Please open an issue on GitHub for any issues related to this experimental feature.\n",
      "  checkpoint = torch.load(checkpoint_path)\n"
     ]
    },
    {
     "name": "stdout",
     "output_type": "stream",
     "text": [
      "              precision    recall  f1-score   support\n",
      "\n",
      "           0     0.9762    0.9762    0.9762        84\n",
      "           1     0.9623    0.9623    0.9623        53\n",
      "\n",
      "    accuracy                         0.9708       137\n",
      "   macro avg     0.9692    0.9692    0.9692       137\n",
      "weighted avg     0.9708    0.9708    0.9708       137\n",
      "\n",
      "N 80\n",
      "Sensitivity:  0.9692273135669363\n",
      "Specificity:  0.9692273135669363\n",
      "Accuracy:  0.9708029197080292\n",
      "Macro F1:  0.9692273135669363\n",
      "Checkpoint loaded from epoch 81\n"
     ]
    },
    {
     "name": "stderr",
     "output_type": "stream",
     "text": [
      "/tmp/ipykernel_35795/3340294074.py:25: FutureWarning: You are using `torch.load` with `weights_only=False` (the current default value), which uses the default pickle module implicitly. It is possible to construct malicious pickle data which will execute arbitrary code during unpickling (See https://github.com/pytorch/pytorch/blob/main/SECURITY.md#untrusted-models for more details). In a future release, the default value for `weights_only` will be flipped to `True`. This limits the functions that could be executed during unpickling. Arbitrary objects will no longer be allowed to be loaded via this mode unless they are explicitly allowlisted by the user via `torch.serialization.add_safe_globals`. We recommend you start setting `weights_only=True` for any use case where you don't have full control of the loaded file. Please open an issue on GitHub for any issues related to this experimental feature.\n",
      "  checkpoint = torch.load(checkpoint_path)\n"
     ]
    },
    {
     "name": "stdout",
     "output_type": "stream",
     "text": [
      "              precision    recall  f1-score   support\n",
      "\n",
      "           0     0.9762    0.9762    0.9762        84\n",
      "           1     0.9623    0.9623    0.9623        53\n",
      "\n",
      "    accuracy                         0.9708       137\n",
      "   macro avg     0.9692    0.9692    0.9692       137\n",
      "weighted avg     0.9708    0.9708    0.9708       137\n",
      "\n",
      "N 81\n",
      "Sensitivity:  0.9692273135669363\n",
      "Specificity:  0.9692273135669363\n",
      "Accuracy:  0.9708029197080292\n",
      "Macro F1:  0.9692273135669363\n",
      "Checkpoint loaded from epoch 82\n"
     ]
    },
    {
     "name": "stderr",
     "output_type": "stream",
     "text": [
      "/tmp/ipykernel_35795/3340294074.py:25: FutureWarning: You are using `torch.load` with `weights_only=False` (the current default value), which uses the default pickle module implicitly. It is possible to construct malicious pickle data which will execute arbitrary code during unpickling (See https://github.com/pytorch/pytorch/blob/main/SECURITY.md#untrusted-models for more details). In a future release, the default value for `weights_only` will be flipped to `True`. This limits the functions that could be executed during unpickling. Arbitrary objects will no longer be allowed to be loaded via this mode unless they are explicitly allowlisted by the user via `torch.serialization.add_safe_globals`. We recommend you start setting `weights_only=True` for any use case where you don't have full control of the loaded file. Please open an issue on GitHub for any issues related to this experimental feature.\n",
      "  checkpoint = torch.load(checkpoint_path)\n"
     ]
    },
    {
     "name": "stdout",
     "output_type": "stream",
     "text": [
      "              precision    recall  f1-score   support\n",
      "\n",
      "           0     0.9762    0.9762    0.9762        84\n",
      "           1     0.9623    0.9623    0.9623        53\n",
      "\n",
      "    accuracy                         0.9708       137\n",
      "   macro avg     0.9692    0.9692    0.9692       137\n",
      "weighted avg     0.9708    0.9708    0.9708       137\n",
      "\n",
      "N 82\n",
      "Sensitivity:  0.9692273135669363\n",
      "Specificity:  0.9692273135669363\n",
      "Accuracy:  0.9708029197080292\n",
      "Macro F1:  0.9692273135669363\n",
      "Checkpoint loaded from epoch 83\n"
     ]
    },
    {
     "name": "stderr",
     "output_type": "stream",
     "text": [
      "/tmp/ipykernel_35795/3340294074.py:25: FutureWarning: You are using `torch.load` with `weights_only=False` (the current default value), which uses the default pickle module implicitly. It is possible to construct malicious pickle data which will execute arbitrary code during unpickling (See https://github.com/pytorch/pytorch/blob/main/SECURITY.md#untrusted-models for more details). In a future release, the default value for `weights_only` will be flipped to `True`. This limits the functions that could be executed during unpickling. Arbitrary objects will no longer be allowed to be loaded via this mode unless they are explicitly allowlisted by the user via `torch.serialization.add_safe_globals`. We recommend you start setting `weights_only=True` for any use case where you don't have full control of the loaded file. Please open an issue on GitHub for any issues related to this experimental feature.\n",
      "  checkpoint = torch.load(checkpoint_path)\n"
     ]
    },
    {
     "name": "stdout",
     "output_type": "stream",
     "text": [
      "              precision    recall  f1-score   support\n",
      "\n",
      "           0     0.9762    0.9762    0.9762        84\n",
      "           1     0.9623    0.9623    0.9623        53\n",
      "\n",
      "    accuracy                         0.9708       137\n",
      "   macro avg     0.9692    0.9692    0.9692       137\n",
      "weighted avg     0.9708    0.9708    0.9708       137\n",
      "\n",
      "N 83\n",
      "Sensitivity:  0.9692273135669363\n",
      "Specificity:  0.9692273135669363\n",
      "Accuracy:  0.9708029197080292\n",
      "Macro F1:  0.9692273135669363\n",
      "Checkpoint loaded from epoch 84\n"
     ]
    },
    {
     "name": "stderr",
     "output_type": "stream",
     "text": [
      "/tmp/ipykernel_35795/3340294074.py:25: FutureWarning: You are using `torch.load` with `weights_only=False` (the current default value), which uses the default pickle module implicitly. It is possible to construct malicious pickle data which will execute arbitrary code during unpickling (See https://github.com/pytorch/pytorch/blob/main/SECURITY.md#untrusted-models for more details). In a future release, the default value for `weights_only` will be flipped to `True`. This limits the functions that could be executed during unpickling. Arbitrary objects will no longer be allowed to be loaded via this mode unless they are explicitly allowlisted by the user via `torch.serialization.add_safe_globals`. We recommend you start setting `weights_only=True` for any use case where you don't have full control of the loaded file. Please open an issue on GitHub for any issues related to this experimental feature.\n",
      "  checkpoint = torch.load(checkpoint_path)\n"
     ]
    },
    {
     "name": "stdout",
     "output_type": "stream",
     "text": [
      "              precision    recall  f1-score   support\n",
      "\n",
      "           0     0.9880    0.9762    0.9820        84\n",
      "           1     0.9630    0.9811    0.9720        53\n",
      "\n",
      "    accuracy                         0.9781       137\n",
      "   macro avg     0.9755    0.9787    0.9770       137\n",
      "weighted avg     0.9783    0.9781    0.9781       137\n",
      "\n",
      "N 84\n",
      "Sensitivity:  0.9754573850959393\n",
      "Specificity:  0.9754573850959393\n",
      "Accuracy:  0.9781021897810219\n",
      "Macro F1:  0.9769992724830712\n",
      "Checkpoint loaded from epoch 85\n"
     ]
    },
    {
     "name": "stderr",
     "output_type": "stream",
     "text": [
      "/tmp/ipykernel_35795/3340294074.py:25: FutureWarning: You are using `torch.load` with `weights_only=False` (the current default value), which uses the default pickle module implicitly. It is possible to construct malicious pickle data which will execute arbitrary code during unpickling (See https://github.com/pytorch/pytorch/blob/main/SECURITY.md#untrusted-models for more details). In a future release, the default value for `weights_only` will be flipped to `True`. This limits the functions that could be executed during unpickling. Arbitrary objects will no longer be allowed to be loaded via this mode unless they are explicitly allowlisted by the user via `torch.serialization.add_safe_globals`. We recommend you start setting `weights_only=True` for any use case where you don't have full control of the loaded file. Please open an issue on GitHub for any issues related to this experimental feature.\n",
      "  checkpoint = torch.load(checkpoint_path)\n"
     ]
    },
    {
     "name": "stdout",
     "output_type": "stream",
     "text": [
      "              precision    recall  f1-score   support\n",
      "\n",
      "           0     0.9880    0.9762    0.9820        84\n",
      "           1     0.9630    0.9811    0.9720        53\n",
      "\n",
      "    accuracy                         0.9781       137\n",
      "   macro avg     0.9755    0.9787    0.9770       137\n",
      "weighted avg     0.9783    0.9781    0.9781       137\n",
      "\n",
      "N 85\n",
      "Sensitivity:  0.9754573850959393\n",
      "Specificity:  0.9754573850959393\n",
      "Accuracy:  0.9781021897810219\n",
      "Macro F1:  0.9769992724830712\n",
      "Checkpoint loaded from epoch 86\n"
     ]
    },
    {
     "name": "stderr",
     "output_type": "stream",
     "text": [
      "/tmp/ipykernel_35795/3340294074.py:25: FutureWarning: You are using `torch.load` with `weights_only=False` (the current default value), which uses the default pickle module implicitly. It is possible to construct malicious pickle data which will execute arbitrary code during unpickling (See https://github.com/pytorch/pytorch/blob/main/SECURITY.md#untrusted-models for more details). In a future release, the default value for `weights_only` will be flipped to `True`. This limits the functions that could be executed during unpickling. Arbitrary objects will no longer be allowed to be loaded via this mode unless they are explicitly allowlisted by the user via `torch.serialization.add_safe_globals`. We recommend you start setting `weights_only=True` for any use case where you don't have full control of the loaded file. Please open an issue on GitHub for any issues related to this experimental feature.\n",
      "  checkpoint = torch.load(checkpoint_path)\n"
     ]
    },
    {
     "name": "stdout",
     "output_type": "stream",
     "text": [
      "              precision    recall  f1-score   support\n",
      "\n",
      "           0     0.9880    0.9762    0.9820        84\n",
      "           1     0.9630    0.9811    0.9720        53\n",
      "\n",
      "    accuracy                         0.9781       137\n",
      "   macro avg     0.9755    0.9787    0.9770       137\n",
      "weighted avg     0.9783    0.9781    0.9781       137\n",
      "\n",
      "N 86\n",
      "Sensitivity:  0.9754573850959393\n",
      "Specificity:  0.9754573850959393\n",
      "Accuracy:  0.9781021897810219\n",
      "Macro F1:  0.9769992724830712\n",
      "Checkpoint loaded from epoch 87\n"
     ]
    },
    {
     "name": "stderr",
     "output_type": "stream",
     "text": [
      "/tmp/ipykernel_35795/3340294074.py:25: FutureWarning: You are using `torch.load` with `weights_only=False` (the current default value), which uses the default pickle module implicitly. It is possible to construct malicious pickle data which will execute arbitrary code during unpickling (See https://github.com/pytorch/pytorch/blob/main/SECURITY.md#untrusted-models for more details). In a future release, the default value for `weights_only` will be flipped to `True`. This limits the functions that could be executed during unpickling. Arbitrary objects will no longer be allowed to be loaded via this mode unless they are explicitly allowlisted by the user via `torch.serialization.add_safe_globals`. We recommend you start setting `weights_only=True` for any use case where you don't have full control of the loaded file. Please open an issue on GitHub for any issues related to this experimental feature.\n",
      "  checkpoint = torch.load(checkpoint_path)\n"
     ]
    },
    {
     "name": "stdout",
     "output_type": "stream",
     "text": [
      "              precision    recall  f1-score   support\n",
      "\n",
      "           0     0.9762    0.9762    0.9762        84\n",
      "           1     0.9623    0.9623    0.9623        53\n",
      "\n",
      "    accuracy                         0.9708       137\n",
      "   macro avg     0.9692    0.9692    0.9692       137\n",
      "weighted avg     0.9708    0.9708    0.9708       137\n",
      "\n",
      "N 87\n",
      "Sensitivity:  0.9692273135669363\n",
      "Specificity:  0.9692273135669363\n",
      "Accuracy:  0.9708029197080292\n",
      "Macro F1:  0.9692273135669363\n",
      "Checkpoint loaded from epoch 88\n"
     ]
    },
    {
     "name": "stderr",
     "output_type": "stream",
     "text": [
      "/tmp/ipykernel_35795/3340294074.py:25: FutureWarning: You are using `torch.load` with `weights_only=False` (the current default value), which uses the default pickle module implicitly. It is possible to construct malicious pickle data which will execute arbitrary code during unpickling (See https://github.com/pytorch/pytorch/blob/main/SECURITY.md#untrusted-models for more details). In a future release, the default value for `weights_only` will be flipped to `True`. This limits the functions that could be executed during unpickling. Arbitrary objects will no longer be allowed to be loaded via this mode unless they are explicitly allowlisted by the user via `torch.serialization.add_safe_globals`. We recommend you start setting `weights_only=True` for any use case where you don't have full control of the loaded file. Please open an issue on GitHub for any issues related to this experimental feature.\n",
      "  checkpoint = torch.load(checkpoint_path)\n"
     ]
    },
    {
     "name": "stdout",
     "output_type": "stream",
     "text": [
      "              precision    recall  f1-score   support\n",
      "\n",
      "           0     0.9762    0.9762    0.9762        84\n",
      "           1     0.9623    0.9623    0.9623        53\n",
      "\n",
      "    accuracy                         0.9708       137\n",
      "   macro avg     0.9692    0.9692    0.9692       137\n",
      "weighted avg     0.9708    0.9708    0.9708       137\n",
      "\n",
      "N 88\n",
      "Sensitivity:  0.9692273135669363\n",
      "Specificity:  0.9692273135669363\n",
      "Accuracy:  0.9708029197080292\n",
      "Macro F1:  0.9692273135669363\n",
      "Checkpoint loaded from epoch 89\n"
     ]
    },
    {
     "name": "stderr",
     "output_type": "stream",
     "text": [
      "/tmp/ipykernel_35795/3340294074.py:25: FutureWarning: You are using `torch.load` with `weights_only=False` (the current default value), which uses the default pickle module implicitly. It is possible to construct malicious pickle data which will execute arbitrary code during unpickling (See https://github.com/pytorch/pytorch/blob/main/SECURITY.md#untrusted-models for more details). In a future release, the default value for `weights_only` will be flipped to `True`. This limits the functions that could be executed during unpickling. Arbitrary objects will no longer be allowed to be loaded via this mode unless they are explicitly allowlisted by the user via `torch.serialization.add_safe_globals`. We recommend you start setting `weights_only=True` for any use case where you don't have full control of the loaded file. Please open an issue on GitHub for any issues related to this experimental feature.\n",
      "  checkpoint = torch.load(checkpoint_path)\n"
     ]
    },
    {
     "name": "stdout",
     "output_type": "stream",
     "text": [
      "              precision    recall  f1-score   support\n",
      "\n",
      "           0     0.9880    0.9762    0.9820        84\n",
      "           1     0.9630    0.9811    0.9720        53\n",
      "\n",
      "    accuracy                         0.9781       137\n",
      "   macro avg     0.9755    0.9787    0.9770       137\n",
      "weighted avg     0.9783    0.9781    0.9781       137\n",
      "\n",
      "N 89\n",
      "Sensitivity:  0.9754573850959393\n",
      "Specificity:  0.9754573850959393\n",
      "Accuracy:  0.9781021897810219\n",
      "Macro F1:  0.9769992724830712\n",
      "Checkpoint loaded from epoch 90\n"
     ]
    },
    {
     "name": "stderr",
     "output_type": "stream",
     "text": [
      "/tmp/ipykernel_35795/3340294074.py:25: FutureWarning: You are using `torch.load` with `weights_only=False` (the current default value), which uses the default pickle module implicitly. It is possible to construct malicious pickle data which will execute arbitrary code during unpickling (See https://github.com/pytorch/pytorch/blob/main/SECURITY.md#untrusted-models for more details). In a future release, the default value for `weights_only` will be flipped to `True`. This limits the functions that could be executed during unpickling. Arbitrary objects will no longer be allowed to be loaded via this mode unless they are explicitly allowlisted by the user via `torch.serialization.add_safe_globals`. We recommend you start setting `weights_only=True` for any use case where you don't have full control of the loaded file. Please open an issue on GitHub for any issues related to this experimental feature.\n",
      "  checkpoint = torch.load(checkpoint_path)\n"
     ]
    },
    {
     "name": "stdout",
     "output_type": "stream",
     "text": [
      "              precision    recall  f1-score   support\n",
      "\n",
      "           0     0.9880    0.9762    0.9820        84\n",
      "           1     0.9630    0.9811    0.9720        53\n",
      "\n",
      "    accuracy                         0.9781       137\n",
      "   macro avg     0.9755    0.9787    0.9770       137\n",
      "weighted avg     0.9783    0.9781    0.9781       137\n",
      "\n",
      "N 90\n",
      "Sensitivity:  0.9754573850959393\n",
      "Specificity:  0.9754573850959393\n",
      "Accuracy:  0.9781021897810219\n",
      "Macro F1:  0.9769992724830712\n",
      "Checkpoint loaded from epoch 91\n"
     ]
    },
    {
     "name": "stderr",
     "output_type": "stream",
     "text": [
      "/tmp/ipykernel_35795/3340294074.py:25: FutureWarning: You are using `torch.load` with `weights_only=False` (the current default value), which uses the default pickle module implicitly. It is possible to construct malicious pickle data which will execute arbitrary code during unpickling (See https://github.com/pytorch/pytorch/blob/main/SECURITY.md#untrusted-models for more details). In a future release, the default value for `weights_only` will be flipped to `True`. This limits the functions that could be executed during unpickling. Arbitrary objects will no longer be allowed to be loaded via this mode unless they are explicitly allowlisted by the user via `torch.serialization.add_safe_globals`. We recommend you start setting `weights_only=True` for any use case where you don't have full control of the loaded file. Please open an issue on GitHub for any issues related to this experimental feature.\n",
      "  checkpoint = torch.load(checkpoint_path)\n"
     ]
    },
    {
     "name": "stdout",
     "output_type": "stream",
     "text": [
      "              precision    recall  f1-score   support\n",
      "\n",
      "           0     0.9880    0.9762    0.9820        84\n",
      "           1     0.9630    0.9811    0.9720        53\n",
      "\n",
      "    accuracy                         0.9781       137\n",
      "   macro avg     0.9755    0.9787    0.9770       137\n",
      "weighted avg     0.9783    0.9781    0.9781       137\n",
      "\n",
      "N 91\n",
      "Sensitivity:  0.9754573850959393\n",
      "Specificity:  0.9754573850959393\n",
      "Accuracy:  0.9781021897810219\n",
      "Macro F1:  0.9769992724830712\n",
      "Checkpoint loaded from epoch 92\n"
     ]
    },
    {
     "name": "stderr",
     "output_type": "stream",
     "text": [
      "/tmp/ipykernel_35795/3340294074.py:25: FutureWarning: You are using `torch.load` with `weights_only=False` (the current default value), which uses the default pickle module implicitly. It is possible to construct malicious pickle data which will execute arbitrary code during unpickling (See https://github.com/pytorch/pytorch/blob/main/SECURITY.md#untrusted-models for more details). In a future release, the default value for `weights_only` will be flipped to `True`. This limits the functions that could be executed during unpickling. Arbitrary objects will no longer be allowed to be loaded via this mode unless they are explicitly allowlisted by the user via `torch.serialization.add_safe_globals`. We recommend you start setting `weights_only=True` for any use case where you don't have full control of the loaded file. Please open an issue on GitHub for any issues related to this experimental feature.\n",
      "  checkpoint = torch.load(checkpoint_path)\n"
     ]
    },
    {
     "name": "stdout",
     "output_type": "stream",
     "text": [
      "              precision    recall  f1-score   support\n",
      "\n",
      "           0     1.0000    0.9762    0.9880        84\n",
      "           1     0.9636    1.0000    0.9815        53\n",
      "\n",
      "    accuracy                         0.9854       137\n",
      "   macro avg     0.9818    0.9881    0.9847       137\n",
      "weighted avg     0.9859    0.9854    0.9854       137\n",
      "\n",
      "N 92\n",
      "Sensitivity:  0.9818181818181818\n",
      "Specificity:  0.9818181818181818\n",
      "Accuracy:  0.9854014598540146\n",
      "Macro F1:  0.9847166443551986\n",
      "Checkpoint loaded from epoch 93\n"
     ]
    },
    {
     "name": "stderr",
     "output_type": "stream",
     "text": [
      "/tmp/ipykernel_35795/3340294074.py:25: FutureWarning: You are using `torch.load` with `weights_only=False` (the current default value), which uses the default pickle module implicitly. It is possible to construct malicious pickle data which will execute arbitrary code during unpickling (See https://github.com/pytorch/pytorch/blob/main/SECURITY.md#untrusted-models for more details). In a future release, the default value for `weights_only` will be flipped to `True`. This limits the functions that could be executed during unpickling. Arbitrary objects will no longer be allowed to be loaded via this mode unless they are explicitly allowlisted by the user via `torch.serialization.add_safe_globals`. We recommend you start setting `weights_only=True` for any use case where you don't have full control of the loaded file. Please open an issue on GitHub for any issues related to this experimental feature.\n",
      "  checkpoint = torch.load(checkpoint_path)\n"
     ]
    },
    {
     "name": "stdout",
     "output_type": "stream",
     "text": [
      "              precision    recall  f1-score   support\n",
      "\n",
      "           0     0.9762    0.9762    0.9762        84\n",
      "           1     0.9623    0.9623    0.9623        53\n",
      "\n",
      "    accuracy                         0.9708       137\n",
      "   macro avg     0.9692    0.9692    0.9692       137\n",
      "weighted avg     0.9708    0.9708    0.9708       137\n",
      "\n",
      "N 93\n",
      "Sensitivity:  0.9692273135669363\n",
      "Specificity:  0.9692273135669363\n",
      "Accuracy:  0.9708029197080292\n",
      "Macro F1:  0.9692273135669363\n",
      "Checkpoint loaded from epoch 94\n"
     ]
    },
    {
     "name": "stderr",
     "output_type": "stream",
     "text": [
      "/tmp/ipykernel_35795/3340294074.py:25: FutureWarning: You are using `torch.load` with `weights_only=False` (the current default value), which uses the default pickle module implicitly. It is possible to construct malicious pickle data which will execute arbitrary code during unpickling (See https://github.com/pytorch/pytorch/blob/main/SECURITY.md#untrusted-models for more details). In a future release, the default value for `weights_only` will be flipped to `True`. This limits the functions that could be executed during unpickling. Arbitrary objects will no longer be allowed to be loaded via this mode unless they are explicitly allowlisted by the user via `torch.serialization.add_safe_globals`. We recommend you start setting `weights_only=True` for any use case where you don't have full control of the loaded file. Please open an issue on GitHub for any issues related to this experimental feature.\n",
      "  checkpoint = torch.load(checkpoint_path)\n"
     ]
    },
    {
     "name": "stdout",
     "output_type": "stream",
     "text": [
      "              precision    recall  f1-score   support\n",
      "\n",
      "           0     1.0000    0.9762    0.9880        84\n",
      "           1     0.9636    1.0000    0.9815        53\n",
      "\n",
      "    accuracy                         0.9854       137\n",
      "   macro avg     0.9818    0.9881    0.9847       137\n",
      "weighted avg     0.9859    0.9854    0.9854       137\n",
      "\n",
      "N 94\n",
      "Sensitivity:  0.9818181818181818\n",
      "Specificity:  0.9818181818181818\n",
      "Accuracy:  0.9854014598540146\n",
      "Macro F1:  0.9847166443551986\n",
      "Checkpoint loaded from epoch 95\n"
     ]
    },
    {
     "name": "stderr",
     "output_type": "stream",
     "text": [
      "/tmp/ipykernel_35795/3340294074.py:25: FutureWarning: You are using `torch.load` with `weights_only=False` (the current default value), which uses the default pickle module implicitly. It is possible to construct malicious pickle data which will execute arbitrary code during unpickling (See https://github.com/pytorch/pytorch/blob/main/SECURITY.md#untrusted-models for more details). In a future release, the default value for `weights_only` will be flipped to `True`. This limits the functions that could be executed during unpickling. Arbitrary objects will no longer be allowed to be loaded via this mode unless they are explicitly allowlisted by the user via `torch.serialization.add_safe_globals`. We recommend you start setting `weights_only=True` for any use case where you don't have full control of the loaded file. Please open an issue on GitHub for any issues related to this experimental feature.\n",
      "  checkpoint = torch.load(checkpoint_path)\n"
     ]
    },
    {
     "name": "stdout",
     "output_type": "stream",
     "text": [
      "              precision    recall  f1-score   support\n",
      "\n",
      "           0     1.0000    0.9762    0.9880        84\n",
      "           1     0.9636    1.0000    0.9815        53\n",
      "\n",
      "    accuracy                         0.9854       137\n",
      "   macro avg     0.9818    0.9881    0.9847       137\n",
      "weighted avg     0.9859    0.9854    0.9854       137\n",
      "\n",
      "N 95\n",
      "Sensitivity:  0.9818181818181818\n",
      "Specificity:  0.9818181818181818\n",
      "Accuracy:  0.9854014598540146\n",
      "Macro F1:  0.9847166443551986\n",
      "Checkpoint loaded from epoch 96\n"
     ]
    },
    {
     "name": "stderr",
     "output_type": "stream",
     "text": [
      "/tmp/ipykernel_35795/3340294074.py:25: FutureWarning: You are using `torch.load` with `weights_only=False` (the current default value), which uses the default pickle module implicitly. It is possible to construct malicious pickle data which will execute arbitrary code during unpickling (See https://github.com/pytorch/pytorch/blob/main/SECURITY.md#untrusted-models for more details). In a future release, the default value for `weights_only` will be flipped to `True`. This limits the functions that could be executed during unpickling. Arbitrary objects will no longer be allowed to be loaded via this mode unless they are explicitly allowlisted by the user via `torch.serialization.add_safe_globals`. We recommend you start setting `weights_only=True` for any use case where you don't have full control of the loaded file. Please open an issue on GitHub for any issues related to this experimental feature.\n",
      "  checkpoint = torch.load(checkpoint_path)\n"
     ]
    },
    {
     "name": "stdout",
     "output_type": "stream",
     "text": [
      "              precision    recall  f1-score   support\n",
      "\n",
      "           0     1.0000    0.9762    0.9880        84\n",
      "           1     0.9636    1.0000    0.9815        53\n",
      "\n",
      "    accuracy                         0.9854       137\n",
      "   macro avg     0.9818    0.9881    0.9847       137\n",
      "weighted avg     0.9859    0.9854    0.9854       137\n",
      "\n",
      "N 96\n",
      "Sensitivity:  0.9818181818181818\n",
      "Specificity:  0.9818181818181818\n",
      "Accuracy:  0.9854014598540146\n",
      "Macro F1:  0.9847166443551986\n",
      "Checkpoint loaded from epoch 97\n"
     ]
    },
    {
     "name": "stderr",
     "output_type": "stream",
     "text": [
      "/tmp/ipykernel_35795/3340294074.py:25: FutureWarning: You are using `torch.load` with `weights_only=False` (the current default value), which uses the default pickle module implicitly. It is possible to construct malicious pickle data which will execute arbitrary code during unpickling (See https://github.com/pytorch/pytorch/blob/main/SECURITY.md#untrusted-models for more details). In a future release, the default value for `weights_only` will be flipped to `True`. This limits the functions that could be executed during unpickling. Arbitrary objects will no longer be allowed to be loaded via this mode unless they are explicitly allowlisted by the user via `torch.serialization.add_safe_globals`. We recommend you start setting `weights_only=True` for any use case where you don't have full control of the loaded file. Please open an issue on GitHub for any issues related to this experimental feature.\n",
      "  checkpoint = torch.load(checkpoint_path)\n"
     ]
    },
    {
     "name": "stdout",
     "output_type": "stream",
     "text": [
      "              precision    recall  f1-score   support\n",
      "\n",
      "           0     1.0000    0.9762    0.9880        84\n",
      "           1     0.9636    1.0000    0.9815        53\n",
      "\n",
      "    accuracy                         0.9854       137\n",
      "   macro avg     0.9818    0.9881    0.9847       137\n",
      "weighted avg     0.9859    0.9854    0.9854       137\n",
      "\n",
      "N 97\n",
      "Sensitivity:  0.9818181818181818\n",
      "Specificity:  0.9818181818181818\n",
      "Accuracy:  0.9854014598540146\n",
      "Macro F1:  0.9847166443551986\n",
      "Checkpoint loaded from epoch 98\n"
     ]
    },
    {
     "name": "stderr",
     "output_type": "stream",
     "text": [
      "/tmp/ipykernel_35795/3340294074.py:25: FutureWarning: You are using `torch.load` with `weights_only=False` (the current default value), which uses the default pickle module implicitly. It is possible to construct malicious pickle data which will execute arbitrary code during unpickling (See https://github.com/pytorch/pytorch/blob/main/SECURITY.md#untrusted-models for more details). In a future release, the default value for `weights_only` will be flipped to `True`. This limits the functions that could be executed during unpickling. Arbitrary objects will no longer be allowed to be loaded via this mode unless they are explicitly allowlisted by the user via `torch.serialization.add_safe_globals`. We recommend you start setting `weights_only=True` for any use case where you don't have full control of the loaded file. Please open an issue on GitHub for any issues related to this experimental feature.\n",
      "  checkpoint = torch.load(checkpoint_path)\n"
     ]
    },
    {
     "name": "stdout",
     "output_type": "stream",
     "text": [
      "              precision    recall  f1-score   support\n",
      "\n",
      "           0     1.0000    0.9762    0.9880        84\n",
      "           1     0.9636    1.0000    0.9815        53\n",
      "\n",
      "    accuracy                         0.9854       137\n",
      "   macro avg     0.9818    0.9881    0.9847       137\n",
      "weighted avg     0.9859    0.9854    0.9854       137\n",
      "\n",
      "N 98\n",
      "Sensitivity:  0.9818181818181818\n",
      "Specificity:  0.9818181818181818\n",
      "Accuracy:  0.9854014598540146\n",
      "Macro F1:  0.9847166443551986\n",
      "Checkpoint loaded from epoch 99\n"
     ]
    },
    {
     "name": "stderr",
     "output_type": "stream",
     "text": [
      "/tmp/ipykernel_35795/3340294074.py:25: FutureWarning: You are using `torch.load` with `weights_only=False` (the current default value), which uses the default pickle module implicitly. It is possible to construct malicious pickle data which will execute arbitrary code during unpickling (See https://github.com/pytorch/pytorch/blob/main/SECURITY.md#untrusted-models for more details). In a future release, the default value for `weights_only` will be flipped to `True`. This limits the functions that could be executed during unpickling. Arbitrary objects will no longer be allowed to be loaded via this mode unless they are explicitly allowlisted by the user via `torch.serialization.add_safe_globals`. We recommend you start setting `weights_only=True` for any use case where you don't have full control of the loaded file. Please open an issue on GitHub for any issues related to this experimental feature.\n",
      "  checkpoint = torch.load(checkpoint_path)\n"
     ]
    },
    {
     "name": "stdout",
     "output_type": "stream",
     "text": [
      "              precision    recall  f1-score   support\n",
      "\n",
      "           0     0.9880    0.9762    0.9820        84\n",
      "           1     0.9630    0.9811    0.9720        53\n",
      "\n",
      "    accuracy                         0.9781       137\n",
      "   macro avg     0.9755    0.9787    0.9770       137\n",
      "weighted avg     0.9783    0.9781    0.9781       137\n",
      "\n",
      "N 99\n",
      "Sensitivity:  0.9754573850959393\n",
      "Specificity:  0.9754573850959393\n",
      "Accuracy:  0.9781021897810219\n",
      "Macro F1:  0.9769992724830712\n",
      "Checkpoint loaded from epoch 100\n"
     ]
    },
    {
     "name": "stderr",
     "output_type": "stream",
     "text": [
      "/tmp/ipykernel_35795/3340294074.py:25: FutureWarning: You are using `torch.load` with `weights_only=False` (the current default value), which uses the default pickle module implicitly. It is possible to construct malicious pickle data which will execute arbitrary code during unpickling (See https://github.com/pytorch/pytorch/blob/main/SECURITY.md#untrusted-models for more details). In a future release, the default value for `weights_only` will be flipped to `True`. This limits the functions that could be executed during unpickling. Arbitrary objects will no longer be allowed to be loaded via this mode unless they are explicitly allowlisted by the user via `torch.serialization.add_safe_globals`. We recommend you start setting `weights_only=True` for any use case where you don't have full control of the loaded file. Please open an issue on GitHub for any issues related to this experimental feature.\n",
      "  checkpoint = torch.load(checkpoint_path)\n"
     ]
    },
    {
     "name": "stdout",
     "output_type": "stream",
     "text": [
      "              precision    recall  f1-score   support\n",
      "\n",
      "           0     1.0000    0.9762    0.9880        84\n",
      "           1     0.9636    1.0000    0.9815        53\n",
      "\n",
      "    accuracy                         0.9854       137\n",
      "   macro avg     0.9818    0.9881    0.9847       137\n",
      "weighted avg     0.9859    0.9854    0.9854       137\n",
      "\n",
      "N 100\n",
      "Sensitivity:  0.9818181818181818\n",
      "Specificity:  0.9818181818181818\n",
      "Accuracy:  0.9854014598540146\n",
      "Macro F1:  0.9847166443551986\n"
     ]
    }
   ],
   "source": [
    "import torch\n",
    "import torch.nn as nn\n",
    "import os\n",
    "from torchvision import transforms, models\n",
    "from PIL import Image\n",
    "from sklearn.metrics import classification_report\n",
    "import numpy as np\n",
    "import time\n",
    "from sklearn.metrics import confusion_matrix\n",
    "import csv\n",
    "start_time = time.time() \n",
    "class StudentNetwork(nn.Module):\n",
    "    def __init__(self, num_classes=10):\n",
    "        super(StudentNetwork, self).__init__()\n",
    "        self.backbone = models.mobilenet_v2(pretrained=True)        \n",
    "        for param in self.backbone.parameters():\n",
    "            param.requires_grad = False\n",
    "        self.backbone.classifier[1] = nn.Linear(self.backbone.last_channel, 2)        \n",
    "    def forward(self, x):\n",
    "        out = self.backbone(x)        \n",
    "        return out\n",
    "def load_checkpoint(model, checkpoint_path='best_model.pth'):\n",
    "    checkpoint = torch.load(checkpoint_path)\n",
    "    model.load_state_dict(checkpoint['model_state_dict'])\n",
    "    model.eval() \n",
    "    print(f\"Checkpoint loaded from epoch {checkpoint['epoch']+1}\")\n",
    "def preprocess_image(image_path, transform):\n",
    "    img = Image.open(image_path).convert('RGB')\n",
    "    img = transform(img).unsqueeze(0)  \n",
    "    return img\n",
    "def predict_image(model, image_path, transform, device='cuda'):\n",
    "    img = preprocess_image(image_path, transform).to(device)  \n",
    "    with torch.no_grad():\n",
    "        output = model(img)\n",
    "    _, predicted_class = torch.max(output, 1)\n",
    "    return predicted_class.item()\n",
    "def evaluate_folder(model, folder_path, transform, device='cuda'):\n",
    "    all_preds = []\n",
    "    all_labels = []\n",
    "    for class_folder in os.listdir(folder_path):\n",
    "        class_folder_path = os.path.join(folder_path, class_folder)\n",
    "        if os.path.isdir(class_folder_path):  \n",
    "            for img_name in os.listdir(class_folder_path):\n",
    "                img_path = os.path.join(class_folder_path, img_name)\n",
    "                true_label = int(class_folder) \n",
    "                predicted_class = predict_image(model, img_path, transform, device)\n",
    "                all_labels.append(true_label)\n",
    "                all_preds.append(predicted_class)\n",
    "    return all_labels, all_preds\n",
    "transform = transforms.Compose([\n",
    "    transforms.Resize((224, 224)), \n",
    "    transforms.ToTensor(),\n",
    "    transforms.Normalize(mean=[0.485, 0.456, 0.406], std=[0.229, 0.224, 0.225])\n",
    "])\n",
    "def calculate_sensitivity_specificity(conf_matrix):\n",
    "    sensitivity = {}\n",
    "    specificity = {}\n",
    "    f1_score = {}\n",
    "    for i in range(conf_matrix.shape[0]):\n",
    "        TP = conf_matrix[i, i]\n",
    "        FN = conf_matrix[:, i].sum() - TP\n",
    "        FP = conf_matrix[i, :].sum() - TP\n",
    "        TN = conf_matrix.sum() - (FP + FN + TP)\n",
    "        sensitivity[i] = TP / (TP + FN) if (TP + FN) != 0 else 0\n",
    "        specificity[i] = TN / (TN + FP) if (TN + FP) != 0 else 0\n",
    "        precision = TP / (TP + FP) if (TP + FP) != 0 else 0\n",
    "        f1_score[i] = 2 * (precision * sensitivity[i]) / (precision + sensitivity[i]) if (precision + sensitivity[i]) != 0 else 0\n",
    "    sensitivity = (sensitivity[0]+sensitivity[1])/2\n",
    "    specificity = (specificity[0]+specificity[1])/2    \n",
    "    f1_score = (f1_score[0]+f1_score[1])/2\n",
    "    return sensitivity, specificity, f1_score\n",
    "student_model = StudentNetwork(num_classes=2).cuda() \n",
    "test_folder_path = './syn_vision_dataset/test/' \n",
    "sens=[]\n",
    "spec=[]\n",
    "f1=[]\n",
    "acc=[]\n",
    "with open('30_results.csv', mode='w', newline='') as file:\n",
    "    writer = csv.writer(file)\n",
    "    writer.writerow(['N', 'Sensitivity', 'Specificity', 'Accuracy', 'Macro F1'])\n",
    "    for i in range(71, 101):\n",
    "        c_path = './checkpoints/' + str(i) + '_best_model.pth'\n",
    "        load_checkpoint(student_model, checkpoint_path=c_path) \n",
    "        true_labels, predicted_labels = evaluate_folder(student_model, test_folder_path, transform, device='cuda')\n",
    "        report = classification_report(true_labels, predicted_labels, target_names=[str(i) for i in range(2)], digits=4)\n",
    "        print(report)\n",
    "        conf_matrix = confusion_matrix(true_labels, predicted_labels)\n",
    "        sensitivity, specificity, f1_score = calculate_sensitivity_specificity(conf_matrix)\n",
    "        accuracy = np.trace(conf_matrix) / np.sum(conf_matrix)\n",
    "        print(f\"N {i}\")\n",
    "        print(\"Sensitivity: \", sensitivity)\n",
    "        print(\"Specificity: \", specificity)\n",
    "        print(\"Accuracy: \", accuracy)\n",
    "        print(\"Macro F1: \", f1_score)\n",
    "        writer.writerow([i, sensitivity, specificity, accuracy, f1_score])"
   ]
  },
  {
   "cell_type": "code",
   "execution_count": 3,
   "id": "d1bf2001",
   "metadata": {},
   "outputs": [
    {
     "data": {
      "text/plain": [
       "[]"
      ]
     },
     "execution_count": 3,
     "metadata": {},
     "output_type": "execute_result"
    }
   ],
   "source": [
    "f1\n"
   ]
  },
  {
   "cell_type": "code",
   "execution_count": null,
   "id": "e61a7454",
   "metadata": {},
   "outputs": [],
   "source": []
  }
 ],
 "metadata": {
  "kernelspec": {
   "display_name": "Python 3 (ipykernel)",
   "language": "python",
   "name": "python3"
  },
  "language_info": {
   "codemirror_mode": {
    "name": "ipython",
    "version": 3
   },
   "file_extension": ".py",
   "mimetype": "text/x-python",
   "name": "python",
   "nbconvert_exporter": "python",
   "pygments_lexer": "ipython3",
   "version": "3.10.9"
  }
 },
 "nbformat": 4,
 "nbformat_minor": 5
}
