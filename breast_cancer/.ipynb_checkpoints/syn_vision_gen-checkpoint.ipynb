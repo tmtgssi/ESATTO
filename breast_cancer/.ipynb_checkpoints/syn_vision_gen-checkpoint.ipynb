{
 "cells": [
  {
   "cell_type": "code",
   "execution_count": 1,
   "id": "e47bd4ac",
   "metadata": {},
   "outputs": [
    {
     "name": "stdout",
     "output_type": "stream",
     "text": [
      "[' Clump Thickness', 'Uniformity of Cell Size', 'Uniformity of Cell Shape', 'Marginal Adhesion', 'Single Epithelial Cell Size', 'Bare Nuclei', 'Bland Chromatin', 'Normal Nucleoli', 'Mitoses', 'Class']\n"
     ]
    },
    {
     "name": "stderr",
     "output_type": "stream",
     "text": [
      "/tmp/ipykernel_25775/1776521057.py:27: RuntimeWarning: invalid value encountered in long_scalars\n",
      "  return [(new_max - new_min) * (num - old_min) / (old_max - old_min) + new_min for num in numbers]\n"
     ]
    }
   ],
   "source": [
    "import pandas as pd\n",
    "import numpy as np, os\n",
    "import cv2\n",
    "from scipy.ndimage import gaussian_filter\n",
    "import matplotlib.pyplot as plt\n",
    "df = pd.read_csv('./tabular_dataset/train.csv')\n",
    "path = './syn_vision_dataset/train/'\n",
    "columns = df.columns\n",
    "print(columns.tolist())\n",
    "if not os.path.exists(path):\n",
    "    os.makedirs(path)\n",
    "for k in range(len(df.Class.unique())):\n",
    "    if not os.path.exists(path+str(k)):\n",
    "        os.makedirs(path+str(k))\n",
    "def normalize_to_range(data):\n",
    "    min_val = min(data)\n",
    "    max_val = max(data)\n",
    "    normalized_data = [(x - min_val) / (max_val - min_val) for x in data]\n",
    "    return normalized_data\n",
    "def normalize_to_range(numbers, new_min=0, new_max=1):\n",
    "    old_min, old_max = min(numbers), max(numbers)\n",
    "    return [(new_max - new_min) * (num - old_min) / (old_max - old_min) + new_min for num in numbers]\n",
    "for index, row in sorted(df.iterrows()):\n",
    "    numbers = row[:-1].values \n",
    "    numbers_norm = normalize_to_range(numbers)    \n",
    "    feature_map = np.zeros((224, 224))\n",
    "    center_point = (112, 112)\n",
    "    radius = 72\n",
    "    num_points = len(numbers) \n",
    "    angles = np.linspace(0, 2 * np.pi, num_points, endpoint=False)\n",
    "    polygon_points = [\n",
    "        (int(center_point[0] + radius * np.cos(angle)),\n",
    "         int(center_point[1] + radius * np.sin(angle)))\n",
    "        for angle in angles\n",
    "    ]\n",
    "    positions = [center_point] + polygon_points\n",
    "    for pos, value in zip(positions, numbers_norm):\n",
    "        feature_map[pos] = value\n",
    "    smoothed_feature_map = gaussian_filter(feature_map, sigma=10)\n",
    "    smoothed_feature_map = cv2.normalize(smoothed_feature_map, None, 0, 255, cv2.NORM_MINMAX)\n",
    "    smoothed_feature_map = smoothed_feature_map.astype(np.uint8)  \n",
    "    feature_map_rgb = cv2.applyColorMap(smoothed_feature_map, cv2.COLORMAP_JET)\n",
    "    class_label = int(row[-1])  \n",
    "    class_folder = path + str(class_label) + '/'\n",
    "    cv2.imwrite(class_folder + str(index).zfill(4) + \".png\", feature_map_rgb)"
   ]
  },
  {
   "cell_type": "code",
   "execution_count": 2,
   "id": "971d7740",
   "metadata": {},
   "outputs": [
    {
     "name": "stdout",
     "output_type": "stream",
     "text": [
      "[' Clump Thickness', 'Uniformity of Cell Size', 'Uniformity of Cell Shape', 'Marginal Adhesion', 'Single Epithelial Cell Size', 'Bare Nuclei', 'Bland Chromatin', 'Normal Nucleoli', 'Mitoses', 'Class']\n"
     ]
    },
    {
     "name": "stderr",
     "output_type": "stream",
     "text": [
      "/tmp/ipykernel_25775/2964191699.py:27: RuntimeWarning: invalid value encountered in long_scalars\n",
      "  return [(new_max - new_min) * (num - old_min) / (old_max - old_min) + new_min for num in numbers]\n"
     ]
    }
   ],
   "source": [
    "import pandas as pd\n",
    "import numpy as np, os\n",
    "import cv2\n",
    "from scipy.ndimage import gaussian_filter\n",
    "import matplotlib.pyplot as plt\n",
    "df = pd.read_csv('./tabular_dataset/val.csv')\n",
    "path = './syn_vision_dataset/val/'\n",
    "columns = df.columns\n",
    "print(columns.tolist())\n",
    "if not os.path.exists(path):\n",
    "    os.makedirs(path)\n",
    "for k in range(len(df.Class.unique())):\n",
    "    if not os.path.exists(path+str(k)):\n",
    "        os.makedirs(path+str(k))\n",
    "def normalize_to_range(data):\n",
    "    min_val = min(data)\n",
    "    max_val = max(data)\n",
    "    normalized_data = [(x - min_val) / (max_val - min_val) for x in data]\n",
    "    return normalized_data\n",
    "def normalize_to_range(numbers, new_min=0, new_max=1):\n",
    "    old_min, old_max = min(numbers), max(numbers)\n",
    "    return [(new_max - new_min) * (num - old_min) / (old_max - old_min) + new_min for num in numbers]\n",
    "for index, row in sorted(df.iterrows()):\n",
    "    numbers = row[:-1].values \n",
    "    numbers_norm = normalize_to_range(numbers)    \n",
    "    feature_map = np.zeros((224, 224))\n",
    "    center_point = (112, 112)\n",
    "    radius = 72\n",
    "    num_points = len(numbers) \n",
    "    angles = np.linspace(0, 2 * np.pi, num_points, endpoint=False)\n",
    "    polygon_points = [\n",
    "        (int(center_point[0] + radius * np.cos(angle)),\n",
    "         int(center_point[1] + radius * np.sin(angle)))\n",
    "        for angle in angles\n",
    "    ]\n",
    "    positions = [center_point] + polygon_points\n",
    "    for pos, value in zip(positions, numbers_norm):\n",
    "        feature_map[pos] = value\n",
    "    smoothed_feature_map = gaussian_filter(feature_map, sigma=10)\n",
    "    smoothed_feature_map = cv2.normalize(smoothed_feature_map, None, 0, 255, cv2.NORM_MINMAX)\n",
    "    smoothed_feature_map = smoothed_feature_map.astype(np.uint8)  \n",
    "    feature_map_rgb = cv2.applyColorMap(smoothed_feature_map, cv2.COLORMAP_JET)\n",
    "    class_label = int(row[-1])  \n",
    "    class_folder = path + str(class_label) + '/'\n",
    "    cv2.imwrite(class_folder + str(index).zfill(4) + \".png\", feature_map_rgb)"
   ]
  },
  {
   "cell_type": "code",
   "execution_count": 3,
   "id": "fc1a24d4",
   "metadata": {},
   "outputs": [
    {
     "name": "stdout",
     "output_type": "stream",
     "text": [
      "[' Clump Thickness', 'Uniformity of Cell Size', 'Uniformity of Cell Shape', 'Marginal Adhesion', 'Single Epithelial Cell Size', 'Bare Nuclei', 'Bland Chromatin', 'Normal Nucleoli', 'Mitoses', 'Class']\n"
     ]
    }
   ],
   "source": [
    "import pandas as pd\n",
    "import numpy as np, os\n",
    "import cv2\n",
    "from scipy.ndimage import gaussian_filter\n",
    "import matplotlib.pyplot as plt\n",
    "df = pd.read_csv('./tabular_dataset/test.csv')\n",
    "path = './syn_vision_dataset/test/'\n",
    "columns = df.columns\n",
    "print(columns.tolist())\n",
    "if not os.path.exists(path):\n",
    "    os.makedirs(path)\n",
    "for k in range(len(df.Class.unique())):\n",
    "    if not os.path.exists(path+str(k)):\n",
    "        os.makedirs(path+str(k))\n",
    "def normalize_to_range(data):\n",
    "    min_val = min(data)\n",
    "    max_val = max(data)\n",
    "    normalized_data = [(x - min_val) / (max_val - min_val) for x in data]\n",
    "    return normalized_data\n",
    "def normalize_to_range(numbers, new_min=0, new_max=1):\n",
    "    old_min, old_max = min(numbers), max(numbers)\n",
    "    return [(new_max - new_min) * (num - old_min) / (old_max - old_min) + new_min for num in numbers]\n",
    "for index, row in sorted(df.iterrows()):\n",
    "    numbers = row[:-1].values \n",
    "    numbers_norm = normalize_to_range(numbers)    \n",
    "    feature_map = np.zeros((224, 224))\n",
    "    center_point = (112, 112)\n",
    "    radius = 72\n",
    "    num_points = len(numbers) \n",
    "    angles = np.linspace(0, 2 * np.pi, num_points, endpoint=False)\n",
    "    polygon_points = [\n",
    "        (int(center_point[0] + radius * np.cos(angle)),\n",
    "         int(center_point[1] + radius * np.sin(angle)))\n",
    "        for angle in angles\n",
    "    ]\n",
    "    positions = [center_point] + polygon_points\n",
    "    for pos, value in zip(positions, numbers_norm):\n",
    "        feature_map[pos] = value\n",
    "    smoothed_feature_map = gaussian_filter(feature_map, sigma=10)\n",
    "    smoothed_feature_map = cv2.normalize(smoothed_feature_map, None, 0, 255, cv2.NORM_MINMAX)\n",
    "    smoothed_feature_map = smoothed_feature_map.astype(np.uint8)  \n",
    "    feature_map_rgb = cv2.applyColorMap(smoothed_feature_map, cv2.COLORMAP_JET)\n",
    "    class_label = int(row[-1])  \n",
    "    class_folder = path + str(class_label) + '/'\n",
    "    cv2.imwrite(class_folder + str(index).zfill(4) + \".png\", feature_map_rgb)"
   ]
  },
  {
   "cell_type": "code",
   "execution_count": null,
   "id": "4fede797",
   "metadata": {},
   "outputs": [],
   "source": []
  }
 ],
 "metadata": {
  "kernelspec": {
   "display_name": "Python 3 (ipykernel)",
   "language": "python",
   "name": "python3"
  },
  "language_info": {
   "codemirror_mode": {
    "name": "ipython",
    "version": 3
   },
   "file_extension": ".py",
   "mimetype": "text/x-python",
   "name": "python",
   "nbconvert_exporter": "python",
   "pygments_lexer": "ipython3",
   "version": "3.10.9"
  }
 },
 "nbformat": 4,
 "nbformat_minor": 5
}
