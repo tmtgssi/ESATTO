{
 "cells": [
  {
   "cell_type": "code",
   "execution_count": 1,
   "id": "4ff52092",
   "metadata": {},
   "outputs": [
    {
     "name": "stderr",
     "output_type": "stream",
     "text": [
      "/home/philipslinux/anaconda3/lib/python3.9/site-packages/torchvision/models/_utils.py:208: UserWarning: The parameter 'pretrained' is deprecated since 0.13 and may be removed in the future, please use 'weights' instead.\n",
      "  warnings.warn(\n",
      "/home/philipslinux/anaconda3/lib/python3.9/site-packages/torchvision/models/_utils.py:223: UserWarning: Arguments other than a weight enum or `None` for 'weights' are deprecated since 0.13 and may be removed in the future. The current behavior is equivalent to passing `weights=ResNet152_Weights.IMAGENET1K_V1`. You can also use `weights=ResNet152_Weights.DEFAULT` to get the most up-to-date weights.\n",
      "  warnings.warn(msg)\n"
     ]
    },
    {
     "name": "stdout",
     "output_type": "stream",
     "text": [
      "Starting Phase 1...\n",
      "Phase 1 - Epoch [1/100]\n"
     ]
    },
    {
     "name": "stderr",
     "output_type": "stream",
     "text": [
      "Training: 100%|███████████████████████████████████| 4/4 [00:02<00:00,  1.73it/s]\n",
      "Evaluating: 100%|███████████████████████████████| 16/16 [00:00<00:00, 64.57it/s]\n",
      "/home/philipslinux/anaconda3/lib/python3.9/site-packages/sklearn/metrics/_classification.py:1334: UndefinedMetricWarning: Precision and F-score are ill-defined and being set to 0.0 in labels with no predicted samples. Use `zero_division` parameter to control this behavior.\n",
      "  _warn_prf(average, modifier, msg_start, len(result))\n",
      "/home/philipslinux/anaconda3/lib/python3.9/site-packages/sklearn/metrics/_classification.py:1334: UndefinedMetricWarning: Precision and F-score are ill-defined and being set to 0.0 in labels with no predicted samples. Use `zero_division` parameter to control this behavior.\n",
      "  _warn_prf(average, modifier, msg_start, len(result))\n",
      "/home/philipslinux/anaconda3/lib/python3.9/site-packages/sklearn/metrics/_classification.py:1334: UndefinedMetricWarning: Precision and F-score are ill-defined and being set to 0.0 in labels with no predicted samples. Use `zero_division` parameter to control this behavior.\n",
      "  _warn_prf(average, modifier, msg_start, len(result))\n"
     ]
    },
    {
     "name": "stdout",
     "output_type": "stream",
     "text": [
      "Train Loss: 4.7708, Train Accuracy: 22.67%, Valid Loss: 17.8071, Valid Accuracy: 37.50%\n",
      "Best model saved with validation accuracy in phase 1: 37.50%\n",
      "Phase 1 - Epoch [2/100]\n"
     ]
    },
    {
     "name": "stderr",
     "output_type": "stream",
     "text": [
      "Training: 100%|███████████████████████████████████| 4/4 [00:01<00:00,  3.96it/s]\n",
      "Evaluating: 100%|███████████████████████████████| 16/16 [00:00<00:00, 59.55it/s]\n",
      "/home/philipslinux/anaconda3/lib/python3.9/site-packages/sklearn/metrics/_classification.py:1334: UndefinedMetricWarning: Precision and F-score are ill-defined and being set to 0.0 in labels with no predicted samples. Use `zero_division` parameter to control this behavior.\n",
      "  _warn_prf(average, modifier, msg_start, len(result))\n",
      "/home/philipslinux/anaconda3/lib/python3.9/site-packages/sklearn/metrics/_classification.py:1334: UndefinedMetricWarning: Precision and F-score are ill-defined and being set to 0.0 in labels with no predicted samples. Use `zero_division` parameter to control this behavior.\n",
      "  _warn_prf(average, modifier, msg_start, len(result))\n",
      "/home/philipslinux/anaconda3/lib/python3.9/site-packages/sklearn/metrics/_classification.py:1334: UndefinedMetricWarning: Precision and F-score are ill-defined and being set to 0.0 in labels with no predicted samples. Use `zero_division` parameter to control this behavior.\n",
      "  _warn_prf(average, modifier, msg_start, len(result))\n"
     ]
    },
    {
     "name": "stdout",
     "output_type": "stream",
     "text": [
      "Train Loss: 2.1147, Train Accuracy: 50.67%, Valid Loss: 53.0740, Valid Accuracy: 18.75%\n",
      "Phase 1 - Epoch [3/100]\n"
     ]
    },
    {
     "name": "stderr",
     "output_type": "stream",
     "text": [
      "Training: 100%|███████████████████████████████████| 4/4 [00:00<00:00,  4.25it/s]\n",
      "Evaluating: 100%|███████████████████████████████| 16/16 [00:00<00:00, 65.25it/s]\n",
      "/home/philipslinux/anaconda3/lib/python3.9/site-packages/sklearn/metrics/_classification.py:1334: UndefinedMetricWarning: Precision and F-score are ill-defined and being set to 0.0 in labels with no predicted samples. Use `zero_division` parameter to control this behavior.\n",
      "  _warn_prf(average, modifier, msg_start, len(result))\n",
      "/home/philipslinux/anaconda3/lib/python3.9/site-packages/sklearn/metrics/_classification.py:1334: UndefinedMetricWarning: Precision and F-score are ill-defined and being set to 0.0 in labels with no predicted samples. Use `zero_division` parameter to control this behavior.\n",
      "  _warn_prf(average, modifier, msg_start, len(result))\n",
      "/home/philipslinux/anaconda3/lib/python3.9/site-packages/sklearn/metrics/_classification.py:1334: UndefinedMetricWarning: Precision and F-score are ill-defined and being set to 0.0 in labels with no predicted samples. Use `zero_division` parameter to control this behavior.\n",
      "  _warn_prf(average, modifier, msg_start, len(result))\n"
     ]
    },
    {
     "name": "stdout",
     "output_type": "stream",
     "text": [
      "Train Loss: 1.6631, Train Accuracy: 49.33%, Valid Loss: 42630.7830, Valid Accuracy: 25.00%\n",
      "Phase 1 - Epoch [4/100]\n"
     ]
    },
    {
     "name": "stderr",
     "output_type": "stream",
     "text": [
      "Training: 100%|███████████████████████████████████| 4/4 [00:00<00:00,  4.15it/s]\n",
      "Evaluating: 100%|███████████████████████████████| 16/16 [00:00<00:00, 72.46it/s]\n",
      "/home/philipslinux/anaconda3/lib/python3.9/site-packages/sklearn/metrics/_classification.py:1334: UndefinedMetricWarning: Precision and F-score are ill-defined and being set to 0.0 in labels with no predicted samples. Use `zero_division` parameter to control this behavior.\n",
      "  _warn_prf(average, modifier, msg_start, len(result))\n",
      "/home/philipslinux/anaconda3/lib/python3.9/site-packages/sklearn/metrics/_classification.py:1334: UndefinedMetricWarning: Precision and F-score are ill-defined and being set to 0.0 in labels with no predicted samples. Use `zero_division` parameter to control this behavior.\n",
      "  _warn_prf(average, modifier, msg_start, len(result))\n",
      "/home/philipslinux/anaconda3/lib/python3.9/site-packages/sklearn/metrics/_classification.py:1334: UndefinedMetricWarning: Precision and F-score are ill-defined and being set to 0.0 in labels with no predicted samples. Use `zero_division` parameter to control this behavior.\n",
      "  _warn_prf(average, modifier, msg_start, len(result))\n"
     ]
    },
    {
     "name": "stdout",
     "output_type": "stream",
     "text": [
      "Train Loss: 1.6895, Train Accuracy: 41.33%, Valid Loss: 2.8996, Valid Accuracy: 12.50%\n",
      "Phase 1 - Epoch [5/100]\n"
     ]
    },
    {
     "name": "stderr",
     "output_type": "stream",
     "text": [
      "Training: 100%|███████████████████████████████████| 4/4 [00:00<00:00,  4.50it/s]\n",
      "Evaluating: 100%|███████████████████████████████| 16/16 [00:00<00:00, 71.86it/s]\n",
      "/home/philipslinux/anaconda3/lib/python3.9/site-packages/sklearn/metrics/_classification.py:1334: UndefinedMetricWarning: Precision and F-score are ill-defined and being set to 0.0 in labels with no predicted samples. Use `zero_division` parameter to control this behavior.\n",
      "  _warn_prf(average, modifier, msg_start, len(result))\n",
      "/home/philipslinux/anaconda3/lib/python3.9/site-packages/sklearn/metrics/_classification.py:1334: UndefinedMetricWarning: Precision and F-score are ill-defined and being set to 0.0 in labels with no predicted samples. Use `zero_division` parameter to control this behavior.\n",
      "  _warn_prf(average, modifier, msg_start, len(result))\n",
      "/home/philipslinux/anaconda3/lib/python3.9/site-packages/sklearn/metrics/_classification.py:1334: UndefinedMetricWarning: Precision and F-score are ill-defined and being set to 0.0 in labels with no predicted samples. Use `zero_division` parameter to control this behavior.\n",
      "  _warn_prf(average, modifier, msg_start, len(result))\n"
     ]
    },
    {
     "name": "stdout",
     "output_type": "stream",
     "text": [
      "Train Loss: 1.2815, Train Accuracy: 33.33%, Valid Loss: 7.3296, Valid Accuracy: 43.75%\n",
      "Best model saved with validation accuracy in phase 1: 43.75%\n",
      "Phase 1 - Epoch [6/100]\n"
     ]
    },
    {
     "name": "stderr",
     "output_type": "stream",
     "text": [
      "Training: 100%|███████████████████████████████████| 4/4 [00:01<00:00,  3.88it/s]\n",
      "Evaluating: 100%|███████████████████████████████| 16/16 [00:00<00:00, 64.69it/s]\n",
      "/home/philipslinux/anaconda3/lib/python3.9/site-packages/sklearn/metrics/_classification.py:1334: UndefinedMetricWarning: Precision and F-score are ill-defined and being set to 0.0 in labels with no predicted samples. Use `zero_division` parameter to control this behavior.\n",
      "  _warn_prf(average, modifier, msg_start, len(result))\n",
      "/home/philipslinux/anaconda3/lib/python3.9/site-packages/sklearn/metrics/_classification.py:1334: UndefinedMetricWarning: Precision and F-score are ill-defined and being set to 0.0 in labels with no predicted samples. Use `zero_division` parameter to control this behavior.\n",
      "  _warn_prf(average, modifier, msg_start, len(result))\n",
      "/home/philipslinux/anaconda3/lib/python3.9/site-packages/sklearn/metrics/_classification.py:1334: UndefinedMetricWarning: Precision and F-score are ill-defined and being set to 0.0 in labels with no predicted samples. Use `zero_division` parameter to control this behavior.\n",
      "  _warn_prf(average, modifier, msg_start, len(result))\n"
     ]
    },
    {
     "name": "stdout",
     "output_type": "stream",
     "text": [
      "Train Loss: 1.1343, Train Accuracy: 61.33%, Valid Loss: 2.4073, Valid Accuracy: 12.50%\n",
      "Phase 1 - Epoch [7/100]\n"
     ]
    },
    {
     "name": "stderr",
     "output_type": "stream",
     "text": [
      "Training: 100%|███████████████████████████████████| 4/4 [00:00<00:00,  4.51it/s]\n",
      "Evaluating: 100%|███████████████████████████████| 16/16 [00:00<00:00, 72.76it/s]\n"
     ]
    },
    {
     "name": "stdout",
     "output_type": "stream",
     "text": [
      "Train Loss: 1.0687, Train Accuracy: 54.67%, Valid Loss: 1.8332, Valid Accuracy: 25.00%\n",
      "Phase 1 - Epoch [8/100]\n"
     ]
    },
    {
     "name": "stderr",
     "output_type": "stream",
     "text": [
      "Training: 100%|███████████████████████████████████| 4/4 [00:00<00:00,  4.48it/s]\n",
      "Evaluating: 100%|███████████████████████████████| 16/16 [00:00<00:00, 69.85it/s]\n",
      "/home/philipslinux/anaconda3/lib/python3.9/site-packages/sklearn/metrics/_classification.py:1334: UndefinedMetricWarning: Precision and F-score are ill-defined and being set to 0.0 in labels with no predicted samples. Use `zero_division` parameter to control this behavior.\n",
      "  _warn_prf(average, modifier, msg_start, len(result))\n",
      "/home/philipslinux/anaconda3/lib/python3.9/site-packages/sklearn/metrics/_classification.py:1334: UndefinedMetricWarning: Precision and F-score are ill-defined and being set to 0.0 in labels with no predicted samples. Use `zero_division` parameter to control this behavior.\n",
      "  _warn_prf(average, modifier, msg_start, len(result))\n",
      "/home/philipslinux/anaconda3/lib/python3.9/site-packages/sklearn/metrics/_classification.py:1334: UndefinedMetricWarning: Precision and F-score are ill-defined and being set to 0.0 in labels with no predicted samples. Use `zero_division` parameter to control this behavior.\n",
      "  _warn_prf(average, modifier, msg_start, len(result))\n"
     ]
    },
    {
     "name": "stdout",
     "output_type": "stream",
     "text": [
      "Train Loss: 1.0236, Train Accuracy: 68.00%, Valid Loss: 1.2260, Valid Accuracy: 62.50%\n",
      "Best model saved with validation accuracy in phase 1: 62.50%\n",
      "Phase 1 - Epoch [9/100]\n"
     ]
    },
    {
     "name": "stderr",
     "output_type": "stream",
     "text": [
      "Training: 100%|███████████████████████████████████| 4/4 [00:01<00:00,  3.83it/s]\n",
      "Evaluating: 100%|███████████████████████████████| 16/16 [00:00<00:00, 64.39it/s]\n"
     ]
    },
    {
     "name": "stdout",
     "output_type": "stream",
     "text": [
      "Train Loss: 0.9337, Train Accuracy: 76.00%, Valid Loss: 4.2555, Valid Accuracy: 43.75%\n",
      "Phase 1 - Epoch [10/100]\n"
     ]
    },
    {
     "name": "stderr",
     "output_type": "stream",
     "text": [
      "Training: 100%|███████████████████████████████████| 4/4 [00:00<00:00,  4.50it/s]\n",
      "Evaluating: 100%|███████████████████████████████| 16/16 [00:00<00:00, 63.79it/s]\n",
      "/home/philipslinux/anaconda3/lib/python3.9/site-packages/sklearn/metrics/_classification.py:1334: UndefinedMetricWarning: Precision and F-score are ill-defined and being set to 0.0 in labels with no predicted samples. Use `zero_division` parameter to control this behavior.\n",
      "  _warn_prf(average, modifier, msg_start, len(result))\n",
      "/home/philipslinux/anaconda3/lib/python3.9/site-packages/sklearn/metrics/_classification.py:1334: UndefinedMetricWarning: Precision and F-score are ill-defined and being set to 0.0 in labels with no predicted samples. Use `zero_division` parameter to control this behavior.\n",
      "  _warn_prf(average, modifier, msg_start, len(result))\n",
      "/home/philipslinux/anaconda3/lib/python3.9/site-packages/sklearn/metrics/_classification.py:1334: UndefinedMetricWarning: Precision and F-score are ill-defined and being set to 0.0 in labels with no predicted samples. Use `zero_division` parameter to control this behavior.\n",
      "  _warn_prf(average, modifier, msg_start, len(result))\n"
     ]
    },
    {
     "name": "stdout",
     "output_type": "stream",
     "text": [
      "Train Loss: 1.0702, Train Accuracy: 64.00%, Valid Loss: 4.0504, Valid Accuracy: 12.50%\n",
      "Phase 1 - Epoch [11/100]\n"
     ]
    },
    {
     "name": "stderr",
     "output_type": "stream",
     "text": [
      "Training: 100%|███████████████████████████████████| 4/4 [00:00<00:00,  4.50it/s]\n",
      "Evaluating: 100%|███████████████████████████████| 16/16 [00:00<00:00, 71.07it/s]\n",
      "/home/philipslinux/anaconda3/lib/python3.9/site-packages/sklearn/metrics/_classification.py:1334: UndefinedMetricWarning: Precision and F-score are ill-defined and being set to 0.0 in labels with no predicted samples. Use `zero_division` parameter to control this behavior.\n",
      "  _warn_prf(average, modifier, msg_start, len(result))\n",
      "/home/philipslinux/anaconda3/lib/python3.9/site-packages/sklearn/metrics/_classification.py:1334: UndefinedMetricWarning: Precision and F-score are ill-defined and being set to 0.0 in labels with no predicted samples. Use `zero_division` parameter to control this behavior.\n",
      "  _warn_prf(average, modifier, msg_start, len(result))\n",
      "/home/philipslinux/anaconda3/lib/python3.9/site-packages/sklearn/metrics/_classification.py:1334: UndefinedMetricWarning: Precision and F-score are ill-defined and being set to 0.0 in labels with no predicted samples. Use `zero_division` parameter to control this behavior.\n",
      "  _warn_prf(average, modifier, msg_start, len(result))\n"
     ]
    },
    {
     "name": "stdout",
     "output_type": "stream",
     "text": [
      "Train Loss: 1.0695, Train Accuracy: 56.00%, Valid Loss: 2.2192, Valid Accuracy: 62.50%\n",
      "Phase 1 - Epoch [12/100]\n"
     ]
    },
    {
     "name": "stderr",
     "output_type": "stream",
     "text": [
      "Training: 100%|███████████████████████████████████| 4/4 [00:00<00:00,  4.05it/s]\n",
      "Evaluating: 100%|███████████████████████████████| 16/16 [00:00<00:00, 68.36it/s]\n",
      "/home/philipslinux/anaconda3/lib/python3.9/site-packages/sklearn/metrics/_classification.py:1334: UndefinedMetricWarning: Precision and F-score are ill-defined and being set to 0.0 in labels with no predicted samples. Use `zero_division` parameter to control this behavior.\n",
      "  _warn_prf(average, modifier, msg_start, len(result))\n",
      "/home/philipslinux/anaconda3/lib/python3.9/site-packages/sklearn/metrics/_classification.py:1334: UndefinedMetricWarning: Precision and F-score are ill-defined and being set to 0.0 in labels with no predicted samples. Use `zero_division` parameter to control this behavior.\n",
      "  _warn_prf(average, modifier, msg_start, len(result))\n",
      "/home/philipslinux/anaconda3/lib/python3.9/site-packages/sklearn/metrics/_classification.py:1334: UndefinedMetricWarning: Precision and F-score are ill-defined and being set to 0.0 in labels with no predicted samples. Use `zero_division` parameter to control this behavior.\n",
      "  _warn_prf(average, modifier, msg_start, len(result))\n"
     ]
    },
    {
     "name": "stdout",
     "output_type": "stream",
     "text": [
      "Train Loss: 0.9158, Train Accuracy: 69.33%, Valid Loss: 4.8246, Valid Accuracy: 56.25%\n",
      "Phase 1 - Epoch [13/100]\n"
     ]
    },
    {
     "name": "stderr",
     "output_type": "stream",
     "text": [
      "Training: 100%|███████████████████████████████████| 4/4 [00:00<00:00,  4.51it/s]\n",
      "Evaluating: 100%|███████████████████████████████| 16/16 [00:00<00:00, 68.98it/s]\n"
     ]
    },
    {
     "name": "stdout",
     "output_type": "stream",
     "text": [
      "Train Loss: 0.9648, Train Accuracy: 72.00%, Valid Loss: 1.0029, Valid Accuracy: 68.75%\n",
      "Best model saved with validation accuracy in phase 1: 68.75%\n",
      "Phase 1 - Epoch [14/100]\n"
     ]
    },
    {
     "name": "stderr",
     "output_type": "stream",
     "text": [
      "Training: 100%|███████████████████████████████████| 4/4 [00:01<00:00,  3.75it/s]\n",
      "Evaluating: 100%|███████████████████████████████| 16/16 [00:00<00:00, 65.87it/s]\n"
     ]
    },
    {
     "name": "stdout",
     "output_type": "stream",
     "text": [
      "Train Loss: 0.8441, Train Accuracy: 72.00%, Valid Loss: 0.6093, Valid Accuracy: 81.25%\n",
      "Best model saved with validation accuracy in phase 1: 81.25%\n",
      "Phase 1 - Epoch [15/100]\n"
     ]
    },
    {
     "name": "stderr",
     "output_type": "stream",
     "text": [
      "Training: 100%|███████████████████████████████████| 4/4 [00:01<00:00,  3.25it/s]\n",
      "Evaluating: 100%|███████████████████████████████| 16/16 [00:00<00:00, 62.90it/s]\n"
     ]
    },
    {
     "name": "stdout",
     "output_type": "stream",
     "text": [
      "Train Loss: 0.9519, Train Accuracy: 70.67%, Valid Loss: 0.7908, Valid Accuracy: 75.00%\n",
      "Phase 1 - Epoch [16/100]\n"
     ]
    },
    {
     "name": "stderr",
     "output_type": "stream",
     "text": [
      "Training: 100%|███████████████████████████████████| 4/4 [00:01<00:00,  3.67it/s]\n",
      "Evaluating: 100%|███████████████████████████████| 16/16 [00:00<00:00, 47.89it/s]\n",
      "/home/philipslinux/anaconda3/lib/python3.9/site-packages/sklearn/metrics/_classification.py:1334: UndefinedMetricWarning: Precision and F-score are ill-defined and being set to 0.0 in labels with no predicted samples. Use `zero_division` parameter to control this behavior.\n",
      "  _warn_prf(average, modifier, msg_start, len(result))\n",
      "/home/philipslinux/anaconda3/lib/python3.9/site-packages/sklearn/metrics/_classification.py:1334: UndefinedMetricWarning: Precision and F-score are ill-defined and being set to 0.0 in labels with no predicted samples. Use `zero_division` parameter to control this behavior.\n",
      "  _warn_prf(average, modifier, msg_start, len(result))\n",
      "/home/philipslinux/anaconda3/lib/python3.9/site-packages/sklearn/metrics/_classification.py:1334: UndefinedMetricWarning: Precision and F-score are ill-defined and being set to 0.0 in labels with no predicted samples. Use `zero_division` parameter to control this behavior.\n",
      "  _warn_prf(average, modifier, msg_start, len(result))\n"
     ]
    },
    {
     "name": "stdout",
     "output_type": "stream",
     "text": [
      "Train Loss: 0.9079, Train Accuracy: 70.67%, Valid Loss: 0.5212, Valid Accuracy: 68.75%\n",
      "Phase 1 - Epoch [17/100]\n"
     ]
    },
    {
     "name": "stderr",
     "output_type": "stream",
     "text": [
      "Training: 100%|███████████████████████████████████| 4/4 [00:00<00:00,  4.25it/s]\n",
      "Evaluating: 100%|███████████████████████████████| 16/16 [00:00<00:00, 73.21it/s]\n",
      "/home/philipslinux/anaconda3/lib/python3.9/site-packages/sklearn/metrics/_classification.py:1334: UndefinedMetricWarning: Precision and F-score are ill-defined and being set to 0.0 in labels with no predicted samples. Use `zero_division` parameter to control this behavior.\n",
      "  _warn_prf(average, modifier, msg_start, len(result))\n",
      "/home/philipslinux/anaconda3/lib/python3.9/site-packages/sklearn/metrics/_classification.py:1334: UndefinedMetricWarning: Precision and F-score are ill-defined and being set to 0.0 in labels with no predicted samples. Use `zero_division` parameter to control this behavior.\n",
      "  _warn_prf(average, modifier, msg_start, len(result))\n",
      "/home/philipslinux/anaconda3/lib/python3.9/site-packages/sklearn/metrics/_classification.py:1334: UndefinedMetricWarning: Precision and F-score are ill-defined and being set to 0.0 in labels with no predicted samples. Use `zero_division` parameter to control this behavior.\n",
      "  _warn_prf(average, modifier, msg_start, len(result))\n"
     ]
    },
    {
     "name": "stdout",
     "output_type": "stream",
     "text": [
      "Train Loss: 0.9324, Train Accuracy: 73.33%, Valid Loss: 2.2577, Valid Accuracy: 50.00%\n",
      "Phase 1 - Epoch [18/100]\n"
     ]
    },
    {
     "name": "stderr",
     "output_type": "stream",
     "text": [
      "Training: 100%|███████████████████████████████████| 4/4 [00:00<00:00,  4.28it/s]\n",
      "Evaluating: 100%|███████████████████████████████| 16/16 [00:00<00:00, 70.17it/s]\n"
     ]
    },
    {
     "name": "stdout",
     "output_type": "stream",
     "text": [
      "Train Loss: 0.8704, Train Accuracy: 76.00%, Valid Loss: 0.6203, Valid Accuracy: 81.25%\n",
      "Phase 1 - Epoch [19/100]\n"
     ]
    },
    {
     "name": "stderr",
     "output_type": "stream",
     "text": [
      "Training: 100%|███████████████████████████████████| 4/4 [00:00<00:00,  4.19it/s]\n",
      "Evaluating: 100%|███████████████████████████████| 16/16 [00:00<00:00, 70.45it/s]\n",
      "/home/philipslinux/anaconda3/lib/python3.9/site-packages/sklearn/metrics/_classification.py:1334: UndefinedMetricWarning: Precision and F-score are ill-defined and being set to 0.0 in labels with no predicted samples. Use `zero_division` parameter to control this behavior.\n",
      "  _warn_prf(average, modifier, msg_start, len(result))\n",
      "/home/philipslinux/anaconda3/lib/python3.9/site-packages/sklearn/metrics/_classification.py:1334: UndefinedMetricWarning: Precision and F-score are ill-defined and being set to 0.0 in labels with no predicted samples. Use `zero_division` parameter to control this behavior.\n",
      "  _warn_prf(average, modifier, msg_start, len(result))\n",
      "/home/philipslinux/anaconda3/lib/python3.9/site-packages/sklearn/metrics/_classification.py:1334: UndefinedMetricWarning: Precision and F-score are ill-defined and being set to 0.0 in labels with no predicted samples. Use `zero_division` parameter to control this behavior.\n",
      "  _warn_prf(average, modifier, msg_start, len(result))\n"
     ]
    },
    {
     "name": "stdout",
     "output_type": "stream",
     "text": [
      "Train Loss: 0.7083, Train Accuracy: 80.00%, Valid Loss: 1.6824, Valid Accuracy: 62.50%\n",
      "Phase 1 - Epoch [20/100]\n"
     ]
    },
    {
     "name": "stderr",
     "output_type": "stream",
     "text": [
      "Training: 100%|███████████████████████████████████| 4/4 [00:01<00:00,  3.95it/s]\n",
      "Evaluating: 100%|███████████████████████████████| 16/16 [00:00<00:00, 64.55it/s]\n"
     ]
    },
    {
     "name": "stdout",
     "output_type": "stream",
     "text": [
      "Train Loss: 0.8726, Train Accuracy: 76.00%, Valid Loss: 1.0750, Valid Accuracy: 62.50%\n",
      "Phase 1 - Epoch [21/100]\n"
     ]
    },
    {
     "name": "stderr",
     "output_type": "stream",
     "text": [
      "Training: 100%|███████████████████████████████████| 4/4 [00:00<00:00,  4.27it/s]\n",
      "Evaluating: 100%|███████████████████████████████| 16/16 [00:00<00:00, 71.68it/s]\n",
      "/home/philipslinux/anaconda3/lib/python3.9/site-packages/sklearn/metrics/_classification.py:1334: UndefinedMetricWarning: Precision and F-score are ill-defined and being set to 0.0 in labels with no predicted samples. Use `zero_division` parameter to control this behavior.\n",
      "  _warn_prf(average, modifier, msg_start, len(result))\n",
      "/home/philipslinux/anaconda3/lib/python3.9/site-packages/sklearn/metrics/_classification.py:1334: UndefinedMetricWarning: Precision and F-score are ill-defined and being set to 0.0 in labels with no predicted samples. Use `zero_division` parameter to control this behavior.\n",
      "  _warn_prf(average, modifier, msg_start, len(result))\n",
      "/home/philipslinux/anaconda3/lib/python3.9/site-packages/sklearn/metrics/_classification.py:1334: UndefinedMetricWarning: Precision and F-score are ill-defined and being set to 0.0 in labels with no predicted samples. Use `zero_division` parameter to control this behavior.\n",
      "  _warn_prf(average, modifier, msg_start, len(result))\n"
     ]
    },
    {
     "name": "stdout",
     "output_type": "stream",
     "text": [
      "Train Loss: 0.7934, Train Accuracy: 77.33%, Valid Loss: 1.8721, Valid Accuracy: 56.25%\n",
      "Phase 1 - Epoch [22/100]\n"
     ]
    },
    {
     "name": "stderr",
     "output_type": "stream",
     "text": [
      "Training: 100%|███████████████████████████████████| 4/4 [00:00<00:00,  4.32it/s]\n",
      "Evaluating: 100%|███████████████████████████████| 16/16 [00:00<00:00, 70.77it/s]\n"
     ]
    },
    {
     "name": "stdout",
     "output_type": "stream",
     "text": [
      "Train Loss: 0.8223, Train Accuracy: 73.33%, Valid Loss: 0.9250, Valid Accuracy: 68.75%\n",
      "Phase 1 - Epoch [23/100]\n"
     ]
    },
    {
     "name": "stderr",
     "output_type": "stream",
     "text": [
      "Training: 100%|███████████████████████████████████| 4/4 [00:00<00:00,  4.28it/s]\n",
      "Evaluating: 100%|███████████████████████████████| 16/16 [00:00<00:00, 72.15it/s]\n",
      "/home/philipslinux/anaconda3/lib/python3.9/site-packages/sklearn/metrics/_classification.py:1334: UndefinedMetricWarning: Precision and F-score are ill-defined and being set to 0.0 in labels with no predicted samples. Use `zero_division` parameter to control this behavior.\n",
      "  _warn_prf(average, modifier, msg_start, len(result))\n",
      "/home/philipslinux/anaconda3/lib/python3.9/site-packages/sklearn/metrics/_classification.py:1334: UndefinedMetricWarning: Precision and F-score are ill-defined and being set to 0.0 in labels with no predicted samples. Use `zero_division` parameter to control this behavior.\n",
      "  _warn_prf(average, modifier, msg_start, len(result))\n",
      "/home/philipslinux/anaconda3/lib/python3.9/site-packages/sklearn/metrics/_classification.py:1334: UndefinedMetricWarning: Precision and F-score are ill-defined and being set to 0.0 in labels with no predicted samples. Use `zero_division` parameter to control this behavior.\n",
      "  _warn_prf(average, modifier, msg_start, len(result))\n"
     ]
    },
    {
     "name": "stdout",
     "output_type": "stream",
     "text": [
      "Train Loss: 0.6606, Train Accuracy: 82.67%, Valid Loss: 0.9603, Valid Accuracy: 75.00%\n",
      "Phase 1 - Epoch [24/100]\n"
     ]
    },
    {
     "name": "stderr",
     "output_type": "stream",
     "text": [
      "Training: 100%|███████████████████████████████████| 4/4 [00:00<00:00,  4.30it/s]\n",
      "Evaluating: 100%|███████████████████████████████| 16/16 [00:00<00:00, 70.08it/s]\n"
     ]
    },
    {
     "name": "stdout",
     "output_type": "stream",
     "text": [
      "Train Loss: 0.5973, Train Accuracy: 84.00%, Valid Loss: 0.5437, Valid Accuracy: 87.50%\n",
      "Best model saved with validation accuracy in phase 1: 87.50%\n",
      "Phase 1 - Epoch [25/100]\n"
     ]
    },
    {
     "name": "stderr",
     "output_type": "stream",
     "text": [
      "Training: 100%|███████████████████████████████████| 4/4 [00:01<00:00,  3.62it/s]\n",
      "Evaluating: 100%|███████████████████████████████| 16/16 [00:00<00:00, 71.55it/s]\n"
     ]
    },
    {
     "name": "stdout",
     "output_type": "stream",
     "text": [
      "Train Loss: 0.5565, Train Accuracy: 86.67%, Valid Loss: 0.6926, Valid Accuracy: 75.00%\n",
      "Phase 1 - Epoch [26/100]\n"
     ]
    },
    {
     "name": "stderr",
     "output_type": "stream",
     "text": [
      "Training: 100%|███████████████████████████████████| 4/4 [00:00<00:00,  4.45it/s]\n",
      "Evaluating: 100%|███████████████████████████████| 16/16 [00:00<00:00, 67.71it/s]\n",
      "/home/philipslinux/anaconda3/lib/python3.9/site-packages/sklearn/metrics/_classification.py:1334: UndefinedMetricWarning: Precision and F-score are ill-defined and being set to 0.0 in labels with no predicted samples. Use `zero_division` parameter to control this behavior.\n",
      "  _warn_prf(average, modifier, msg_start, len(result))\n",
      "/home/philipslinux/anaconda3/lib/python3.9/site-packages/sklearn/metrics/_classification.py:1334: UndefinedMetricWarning: Precision and F-score are ill-defined and being set to 0.0 in labels with no predicted samples. Use `zero_division` parameter to control this behavior.\n",
      "  _warn_prf(average, modifier, msg_start, len(result))\n",
      "/home/philipslinux/anaconda3/lib/python3.9/site-packages/sklearn/metrics/_classification.py:1334: UndefinedMetricWarning: Precision and F-score are ill-defined and being set to 0.0 in labels with no predicted samples. Use `zero_division` parameter to control this behavior.\n",
      "  _warn_prf(average, modifier, msg_start, len(result))\n"
     ]
    },
    {
     "name": "stdout",
     "output_type": "stream",
     "text": [
      "Train Loss: 0.6242, Train Accuracy: 84.00%, Valid Loss: 0.7193, Valid Accuracy: 75.00%\n",
      "Phase 1 - Epoch [27/100]\n"
     ]
    },
    {
     "name": "stderr",
     "output_type": "stream",
     "text": [
      "Training: 100%|███████████████████████████████████| 4/4 [00:00<00:00,  4.21it/s]\n",
      "Evaluating: 100%|███████████████████████████████| 16/16 [00:00<00:00, 70.78it/s]\n"
     ]
    },
    {
     "name": "stdout",
     "output_type": "stream",
     "text": [
      "Train Loss: 0.6781, Train Accuracy: 80.00%, Valid Loss: 0.5231, Valid Accuracy: 87.50%\n",
      "Phase 1 - Epoch [28/100]\n"
     ]
    },
    {
     "name": "stderr",
     "output_type": "stream",
     "text": [
      "Training: 100%|███████████████████████████████████| 4/4 [00:00<00:00,  4.49it/s]\n",
      "Evaluating: 100%|███████████████████████████████| 16/16 [00:00<00:00, 70.30it/s]\n"
     ]
    },
    {
     "name": "stdout",
     "output_type": "stream",
     "text": [
      "Train Loss: 0.4781, Train Accuracy: 92.00%, Valid Loss: 0.3085, Valid Accuracy: 93.75%\n",
      "Best model saved with validation accuracy in phase 1: 93.75%\n",
      "Phase 1 - Epoch [29/100]\n"
     ]
    },
    {
     "name": "stderr",
     "output_type": "stream",
     "text": [
      "Training: 100%|███████████████████████████████████| 4/4 [00:00<00:00,  4.33it/s]\n",
      "Evaluating: 100%|███████████████████████████████| 16/16 [00:00<00:00, 73.61it/s]\n",
      "/home/philipslinux/anaconda3/lib/python3.9/site-packages/sklearn/metrics/_classification.py:1334: UndefinedMetricWarning: Precision and F-score are ill-defined and being set to 0.0 in labels with no predicted samples. Use `zero_division` parameter to control this behavior.\n",
      "  _warn_prf(average, modifier, msg_start, len(result))\n",
      "/home/philipslinux/anaconda3/lib/python3.9/site-packages/sklearn/metrics/_classification.py:1334: UndefinedMetricWarning: Precision and F-score are ill-defined and being set to 0.0 in labels with no predicted samples. Use `zero_division` parameter to control this behavior.\n",
      "  _warn_prf(average, modifier, msg_start, len(result))\n",
      "/home/philipslinux/anaconda3/lib/python3.9/site-packages/sklearn/metrics/_classification.py:1334: UndefinedMetricWarning: Precision and F-score are ill-defined and being set to 0.0 in labels with no predicted samples. Use `zero_division` parameter to control this behavior.\n",
      "  _warn_prf(average, modifier, msg_start, len(result))\n"
     ]
    },
    {
     "name": "stdout",
     "output_type": "stream",
     "text": [
      "Train Loss: 0.4401, Train Accuracy: 89.33%, Valid Loss: 0.6292, Valid Accuracy: 75.00%\n",
      "Phase 1 - Epoch [30/100]\n"
     ]
    },
    {
     "name": "stderr",
     "output_type": "stream",
     "text": [
      "Training: 100%|███████████████████████████████████| 4/4 [00:00<00:00,  4.30it/s]\n",
      "Evaluating: 100%|███████████████████████████████| 16/16 [00:00<00:00, 54.23it/s]\n"
     ]
    },
    {
     "name": "stdout",
     "output_type": "stream",
     "text": [
      "Train Loss: 0.4699, Train Accuracy: 89.33%, Valid Loss: 0.8589, Valid Accuracy: 68.75%\n",
      "Phase 1 - Epoch [31/100]\n"
     ]
    },
    {
     "name": "stderr",
     "output_type": "stream",
     "text": [
      "Training: 100%|███████████████████████████████████| 4/4 [00:00<00:00,  4.17it/s]\n",
      "Evaluating: 100%|███████████████████████████████| 16/16 [00:00<00:00, 69.43it/s]\n"
     ]
    },
    {
     "name": "stdout",
     "output_type": "stream",
     "text": [
      "Train Loss: 0.4396, Train Accuracy: 89.33%, Valid Loss: 0.7033, Valid Accuracy: 68.75%\n",
      "Phase 1 - Epoch [32/100]\n"
     ]
    },
    {
     "name": "stderr",
     "output_type": "stream",
     "text": [
      "Training: 100%|███████████████████████████████████| 4/4 [00:00<00:00,  4.36it/s]\n",
      "Evaluating: 100%|███████████████████████████████| 16/16 [00:00<00:00, 51.59it/s]\n"
     ]
    },
    {
     "name": "stdout",
     "output_type": "stream",
     "text": [
      "Train Loss: 0.4386, Train Accuracy: 90.67%, Valid Loss: 0.6143, Valid Accuracy: 87.50%\n",
      "Phase 1 - Epoch [33/100]\n"
     ]
    },
    {
     "name": "stderr",
     "output_type": "stream",
     "text": [
      "Training: 100%|███████████████████████████████████| 4/4 [00:00<00:00,  4.17it/s]\n",
      "Evaluating: 100%|███████████████████████████████| 16/16 [00:00<00:00, 55.05it/s]\n"
     ]
    },
    {
     "name": "stdout",
     "output_type": "stream",
     "text": [
      "Train Loss: 0.4462, Train Accuracy: 90.67%, Valid Loss: 0.8625, Valid Accuracy: 68.75%\n",
      "Phase 1 - Epoch [34/100]\n"
     ]
    },
    {
     "name": "stderr",
     "output_type": "stream",
     "text": [
      "Training: 100%|███████████████████████████████████| 4/4 [00:00<00:00,  4.41it/s]\n",
      "Evaluating: 100%|███████████████████████████████| 16/16 [00:00<00:00, 62.50it/s]\n"
     ]
    },
    {
     "name": "stdout",
     "output_type": "stream",
     "text": [
      "Train Loss: 0.2895, Train Accuracy: 97.33%, Valid Loss: 0.5744, Valid Accuracy: 81.25%\n",
      "Phase 1 - Epoch [35/100]\n"
     ]
    },
    {
     "name": "stderr",
     "output_type": "stream",
     "text": [
      "Training: 100%|███████████████████████████████████| 4/4 [00:00<00:00,  4.51it/s]\n",
      "Evaluating: 100%|███████████████████████████████| 16/16 [00:00<00:00, 68.29it/s]\n"
     ]
    },
    {
     "name": "stdout",
     "output_type": "stream",
     "text": [
      "Train Loss: 0.3137, Train Accuracy: 96.00%, Valid Loss: 0.3737, Valid Accuracy: 87.50%\n",
      "Phase 1 - Epoch [36/100]\n"
     ]
    },
    {
     "name": "stderr",
     "output_type": "stream",
     "text": [
      "Training: 100%|███████████████████████████████████| 4/4 [00:00<00:00,  4.40it/s]\n",
      "Evaluating: 100%|███████████████████████████████| 16/16 [00:00<00:00, 69.22it/s]\n"
     ]
    },
    {
     "name": "stdout",
     "output_type": "stream",
     "text": [
      "Train Loss: 0.3544, Train Accuracy: 96.00%, Valid Loss: 0.5299, Valid Accuracy: 87.50%\n",
      "Phase 1 - Epoch [37/100]\n"
     ]
    },
    {
     "name": "stderr",
     "output_type": "stream",
     "text": [
      "Training: 100%|███████████████████████████████████| 4/4 [00:00<00:00,  4.35it/s]\n",
      "Evaluating: 100%|███████████████████████████████| 16/16 [00:00<00:00, 73.57it/s]\n"
     ]
    },
    {
     "name": "stdout",
     "output_type": "stream",
     "text": [
      "Train Loss: 0.3755, Train Accuracy: 92.00%, Valid Loss: 0.4267, Valid Accuracy: 87.50%\n",
      "Phase 1 - Epoch [38/100]\n"
     ]
    },
    {
     "name": "stderr",
     "output_type": "stream",
     "text": [
      "Training: 100%|███████████████████████████████████| 4/4 [00:00<00:00,  4.28it/s]\n",
      "Evaluating: 100%|███████████████████████████████| 16/16 [00:00<00:00, 68.69it/s]\n"
     ]
    },
    {
     "name": "stdout",
     "output_type": "stream",
     "text": [
      "Train Loss: 0.2678, Train Accuracy: 97.33%, Valid Loss: 0.4167, Valid Accuracy: 87.50%\n",
      "Phase 1 - Epoch [39/100]\n"
     ]
    },
    {
     "name": "stderr",
     "output_type": "stream",
     "text": [
      "Training: 100%|███████████████████████████████████| 4/4 [00:00<00:00,  4.37it/s]\n",
      "Evaluating: 100%|███████████████████████████████| 16/16 [00:00<00:00, 68.79it/s]\n"
     ]
    },
    {
     "name": "stdout",
     "output_type": "stream",
     "text": [
      "Train Loss: 0.2626, Train Accuracy: 97.33%, Valid Loss: 0.6862, Valid Accuracy: 87.50%\n",
      "Phase 1 - Epoch [40/100]\n"
     ]
    },
    {
     "name": "stderr",
     "output_type": "stream",
     "text": [
      "Training: 100%|███████████████████████████████████| 4/4 [00:01<00:00,  3.77it/s]\n",
      "Evaluating: 100%|███████████████████████████████| 16/16 [00:00<00:00, 69.78it/s]\n"
     ]
    },
    {
     "name": "stdout",
     "output_type": "stream",
     "text": [
      "Train Loss: 0.3449, Train Accuracy: 92.00%, Valid Loss: 1.4424, Valid Accuracy: 75.00%\n",
      "Phase 1 - Epoch [41/100]\n"
     ]
    },
    {
     "name": "stderr",
     "output_type": "stream",
     "text": [
      "Training: 100%|███████████████████████████████████| 4/4 [00:00<00:00,  4.47it/s]\n",
      "Evaluating: 100%|███████████████████████████████| 16/16 [00:00<00:00, 73.56it/s]\n",
      "/home/philipslinux/anaconda3/lib/python3.9/site-packages/sklearn/metrics/_classification.py:1334: UndefinedMetricWarning: Precision and F-score are ill-defined and being set to 0.0 in labels with no predicted samples. Use `zero_division` parameter to control this behavior.\n",
      "  _warn_prf(average, modifier, msg_start, len(result))\n",
      "/home/philipslinux/anaconda3/lib/python3.9/site-packages/sklearn/metrics/_classification.py:1334: UndefinedMetricWarning: Precision and F-score are ill-defined and being set to 0.0 in labels with no predicted samples. Use `zero_division` parameter to control this behavior.\n",
      "  _warn_prf(average, modifier, msg_start, len(result))\n",
      "/home/philipslinux/anaconda3/lib/python3.9/site-packages/sklearn/metrics/_classification.py:1334: UndefinedMetricWarning: Precision and F-score are ill-defined and being set to 0.0 in labels with no predicted samples. Use `zero_division` parameter to control this behavior.\n",
      "  _warn_prf(average, modifier, msg_start, len(result))\n"
     ]
    },
    {
     "name": "stdout",
     "output_type": "stream",
     "text": [
      "Train Loss: 0.5771, Train Accuracy: 90.67%, Valid Loss: 1.4654, Valid Accuracy: 50.00%\n",
      "Phase 1 - Epoch [42/100]\n"
     ]
    },
    {
     "name": "stderr",
     "output_type": "stream",
     "text": [
      "Training: 100%|███████████████████████████████████| 4/4 [00:00<00:00,  4.40it/s]\n",
      "Evaluating: 100%|███████████████████████████████| 16/16 [00:00<00:00, 66.12it/s]\n"
     ]
    },
    {
     "name": "stdout",
     "output_type": "stream",
     "text": [
      "Train Loss: 0.4042, Train Accuracy: 92.00%, Valid Loss: 0.3046, Valid Accuracy: 93.75%\n",
      "Phase 1 - Epoch [43/100]\n"
     ]
    },
    {
     "name": "stderr",
     "output_type": "stream",
     "text": [
      "Training: 100%|███████████████████████████████████| 4/4 [00:00<00:00,  4.52it/s]\n",
      "Evaluating: 100%|███████████████████████████████| 16/16 [00:00<00:00, 61.37it/s]\n",
      "/home/philipslinux/anaconda3/lib/python3.9/site-packages/sklearn/metrics/_classification.py:1334: UndefinedMetricWarning: Precision and F-score are ill-defined and being set to 0.0 in labels with no predicted samples. Use `zero_division` parameter to control this behavior.\n",
      "  _warn_prf(average, modifier, msg_start, len(result))\n",
      "/home/philipslinux/anaconda3/lib/python3.9/site-packages/sklearn/metrics/_classification.py:1334: UndefinedMetricWarning: Precision and F-score are ill-defined and being set to 0.0 in labels with no predicted samples. Use `zero_division` parameter to control this behavior.\n",
      "  _warn_prf(average, modifier, msg_start, len(result))\n",
      "/home/philipslinux/anaconda3/lib/python3.9/site-packages/sklearn/metrics/_classification.py:1334: UndefinedMetricWarning: Precision and F-score are ill-defined and being set to 0.0 in labels with no predicted samples. Use `zero_division` parameter to control this behavior.\n",
      "  _warn_prf(average, modifier, msg_start, len(result))\n"
     ]
    },
    {
     "name": "stdout",
     "output_type": "stream",
     "text": [
      "Train Loss: 0.4273, Train Accuracy: 90.67%, Valid Loss: 1.7221, Valid Accuracy: 62.50%\n",
      "Phase 1 - Epoch [44/100]\n"
     ]
    },
    {
     "name": "stderr",
     "output_type": "stream",
     "text": [
      "Training: 100%|███████████████████████████████████| 4/4 [00:00<00:00,  4.51it/s]\n",
      "Evaluating: 100%|███████████████████████████████| 16/16 [00:00<00:00, 67.25it/s]\n",
      "/home/philipslinux/anaconda3/lib/python3.9/site-packages/sklearn/metrics/_classification.py:1334: UndefinedMetricWarning: Precision and F-score are ill-defined and being set to 0.0 in labels with no predicted samples. Use `zero_division` parameter to control this behavior.\n",
      "  _warn_prf(average, modifier, msg_start, len(result))\n",
      "/home/philipslinux/anaconda3/lib/python3.9/site-packages/sklearn/metrics/_classification.py:1334: UndefinedMetricWarning: Precision and F-score are ill-defined and being set to 0.0 in labels with no predicted samples. Use `zero_division` parameter to control this behavior.\n",
      "  _warn_prf(average, modifier, msg_start, len(result))\n",
      "/home/philipslinux/anaconda3/lib/python3.9/site-packages/sklearn/metrics/_classification.py:1334: UndefinedMetricWarning: Precision and F-score are ill-defined and being set to 0.0 in labels with no predicted samples. Use `zero_division` parameter to control this behavior.\n",
      "  _warn_prf(average, modifier, msg_start, len(result))\n"
     ]
    },
    {
     "name": "stdout",
     "output_type": "stream",
     "text": [
      "Train Loss: 0.9494, Train Accuracy: 73.33%, Valid Loss: 2.6729, Valid Accuracy: 62.50%\n",
      "Phase 1 - Epoch [45/100]\n"
     ]
    },
    {
     "name": "stderr",
     "output_type": "stream",
     "text": [
      "Training: 100%|███████████████████████████████████| 4/4 [00:01<00:00,  3.96it/s]\n",
      "Evaluating: 100%|███████████████████████████████| 16/16 [00:00<00:00, 50.40it/s]\n",
      "/home/philipslinux/anaconda3/lib/python3.9/site-packages/sklearn/metrics/_classification.py:1334: UndefinedMetricWarning: Precision and F-score are ill-defined and being set to 0.0 in labels with no predicted samples. Use `zero_division` parameter to control this behavior.\n",
      "  _warn_prf(average, modifier, msg_start, len(result))\n",
      "/home/philipslinux/anaconda3/lib/python3.9/site-packages/sklearn/metrics/_classification.py:1334: UndefinedMetricWarning: Precision and F-score are ill-defined and being set to 0.0 in labels with no predicted samples. Use `zero_division` parameter to control this behavior.\n",
      "  _warn_prf(average, modifier, msg_start, len(result))\n",
      "/home/philipslinux/anaconda3/lib/python3.9/site-packages/sklearn/metrics/_classification.py:1334: UndefinedMetricWarning: Precision and F-score are ill-defined and being set to 0.0 in labels with no predicted samples. Use `zero_division` parameter to control this behavior.\n",
      "  _warn_prf(average, modifier, msg_start, len(result))\n"
     ]
    },
    {
     "name": "stdout",
     "output_type": "stream",
     "text": [
      "Train Loss: 0.5986, Train Accuracy: 88.00%, Valid Loss: 2.4576, Valid Accuracy: 25.00%\n",
      "Phase 1 - Epoch [46/100]\n"
     ]
    },
    {
     "name": "stderr",
     "output_type": "stream",
     "text": [
      "Training: 100%|███████████████████████████████████| 4/4 [00:00<00:00,  4.41it/s]\n",
      "Evaluating: 100%|███████████████████████████████| 16/16 [00:00<00:00, 71.84it/s]\n"
     ]
    },
    {
     "name": "stdout",
     "output_type": "stream",
     "text": [
      "Train Loss: 0.3661, Train Accuracy: 97.33%, Valid Loss: 1.5166, Valid Accuracy: 68.75%\n",
      "Phase 1 - Epoch [47/100]\n"
     ]
    },
    {
     "name": "stderr",
     "output_type": "stream",
     "text": [
      "Training: 100%|███████████████████████████████████| 4/4 [00:00<00:00,  4.25it/s]\n",
      "Evaluating: 100%|███████████████████████████████| 16/16 [00:00<00:00, 70.58it/s]\n"
     ]
    },
    {
     "name": "stdout",
     "output_type": "stream",
     "text": [
      "Train Loss: 0.4622, Train Accuracy: 92.00%, Valid Loss: 3.1094, Valid Accuracy: 56.25%\n",
      "Phase 1 - Epoch [48/100]\n"
     ]
    },
    {
     "name": "stderr",
     "output_type": "stream",
     "text": [
      "Training: 100%|███████████████████████████████████| 4/4 [00:00<00:00,  4.15it/s]\n",
      "Evaluating: 100%|███████████████████████████████| 16/16 [00:00<00:00, 70.32it/s]\n",
      "/home/philipslinux/anaconda3/lib/python3.9/site-packages/sklearn/metrics/_classification.py:1334: UndefinedMetricWarning: Precision and F-score are ill-defined and being set to 0.0 in labels with no predicted samples. Use `zero_division` parameter to control this behavior.\n",
      "  _warn_prf(average, modifier, msg_start, len(result))\n",
      "/home/philipslinux/anaconda3/lib/python3.9/site-packages/sklearn/metrics/_classification.py:1334: UndefinedMetricWarning: Precision and F-score are ill-defined and being set to 0.0 in labels with no predicted samples. Use `zero_division` parameter to control this behavior.\n",
      "  _warn_prf(average, modifier, msg_start, len(result))\n",
      "/home/philipslinux/anaconda3/lib/python3.9/site-packages/sklearn/metrics/_classification.py:1334: UndefinedMetricWarning: Precision and F-score are ill-defined and being set to 0.0 in labels with no predicted samples. Use `zero_division` parameter to control this behavior.\n",
      "  _warn_prf(average, modifier, msg_start, len(result))\n"
     ]
    },
    {
     "name": "stdout",
     "output_type": "stream",
     "text": [
      "Train Loss: 0.3773, Train Accuracy: 93.33%, Valid Loss: 5.1005, Valid Accuracy: 50.00%\n",
      "Phase 1 - Epoch [49/100]\n"
     ]
    },
    {
     "name": "stderr",
     "output_type": "stream",
     "text": [
      "Training: 100%|███████████████████████████████████| 4/4 [00:00<00:00,  4.45it/s]\n",
      "Evaluating: 100%|███████████████████████████████| 16/16 [00:00<00:00, 61.95it/s]\n"
     ]
    },
    {
     "name": "stdout",
     "output_type": "stream",
     "text": [
      "Train Loss: 0.3144, Train Accuracy: 96.00%, Valid Loss: 2.4876, Valid Accuracy: 62.50%\n",
      "Phase 1 - Epoch [50/100]\n"
     ]
    },
    {
     "name": "stderr",
     "output_type": "stream",
     "text": [
      "Training: 100%|███████████████████████████████████| 4/4 [00:00<00:00,  4.42it/s]\n",
      "Evaluating: 100%|███████████████████████████████| 16/16 [00:00<00:00, 63.03it/s]\n",
      "/home/philipslinux/anaconda3/lib/python3.9/site-packages/sklearn/metrics/_classification.py:1334: UndefinedMetricWarning: Precision and F-score are ill-defined and being set to 0.0 in labels with no predicted samples. Use `zero_division` parameter to control this behavior.\n",
      "  _warn_prf(average, modifier, msg_start, len(result))\n",
      "/home/philipslinux/anaconda3/lib/python3.9/site-packages/sklearn/metrics/_classification.py:1334: UndefinedMetricWarning: Precision and F-score are ill-defined and being set to 0.0 in labels with no predicted samples. Use `zero_division` parameter to control this behavior.\n",
      "  _warn_prf(average, modifier, msg_start, len(result))\n",
      "/home/philipslinux/anaconda3/lib/python3.9/site-packages/sklearn/metrics/_classification.py:1334: UndefinedMetricWarning: Precision and F-score are ill-defined and being set to 0.0 in labels with no predicted samples. Use `zero_division` parameter to control this behavior.\n",
      "  _warn_prf(average, modifier, msg_start, len(result))\n"
     ]
    },
    {
     "name": "stdout",
     "output_type": "stream",
     "text": [
      "Train Loss: 0.4093, Train Accuracy: 92.00%, Valid Loss: 3.7715, Valid Accuracy: 62.50%\n",
      "Phase 1 - Epoch [51/100]\n"
     ]
    },
    {
     "name": "stderr",
     "output_type": "stream",
     "text": [
      "Training: 100%|███████████████████████████████████| 4/4 [00:00<00:00,  4.36it/s]\n",
      "Evaluating: 100%|███████████████████████████████| 16/16 [00:00<00:00, 67.28it/s]\n"
     ]
    },
    {
     "name": "stdout",
     "output_type": "stream",
     "text": [
      "Train Loss: 0.3333, Train Accuracy: 94.67%, Valid Loss: 1.1427, Valid Accuracy: 68.75%\n",
      "Phase 1 - Epoch [52/100]\n"
     ]
    },
    {
     "name": "stderr",
     "output_type": "stream",
     "text": [
      "Training: 100%|███████████████████████████████████| 4/4 [00:00<00:00,  4.50it/s]\n",
      "Evaluating: 100%|███████████████████████████████| 16/16 [00:00<00:00, 70.62it/s]\n"
     ]
    },
    {
     "name": "stdout",
     "output_type": "stream",
     "text": [
      "Train Loss: 0.2384, Train Accuracy: 97.33%, Valid Loss: 0.3089, Valid Accuracy: 87.50%\n",
      "Phase 1 - Epoch [53/100]\n"
     ]
    },
    {
     "name": "stderr",
     "output_type": "stream",
     "text": [
      "Training: 100%|███████████████████████████████████| 4/4 [00:00<00:00,  4.47it/s]\n",
      "Evaluating: 100%|███████████████████████████████| 16/16 [00:00<00:00, 59.46it/s]\n"
     ]
    },
    {
     "name": "stdout",
     "output_type": "stream",
     "text": [
      "Train Loss: 0.2189, Train Accuracy: 98.67%, Valid Loss: 0.3720, Valid Accuracy: 87.50%\n",
      "Phase 1 - Epoch [54/100]\n"
     ]
    },
    {
     "name": "stderr",
     "output_type": "stream",
     "text": [
      "Training: 100%|███████████████████████████████████| 4/4 [00:00<00:00,  4.22it/s]\n",
      "Evaluating: 100%|███████████████████████████████| 16/16 [00:00<00:00, 65.48it/s]\n"
     ]
    },
    {
     "name": "stdout",
     "output_type": "stream",
     "text": [
      "Train Loss: 0.2352, Train Accuracy: 97.33%, Valid Loss: 0.3606, Valid Accuracy: 87.50%\n",
      "Phase 1 - Epoch [55/100]\n"
     ]
    },
    {
     "name": "stderr",
     "output_type": "stream",
     "text": [
      "Training: 100%|███████████████████████████████████| 4/4 [00:00<00:00,  4.37it/s]\n",
      "Evaluating: 100%|███████████████████████████████| 16/16 [00:00<00:00, 69.33it/s]\n"
     ]
    },
    {
     "name": "stdout",
     "output_type": "stream",
     "text": [
      "Train Loss: 0.2270, Train Accuracy: 97.33%, Valid Loss: 0.2436, Valid Accuracy: 87.50%\n",
      "Phase 1 - Epoch [56/100]\n"
     ]
    },
    {
     "name": "stderr",
     "output_type": "stream",
     "text": [
      "Training: 100%|███████████████████████████████████| 4/4 [00:00<00:00,  4.40it/s]\n",
      "Evaluating: 100%|███████████████████████████████| 16/16 [00:00<00:00, 62.48it/s]\n"
     ]
    },
    {
     "name": "stdout",
     "output_type": "stream",
     "text": [
      "Train Loss: 0.2951, Train Accuracy: 92.00%, Valid Loss: 0.7635, Valid Accuracy: 75.00%\n",
      "Phase 1 - Epoch [57/100]\n"
     ]
    },
    {
     "name": "stderr",
     "output_type": "stream",
     "text": [
      "Training: 100%|███████████████████████████████████| 4/4 [00:00<00:00,  4.41it/s]\n",
      "Evaluating: 100%|███████████████████████████████| 16/16 [00:00<00:00, 65.93it/s]\n"
     ]
    },
    {
     "name": "stdout",
     "output_type": "stream",
     "text": [
      "Train Loss: 0.2150, Train Accuracy: 97.33%, Valid Loss: 0.8243, Valid Accuracy: 75.00%\n",
      "Phase 1 - Epoch [58/100]\n"
     ]
    },
    {
     "name": "stderr",
     "output_type": "stream",
     "text": [
      "Training: 100%|███████████████████████████████████| 4/4 [00:00<00:00,  4.39it/s]\n",
      "Evaluating: 100%|███████████████████████████████| 16/16 [00:00<00:00, 65.84it/s]\n"
     ]
    },
    {
     "name": "stdout",
     "output_type": "stream",
     "text": [
      "Train Loss: 0.2377, Train Accuracy: 97.33%, Valid Loss: 0.8209, Valid Accuracy: 81.25%\n",
      "Phase 1 - Epoch [59/100]\n"
     ]
    },
    {
     "name": "stderr",
     "output_type": "stream",
     "text": [
      "Training: 100%|███████████████████████████████████| 4/4 [00:00<00:00,  4.44it/s]\n",
      "Evaluating: 100%|███████████████████████████████| 16/16 [00:00<00:00, 63.82it/s]\n"
     ]
    },
    {
     "name": "stdout",
     "output_type": "stream",
     "text": [
      "Train Loss: 0.1900, Train Accuracy: 98.67%, Valid Loss: 0.9422, Valid Accuracy: 75.00%\n",
      "Phase 1 - Epoch [60/100]\n"
     ]
    },
    {
     "name": "stderr",
     "output_type": "stream",
     "text": [
      "Training: 100%|███████████████████████████████████| 4/4 [00:00<00:00,  4.27it/s]\n",
      "Evaluating: 100%|███████████████████████████████| 16/16 [00:00<00:00, 70.90it/s]\n"
     ]
    },
    {
     "name": "stdout",
     "output_type": "stream",
     "text": [
      "Train Loss: 0.2311, Train Accuracy: 96.00%, Valid Loss: 0.8770, Valid Accuracy: 68.75%\n",
      "Phase 1 - Epoch [61/100]\n"
     ]
    },
    {
     "name": "stderr",
     "output_type": "stream",
     "text": [
      "Training: 100%|███████████████████████████████████| 4/4 [00:00<00:00,  4.15it/s]\n",
      "Evaluating: 100%|███████████████████████████████| 16/16 [00:00<00:00, 71.04it/s]\n"
     ]
    },
    {
     "name": "stdout",
     "output_type": "stream",
     "text": [
      "Train Loss: 0.1908, Train Accuracy: 97.33%, Valid Loss: 0.8192, Valid Accuracy: 68.75%\n",
      "Phase 1 - Epoch [62/100]\n"
     ]
    },
    {
     "name": "stderr",
     "output_type": "stream",
     "text": [
      "Training: 100%|███████████████████████████████████| 4/4 [00:00<00:00,  4.44it/s]\n",
      "Evaluating: 100%|███████████████████████████████| 16/16 [00:00<00:00, 68.59it/s]\n"
     ]
    },
    {
     "name": "stdout",
     "output_type": "stream",
     "text": [
      "Train Loss: 0.2168, Train Accuracy: 96.00%, Valid Loss: 0.7722, Valid Accuracy: 75.00%\n",
      "Phase 1 - Epoch [63/100]\n"
     ]
    },
    {
     "name": "stderr",
     "output_type": "stream",
     "text": [
      "Training: 100%|███████████████████████████████████| 4/4 [00:00<00:00,  4.16it/s]\n",
      "Evaluating: 100%|███████████████████████████████| 16/16 [00:00<00:00, 54.22it/s]\n"
     ]
    },
    {
     "name": "stdout",
     "output_type": "stream",
     "text": [
      "Train Loss: 0.2014, Train Accuracy: 97.33%, Valid Loss: 0.6013, Valid Accuracy: 81.25%\n",
      "Phase 1 - Epoch [64/100]\n"
     ]
    },
    {
     "name": "stderr",
     "output_type": "stream",
     "text": [
      "Training: 100%|███████████████████████████████████| 4/4 [00:00<00:00,  4.34it/s]\n",
      "Evaluating: 100%|███████████████████████████████| 16/16 [00:00<00:00, 67.08it/s]\n"
     ]
    },
    {
     "name": "stdout",
     "output_type": "stream",
     "text": [
      "Train Loss: 0.1861, Train Accuracy: 98.67%, Valid Loss: 0.6556, Valid Accuracy: 87.50%\n",
      "Phase 1 - Epoch [65/100]\n"
     ]
    },
    {
     "name": "stderr",
     "output_type": "stream",
     "text": [
      "Training: 100%|███████████████████████████████████| 4/4 [00:00<00:00,  4.26it/s]\n",
      "Evaluating: 100%|███████████████████████████████| 16/16 [00:00<00:00, 53.75it/s]\n"
     ]
    },
    {
     "name": "stdout",
     "output_type": "stream",
     "text": [
      "Train Loss: 0.1898, Train Accuracy: 97.33%, Valid Loss: 0.5059, Valid Accuracy: 87.50%\n",
      "Phase 1 - Epoch [66/100]\n"
     ]
    },
    {
     "name": "stderr",
     "output_type": "stream",
     "text": [
      "Training: 100%|███████████████████████████████████| 4/4 [00:00<00:00,  4.50it/s]\n",
      "Evaluating: 100%|███████████████████████████████| 16/16 [00:00<00:00, 66.47it/s]\n"
     ]
    },
    {
     "name": "stdout",
     "output_type": "stream",
     "text": [
      "Train Loss: 0.1873, Train Accuracy: 98.67%, Valid Loss: 1.4486, Valid Accuracy: 68.75%\n",
      "Phase 1 - Epoch [67/100]\n"
     ]
    },
    {
     "name": "stderr",
     "output_type": "stream",
     "text": [
      "Training: 100%|███████████████████████████████████| 4/4 [00:00<00:00,  4.32it/s]\n",
      "Evaluating: 100%|███████████████████████████████| 16/16 [00:00<00:00, 64.25it/s]\n",
      "/home/philipslinux/anaconda3/lib/python3.9/site-packages/sklearn/metrics/_classification.py:1334: UndefinedMetricWarning: Precision and F-score are ill-defined and being set to 0.0 in labels with no predicted samples. Use `zero_division` parameter to control this behavior.\n",
      "  _warn_prf(average, modifier, msg_start, len(result))\n",
      "/home/philipslinux/anaconda3/lib/python3.9/site-packages/sklearn/metrics/_classification.py:1334: UndefinedMetricWarning: Precision and F-score are ill-defined and being set to 0.0 in labels with no predicted samples. Use `zero_division` parameter to control this behavior.\n",
      "  _warn_prf(average, modifier, msg_start, len(result))\n",
      "/home/philipslinux/anaconda3/lib/python3.9/site-packages/sklearn/metrics/_classification.py:1334: UndefinedMetricWarning: Precision and F-score are ill-defined and being set to 0.0 in labels with no predicted samples. Use `zero_division` parameter to control this behavior.\n",
      "  _warn_prf(average, modifier, msg_start, len(result))\n"
     ]
    },
    {
     "name": "stdout",
     "output_type": "stream",
     "text": [
      "Train Loss: 0.1779, Train Accuracy: 98.67%, Valid Loss: 1.0199, Valid Accuracy: 75.00%\n",
      "Phase 1 - Epoch [68/100]\n"
     ]
    },
    {
     "name": "stderr",
     "output_type": "stream",
     "text": [
      "Training: 100%|███████████████████████████████████| 4/4 [00:00<00:00,  4.50it/s]\n",
      "Evaluating: 100%|███████████████████████████████| 16/16 [00:00<00:00, 73.73it/s]\n"
     ]
    },
    {
     "name": "stdout",
     "output_type": "stream",
     "text": [
      "Train Loss: 0.2220, Train Accuracy: 96.00%, Valid Loss: 0.5982, Valid Accuracy: 68.75%\n",
      "Phase 1 - Epoch [69/100]\n"
     ]
    },
    {
     "name": "stderr",
     "output_type": "stream",
     "text": [
      "Training: 100%|███████████████████████████████████| 4/4 [00:00<00:00,  4.37it/s]\n",
      "Evaluating: 100%|███████████████████████████████| 16/16 [00:00<00:00, 74.12it/s]\n"
     ]
    },
    {
     "name": "stdout",
     "output_type": "stream",
     "text": [
      "Train Loss: 0.2097, Train Accuracy: 98.67%, Valid Loss: 1.4454, Valid Accuracy: 68.75%\n",
      "Phase 1 - Epoch [70/100]\n"
     ]
    },
    {
     "name": "stderr",
     "output_type": "stream",
     "text": [
      "Training: 100%|███████████████████████████████████| 4/4 [00:00<00:00,  4.50it/s]\n",
      "Evaluating: 100%|███████████████████████████████| 16/16 [00:00<00:00, 73.97it/s]\n"
     ]
    },
    {
     "name": "stdout",
     "output_type": "stream",
     "text": [
      "Train Loss: 0.1968, Train Accuracy: 98.67%, Valid Loss: 2.0769, Valid Accuracy: 68.75%\n",
      "Phase 1 - Epoch [71/100]\n"
     ]
    },
    {
     "name": "stderr",
     "output_type": "stream",
     "text": [
      "Training: 100%|███████████████████████████████████| 4/4 [00:00<00:00,  4.23it/s]\n",
      "Evaluating: 100%|███████████████████████████████| 16/16 [00:00<00:00, 65.53it/s]\n"
     ]
    },
    {
     "name": "stdout",
     "output_type": "stream",
     "text": [
      "Train Loss: 0.1768, Train Accuracy: 98.67%, Valid Loss: 1.4997, Valid Accuracy: 68.75%\n",
      "Phase 1 - Epoch [72/100]\n"
     ]
    },
    {
     "name": "stderr",
     "output_type": "stream",
     "text": [
      "Training: 100%|███████████████████████████████████| 4/4 [00:00<00:00,  4.23it/s]\n",
      "Evaluating: 100%|███████████████████████████████| 16/16 [00:00<00:00, 70.46it/s]\n"
     ]
    },
    {
     "name": "stdout",
     "output_type": "stream",
     "text": [
      "Train Loss: 0.1637, Train Accuracy: 100.00%, Valid Loss: 1.4494, Valid Accuracy: 68.75%\n",
      "Phase 1 - Epoch [73/100]\n"
     ]
    },
    {
     "name": "stderr",
     "output_type": "stream",
     "text": [
      "Training: 100%|███████████████████████████████████| 4/4 [00:00<00:00,  4.20it/s]\n",
      "Evaluating: 100%|███████████████████████████████| 16/16 [00:00<00:00, 67.65it/s]\n"
     ]
    },
    {
     "name": "stdout",
     "output_type": "stream",
     "text": [
      "Train Loss: 0.1541, Train Accuracy: 100.00%, Valid Loss: 1.2663, Valid Accuracy: 68.75%\n",
      "Phase 1 - Epoch [74/100]\n"
     ]
    },
    {
     "name": "stderr",
     "output_type": "stream",
     "text": [
      "Training: 100%|███████████████████████████████████| 4/4 [00:00<00:00,  4.27it/s]\n",
      "Evaluating: 100%|███████████████████████████████| 16/16 [00:00<00:00, 67.90it/s]\n"
     ]
    },
    {
     "name": "stdout",
     "output_type": "stream",
     "text": [
      "Train Loss: 0.1626, Train Accuracy: 98.67%, Valid Loss: 1.1882, Valid Accuracy: 75.00%\n",
      "Phase 1 - Epoch [75/100]\n"
     ]
    },
    {
     "name": "stderr",
     "output_type": "stream",
     "text": [
      "Training: 100%|███████████████████████████████████| 4/4 [00:01<00:00,  3.82it/s]\n",
      "Evaluating: 100%|███████████████████████████████| 16/16 [00:00<00:00, 62.73it/s]\n"
     ]
    },
    {
     "name": "stdout",
     "output_type": "stream",
     "text": [
      "Train Loss: 0.1376, Train Accuracy: 100.00%, Valid Loss: 1.2241, Valid Accuracy: 75.00%\n",
      "Phase 1 - Epoch [76/100]\n"
     ]
    },
    {
     "name": "stderr",
     "output_type": "stream",
     "text": [
      "Training: 100%|███████████████████████████████████| 4/4 [00:00<00:00,  4.47it/s]\n",
      "Evaluating: 100%|███████████████████████████████| 16/16 [00:00<00:00, 73.52it/s]\n"
     ]
    },
    {
     "name": "stdout",
     "output_type": "stream",
     "text": [
      "Train Loss: 0.1402, Train Accuracy: 100.00%, Valid Loss: 0.9982, Valid Accuracy: 75.00%\n",
      "Phase 1 - Epoch [77/100]\n"
     ]
    },
    {
     "name": "stderr",
     "output_type": "stream",
     "text": [
      "Training: 100%|███████████████████████████████████| 4/4 [00:00<00:00,  4.32it/s]\n",
      "Evaluating: 100%|███████████████████████████████| 16/16 [00:00<00:00, 72.25it/s]\n"
     ]
    },
    {
     "name": "stdout",
     "output_type": "stream",
     "text": [
      "Train Loss: 0.1364, Train Accuracy: 100.00%, Valid Loss: 1.1648, Valid Accuracy: 75.00%\n",
      "Phase 1 - Epoch [78/100]\n"
     ]
    },
    {
     "name": "stderr",
     "output_type": "stream",
     "text": [
      "Training: 100%|███████████████████████████████████| 4/4 [00:00<00:00,  4.44it/s]\n",
      "Evaluating: 100%|███████████████████████████████| 16/16 [00:00<00:00, 72.40it/s]\n"
     ]
    },
    {
     "name": "stdout",
     "output_type": "stream",
     "text": [
      "Train Loss: 0.1637, Train Accuracy: 98.67%, Valid Loss: 0.6101, Valid Accuracy: 81.25%\n",
      "Phase 1 - Epoch [79/100]\n"
     ]
    },
    {
     "name": "stderr",
     "output_type": "stream",
     "text": [
      "Training: 100%|███████████████████████████████████| 4/4 [00:01<00:00,  3.87it/s]\n",
      "Evaluating: 100%|███████████████████████████████| 16/16 [00:00<00:00, 72.85it/s]\n"
     ]
    },
    {
     "name": "stdout",
     "output_type": "stream",
     "text": [
      "Train Loss: 0.1452, Train Accuracy: 100.00%, Valid Loss: 0.6162, Valid Accuracy: 81.25%\n",
      "Phase 1 - Epoch [80/100]\n"
     ]
    },
    {
     "name": "stderr",
     "output_type": "stream",
     "text": [
      "Training: 100%|███████████████████████████████████| 4/4 [00:00<00:00,  4.17it/s]\n",
      "Evaluating: 100%|███████████████████████████████| 16/16 [00:00<00:00, 71.22it/s]\n"
     ]
    },
    {
     "name": "stdout",
     "output_type": "stream",
     "text": [
      "Train Loss: 0.1323, Train Accuracy: 100.00%, Valid Loss: 0.5496, Valid Accuracy: 87.50%\n",
      "Phase 1 - Epoch [81/100]\n"
     ]
    },
    {
     "name": "stderr",
     "output_type": "stream",
     "text": [
      "Training: 100%|███████████████████████████████████| 4/4 [00:01<00:00,  3.94it/s]\n",
      "Evaluating: 100%|███████████████████████████████| 16/16 [00:00<00:00, 65.95it/s]\n"
     ]
    },
    {
     "name": "stdout",
     "output_type": "stream",
     "text": [
      "Train Loss: 0.1326, Train Accuracy: 100.00%, Valid Loss: 0.5889, Valid Accuracy: 87.50%\n",
      "Phase 1 - Epoch [82/100]\n"
     ]
    },
    {
     "name": "stderr",
     "output_type": "stream",
     "text": [
      "Training: 100%|███████████████████████████████████| 4/4 [00:00<00:00,  4.25it/s]\n",
      "Evaluating: 100%|███████████████████████████████| 16/16 [00:00<00:00, 54.76it/s]\n"
     ]
    },
    {
     "name": "stdout",
     "output_type": "stream",
     "text": [
      "Train Loss: 0.1281, Train Accuracy: 100.00%, Valid Loss: 0.6664, Valid Accuracy: 81.25%\n",
      "Phase 1 - Epoch [83/100]\n"
     ]
    },
    {
     "name": "stderr",
     "output_type": "stream",
     "text": [
      "Training: 100%|███████████████████████████████████| 4/4 [00:00<00:00,  4.10it/s]\n",
      "Evaluating: 100%|███████████████████████████████| 16/16 [00:00<00:00, 72.40it/s]\n"
     ]
    },
    {
     "name": "stdout",
     "output_type": "stream",
     "text": [
      "Train Loss: 0.1256, Train Accuracy: 100.00%, Valid Loss: 0.7378, Valid Accuracy: 75.00%\n",
      "Phase 1 - Epoch [84/100]\n"
     ]
    },
    {
     "name": "stderr",
     "output_type": "stream",
     "text": [
      "Training: 100%|███████████████████████████████████| 4/4 [00:00<00:00,  4.37it/s]\n",
      "Evaluating: 100%|███████████████████████████████| 16/16 [00:00<00:00, 71.64it/s]\n"
     ]
    },
    {
     "name": "stdout",
     "output_type": "stream",
     "text": [
      "Train Loss: 0.1280, Train Accuracy: 100.00%, Valid Loss: 0.7716, Valid Accuracy: 75.00%\n",
      "Phase 1 - Epoch [85/100]\n"
     ]
    },
    {
     "name": "stderr",
     "output_type": "stream",
     "text": [
      "Training: 100%|███████████████████████████████████| 4/4 [00:00<00:00,  4.42it/s]\n",
      "Evaluating: 100%|███████████████████████████████| 16/16 [00:00<00:00, 72.27it/s]\n"
     ]
    },
    {
     "name": "stdout",
     "output_type": "stream",
     "text": [
      "Train Loss: 0.1241, Train Accuracy: 100.00%, Valid Loss: 0.8232, Valid Accuracy: 75.00%\n",
      "Phase 1 - Epoch [86/100]\n"
     ]
    },
    {
     "name": "stderr",
     "output_type": "stream",
     "text": [
      "Training: 100%|███████████████████████████████████| 4/4 [00:00<00:00,  4.24it/s]\n",
      "Evaluating: 100%|███████████████████████████████| 16/16 [00:00<00:00, 71.79it/s]\n"
     ]
    },
    {
     "name": "stdout",
     "output_type": "stream",
     "text": [
      "Train Loss: 0.1266, Train Accuracy: 100.00%, Valid Loss: 0.8540, Valid Accuracy: 75.00%\n",
      "Phase 1 - Epoch [87/100]\n"
     ]
    },
    {
     "name": "stderr",
     "output_type": "stream",
     "text": [
      "Training: 100%|███████████████████████████████████| 4/4 [00:00<00:00,  4.47it/s]\n",
      "Evaluating: 100%|███████████████████████████████| 16/16 [00:00<00:00, 72.61it/s]\n"
     ]
    },
    {
     "name": "stdout",
     "output_type": "stream",
     "text": [
      "Train Loss: 0.1241, Train Accuracy: 100.00%, Valid Loss: 0.8900, Valid Accuracy: 75.00%\n",
      "Phase 1 - Epoch [88/100]\n"
     ]
    },
    {
     "name": "stderr",
     "output_type": "stream",
     "text": [
      "Training: 100%|███████████████████████████████████| 4/4 [00:00<00:00,  4.35it/s]\n",
      "Evaluating: 100%|███████████████████████████████| 16/16 [00:00<00:00, 72.24it/s]\n"
     ]
    },
    {
     "name": "stdout",
     "output_type": "stream",
     "text": [
      "Train Loss: 0.1254, Train Accuracy: 100.00%, Valid Loss: 0.9156, Valid Accuracy: 75.00%\n",
      "Phase 1 - Epoch [89/100]\n"
     ]
    },
    {
     "name": "stderr",
     "output_type": "stream",
     "text": [
      "Training: 100%|███████████████████████████████████| 4/4 [00:00<00:00,  4.19it/s]\n",
      "Evaluating: 100%|███████████████████████████████| 16/16 [00:00<00:00, 72.26it/s]\n"
     ]
    },
    {
     "name": "stdout",
     "output_type": "stream",
     "text": [
      "Train Loss: 0.1225, Train Accuracy: 100.00%, Valid Loss: 0.9707, Valid Accuracy: 75.00%\n",
      "Phase 1 - Epoch [90/100]\n"
     ]
    },
    {
     "name": "stderr",
     "output_type": "stream",
     "text": [
      "Training: 100%|███████████████████████████████████| 4/4 [00:00<00:00,  4.39it/s]\n",
      "Evaluating: 100%|███████████████████████████████| 16/16 [00:00<00:00, 64.32it/s]\n"
     ]
    },
    {
     "name": "stdout",
     "output_type": "stream",
     "text": [
      "Train Loss: 0.1239, Train Accuracy: 100.00%, Valid Loss: 0.9845, Valid Accuracy: 75.00%\n",
      "Phase 1 - Epoch [91/100]\n"
     ]
    },
    {
     "name": "stderr",
     "output_type": "stream",
     "text": [
      "Training: 100%|███████████████████████████████████| 4/4 [00:00<00:00,  4.48it/s]\n",
      "Evaluating: 100%|███████████████████████████████| 16/16 [00:00<00:00, 62.82it/s]\n"
     ]
    },
    {
     "name": "stdout",
     "output_type": "stream",
     "text": [
      "Train Loss: 0.1253, Train Accuracy: 100.00%, Valid Loss: 0.9912, Valid Accuracy: 75.00%\n",
      "Phase 1 - Epoch [92/100]\n"
     ]
    },
    {
     "name": "stderr",
     "output_type": "stream",
     "text": [
      "Training: 100%|███████████████████████████████████| 4/4 [00:00<00:00,  4.00it/s]\n",
      "Evaluating: 100%|███████████████████████████████| 16/16 [00:00<00:00, 69.95it/s]\n"
     ]
    },
    {
     "name": "stdout",
     "output_type": "stream",
     "text": [
      "Train Loss: 0.1207, Train Accuracy: 100.00%, Valid Loss: 1.0156, Valid Accuracy: 75.00%\n",
      "Phase 1 - Epoch [93/100]\n"
     ]
    },
    {
     "name": "stderr",
     "output_type": "stream",
     "text": [
      "Training: 100%|███████████████████████████████████| 4/4 [00:00<00:00,  4.46it/s]\n",
      "Evaluating: 100%|███████████████████████████████| 16/16 [00:00<00:00, 70.82it/s]\n"
     ]
    },
    {
     "name": "stdout",
     "output_type": "stream",
     "text": [
      "Train Loss: 0.1208, Train Accuracy: 100.00%, Valid Loss: 1.0069, Valid Accuracy: 75.00%\n",
      "Phase 1 - Epoch [94/100]\n"
     ]
    },
    {
     "name": "stderr",
     "output_type": "stream",
     "text": [
      "Training: 100%|███████████████████████████████████| 4/4 [00:01<00:00,  4.00it/s]\n",
      "Evaluating: 100%|███████████████████████████████| 16/16 [00:00<00:00, 65.79it/s]\n"
     ]
    },
    {
     "name": "stdout",
     "output_type": "stream",
     "text": [
      "Train Loss: 0.1204, Train Accuracy: 100.00%, Valid Loss: 1.0244, Valid Accuracy: 75.00%\n",
      "Phase 1 - Epoch [95/100]\n"
     ]
    },
    {
     "name": "stderr",
     "output_type": "stream",
     "text": [
      "Training: 100%|███████████████████████████████████| 4/4 [00:01<00:00,  3.60it/s]\n",
      "Evaluating: 100%|███████████████████████████████| 16/16 [00:00<00:00, 65.28it/s]\n"
     ]
    },
    {
     "name": "stdout",
     "output_type": "stream",
     "text": [
      "Train Loss: 0.1220, Train Accuracy: 100.00%, Valid Loss: 1.0290, Valid Accuracy: 75.00%\n",
      "Phase 1 - Epoch [96/100]\n"
     ]
    },
    {
     "name": "stderr",
     "output_type": "stream",
     "text": [
      "Training: 100%|███████████████████████████████████| 4/4 [00:00<00:00,  4.21it/s]\n",
      "Evaluating: 100%|███████████████████████████████| 16/16 [00:00<00:00, 60.32it/s]\n"
     ]
    },
    {
     "name": "stdout",
     "output_type": "stream",
     "text": [
      "Train Loss: 0.1217, Train Accuracy: 100.00%, Valid Loss: 1.0341, Valid Accuracy: 75.00%\n",
      "Phase 1 - Epoch [97/100]\n"
     ]
    },
    {
     "name": "stderr",
     "output_type": "stream",
     "text": [
      "Training: 100%|███████████████████████████████████| 4/4 [00:00<00:00,  4.48it/s]\n",
      "Evaluating: 100%|███████████████████████████████| 16/16 [00:00<00:00, 63.96it/s]\n"
     ]
    },
    {
     "name": "stdout",
     "output_type": "stream",
     "text": [
      "Train Loss: 0.1206, Train Accuracy: 100.00%, Valid Loss: 1.0526, Valid Accuracy: 75.00%\n",
      "Phase 1 - Epoch [98/100]\n"
     ]
    },
    {
     "name": "stderr",
     "output_type": "stream",
     "text": [
      "Training: 100%|███████████████████████████████████| 4/4 [00:00<00:00,  4.47it/s]\n",
      "Evaluating: 100%|███████████████████████████████| 16/16 [00:00<00:00, 70.50it/s]\n"
     ]
    },
    {
     "name": "stdout",
     "output_type": "stream",
     "text": [
      "Train Loss: 0.1182, Train Accuracy: 100.00%, Valid Loss: 1.0660, Valid Accuracy: 75.00%\n",
      "Phase 1 - Epoch [99/100]\n"
     ]
    },
    {
     "name": "stderr",
     "output_type": "stream",
     "text": [
      "Training: 100%|███████████████████████████████████| 4/4 [00:00<00:00,  4.22it/s]\n",
      "Evaluating: 100%|███████████████████████████████| 16/16 [00:00<00:00, 52.10it/s]\n"
     ]
    },
    {
     "name": "stdout",
     "output_type": "stream",
     "text": [
      "Train Loss: 0.1196, Train Accuracy: 100.00%, Valid Loss: 1.0511, Valid Accuracy: 75.00%\n",
      "Phase 1 - Epoch [100/100]\n"
     ]
    },
    {
     "name": "stderr",
     "output_type": "stream",
     "text": [
      "Training: 100%|███████████████████████████████████| 4/4 [00:00<00:00,  4.38it/s]\n",
      "Evaluating: 100%|███████████████████████████████| 16/16 [00:00<00:00, 66.00it/s]\n",
      "/tmp/ipykernel_2306285/74611990.py:164: FutureWarning: You are using `torch.load` with `weights_only=False` (the current default value), which uses the default pickle module implicitly. It is possible to construct malicious pickle data which will execute arbitrary code during unpickling (See https://github.com/pytorch/pytorch/blob/main/SECURITY.md#untrusted-models for more details). In a future release, the default value for `weights_only` will be flipped to `True`. This limits the functions that could be executed during unpickling. Arbitrary objects will no longer be allowed to be loaded via this mode unless they are explicitly allowlisted by the user via `torch.serialization.add_safe_globals`. We recommend you start setting `weights_only=True` for any use case where you don't have full control of the loaded file. Please open an issue on GitHub for any issues related to this experimental feature.\n",
      "  model.load_state_dict(torch.load(best_model_path_p1))\n"
     ]
    },
    {
     "name": "stdout",
     "output_type": "stream",
     "text": [
      "Train Loss: 0.1195, Train Accuracy: 100.00%, Valid Loss: 1.0318, Valid Accuracy: 75.00%\n",
      "Loading the best model for Phase 2...\n",
      "Starting Phase 2...\n",
      "Phase 2 - Epoch [1/5]\n"
     ]
    },
    {
     "name": "stderr",
     "output_type": "stream",
     "text": [
      "Training: 100%|███████████████████████████████████| 4/4 [00:00<00:00,  4.24it/s]\n",
      "Evaluating: 100%|███████████████████████████████| 16/16 [00:00<00:00, 70.85it/s]\n"
     ]
    },
    {
     "name": "stdout",
     "output_type": "stream",
     "text": [
      "Train Loss: 0.4287, Train Accuracy: 93.33%, Valid Loss: 0.3188, Valid Accuracy: 93.75%\n",
      "Best model saved with validation accuracy phase2: 93.75%\n",
      "Last model phase 2 saved : 93.75%\n",
      "Phase 2 - Epoch [2/5]\n"
     ]
    },
    {
     "name": "stderr",
     "output_type": "stream",
     "text": [
      "Training: 100%|███████████████████████████████████| 4/4 [00:00<00:00,  4.15it/s]\n",
      "Evaluating: 100%|███████████████████████████████| 16/16 [00:00<00:00, 67.31it/s]\n"
     ]
    },
    {
     "name": "stdout",
     "output_type": "stream",
     "text": [
      "Train Loss: 0.3968, Train Accuracy: 93.33%, Valid Loss: 0.3126, Valid Accuracy: 93.75%\n",
      "Last model phase 2 saved : 93.75%\n",
      "Phase 2 - Epoch [3/5]\n"
     ]
    },
    {
     "name": "stderr",
     "output_type": "stream",
     "text": [
      "Training: 100%|███████████████████████████████████| 4/4 [00:00<00:00,  4.27it/s]\n",
      "Evaluating: 100%|███████████████████████████████| 16/16 [00:00<00:00, 70.25it/s]\n"
     ]
    },
    {
     "name": "stdout",
     "output_type": "stream",
     "text": [
      "Train Loss: 0.3815, Train Accuracy: 94.67%, Valid Loss: 0.3126, Valid Accuracy: 93.75%\n",
      "Last model phase 2 saved : 93.75%\n",
      "Phase 2 - Epoch [4/5]\n"
     ]
    },
    {
     "name": "stderr",
     "output_type": "stream",
     "text": [
      "Training: 100%|███████████████████████████████████| 4/4 [00:01<00:00,  3.37it/s]\n",
      "Evaluating: 100%|███████████████████████████████| 16/16 [00:00<00:00, 65.79it/s]\n"
     ]
    },
    {
     "name": "stdout",
     "output_type": "stream",
     "text": [
      "Train Loss: 0.5088, Train Accuracy: 92.00%, Valid Loss: 0.3312, Valid Accuracy: 93.75%\n",
      "Last model phase 2 saved : 93.75%\n",
      "Phase 2 - Epoch [5/5]\n"
     ]
    },
    {
     "name": "stderr",
     "output_type": "stream",
     "text": [
      "Training: 100%|███████████████████████████████████| 4/4 [00:00<00:00,  4.27it/s]\n",
      "Evaluating: 100%|███████████████████████████████| 16/16 [00:00<00:00, 65.21it/s]\n"
     ]
    },
    {
     "name": "stdout",
     "output_type": "stream",
     "text": [
      "Train Loss: 0.4389, Train Accuracy: 92.00%, Valid Loss: 0.3271, Valid Accuracy: 93.75%\n",
      "Last model phase 2 saved : 93.75%\n"
     ]
    },
    {
     "data": {
      "image/png": "[encoded data removed]",
      "text/plain": [
       "<Figure size 1500x1000 with 3 Axes>"
      ]
     },
     "metadata": {},
     "output_type": "display_data"
    }
   ],
   "source": [
    "import os\n",
    "import torch\n",
    "import torch.nn as nn\n",
    "import torch.optim as optim\n",
    "from torch.utils.data import DataLoader\n",
    "from torchvision import datasets, transforms\n",
    "from sklearn.metrics import classification_report\n",
    "import numpy as np\n",
    "import matplotlib.pyplot as plt\n",
    "from tqdm import tqdm\n",
    "from torchvision import transforms, models, datasets\n",
    "train_ratio = 1\n",
    "batch_size = 20\n",
    "num_epochs_phase1 = 100\n",
    "num_epochs_phase2 = 5\n",
    "lr = 0.00005\n",
    "ss=1\n",
    "g=0.01\n",
    "best_model_path_p1 = \"./checkpoints/best_model_res152_dif_p1.pth\"\n",
    "best_model_path_p2 = \"./checkpoints/best_model_res152_dif_p2.pth\"\n",
    "last_model_path_p2 = \"./checkpoints/last_model_res152_dif_p2.pth\"\n",
    "loss_weight_main, loss_weight_aux = 0.9, 0.1\n",
    "transform = transforms.Compose([\n",
    "    transforms.Resize((224, 224)),\n",
    "    transforms.ToTensor(),\n",
    "    transforms.Normalize(mean=[0.485, 0.456, 0.406], std=[0.229, 0.224, 0.225])\n",
    "])\n",
    "train_set = datasets.ImageFolder(root=\"./syn_vision_dataset/train\", transform=transform)\n",
    "total_samples = len(train_set)\n",
    "train_samples = int(train_ratio * total_samples)\n",
    "val_samples = total_samples - train_samples\n",
    "train_data, valid_data = torch.utils.data.random_split(train_set, [train_samples, val_samples])\n",
    "train_loader = DataLoader(train_data, batch_size=batch_size, shuffle=True)\n",
    "val_dataset = datasets.ImageFolder(root=\"./syn_vision_dataset/val\", transform=transform)\n",
    "valid_loader = DataLoader(val_dataset, batch_size=1, shuffle=False)\n",
    "class Network(nn.Module):\n",
    "    def __init__(self, num_classes=10):\n",
    "        super(Network, self).__init__()\n",
    "        self.backbone1 = models.resnet152(pretrained=True)\n",
    "        self.feature_extractor1 = nn.Sequential(*list(self.backbone1.children())[:-2])\n",
    "        self.feature_extractor2 = nn.Sequential(*list(self.backbone1.children())[:-50])\n",
    "        self.feature_extractor3 = nn.Sequential(*list(self.backbone1.children())[:-100])\n",
    "        self.global_pool = nn.AdaptiveAvgPool2d(1)\n",
    "        self.local_pool = nn.AdaptiveAvgPool2d((4, 4))\n",
    "        self.fc1 = nn.Linear(34816, 256)\n",
    "        self.fc2 = nn.Linear(51, 256)\n",
    "        self.fc3 = nn.Linear(51, 256)\n",
    "        self.fc_out1 = nn.Linear(256, num_classes)\n",
    "        self.fc_out2 = nn.Linear(256, num_classes)\n",
    "        self.fc_out3 = nn.Linear(256, num_classes)\n",
    "        self.fc_out_final = nn.Linear(12, num_classes)\n",
    "    def forward(self, x):\n",
    "        features1 = self.feature_extractor1(x)\n",
    "        global_features1 = self.global_pool(features1).view(x.size(0), -1)\n",
    "        local_features1 = self.local_pool(features1).view(x.size(0), -1)\n",
    "        combined_features1 = torch.cat((global_features1, local_features1), dim=1)\n",
    "        features2 = self.feature_extractor2(x)\n",
    "        global_features2 = self.global_pool(features2).view(x.size(0), -1)\n",
    "        local_features2 = self.local_pool(features2).view(x.size(0), -1)\n",
    "        combined_features2 = torch.cat((global_features2, local_features2), dim=1)\n",
    "        features3 = self.feature_extractor3(x)\n",
    "        global_features3 = self.global_pool(features3).view(x.size(0), -1)\n",
    "        local_features3 = self.local_pool(features3).view(x.size(0), -1)\n",
    "        combined_features3 = torch.cat((global_features3, local_features3), dim=1)\n",
    "        out1 = self.fc_out1(self.fc1(combined_features1))\n",
    "        out2 = self.fc_out2(self.fc2(combined_features2))\n",
    "        out3 = self.fc_out3(self.fc3(combined_features3))\n",
    "        out_cat = torch.cat((out1, out2, out3), dim=1)\n",
    "        final_out = self.fc_out_final(out_cat)\n",
    "        return final_out, out1, out2, out3\n",
    "def train_one_epoch(model, optimizer, criterion_main, criterion_aux, train_loader, device):\n",
    "    model.train()\n",
    "    total_loss = 0.0\n",
    "    total_correct = 0\n",
    "    total_samples = 0\n",
    "    for images, labels in tqdm(train_loader, desc=\"Training\", leave=True):\n",
    "        images, labels = images.to(device), labels.to(device)\n",
    "        optimizer.zero_grad()\n",
    "        outputs, out1, out2, out3 = model(images)\n",
    "        loss_main = criterion_main(outputs, labels)\n",
    "        loss_aux = (criterion_aux(out1, labels) + criterion_aux(out2, labels) + criterion_aux(out3, labels)) / 3\n",
    "        loss = loss_weight_main * loss_main + loss_weight_aux * loss_aux\n",
    "        loss.backward()\n",
    "        optimizer.step()\n",
    "        total_loss += loss.item()\n",
    "        _, predicted = torch.max(outputs, 1)\n",
    "        total_correct += (predicted == labels).sum().item()\n",
    "        total_samples += labels.size(0)\n",
    "    avg_loss = total_loss / len(train_loader)\n",
    "    accuracy = total_correct / total_samples * 100\n",
    "    return avg_loss, accuracy\n",
    "def evaluate(model, criterion_main, valid_loader, device):\n",
    "    model.eval()\n",
    "    total_loss = 0.0\n",
    "    total_correct = 0\n",
    "    total_samples = 0\n",
    "    all_labels = []\n",
    "    all_preds = []\n",
    "    with torch.no_grad():\n",
    "        for images, labels in tqdm(valid_loader, desc=\"Evaluating\", leave=True):\n",
    "            images, labels = images.to(device), labels.to(device)\n",
    "            outputs, _, _, _ = model(images)\n",
    "            loss = criterion_main(outputs, labels)\n",
    "            total_loss += loss.item()\n",
    "            _, predicted = torch.max(outputs, 1)\n",
    "            all_labels.extend(labels.cpu().numpy())\n",
    "            all_preds.extend(predicted.cpu().numpy())\n",
    "            total_correct += (predicted == labels).sum().item()\n",
    "            total_samples += labels.size(0)\n",
    "    avg_loss = total_loss / len(valid_loader)\n",
    "    accuracy = total_correct / total_samples * 100\n",
    "    report = classification_report(all_labels, all_preds, target_names=train_set.classes, output_dict=True)\n",
    "    return avg_loss, accuracy, report\n",
    "device = torch.device(\"cuda\" if torch.cuda.is_available() else \"cpu\")\n",
    "model = Network(num_classes=4).to(device)\n",
    "criterion_main = nn.CrossEntropyLoss()\n",
    "criterion_aux = nn.CrossEntropyLoss()\n",
    "optimizer = optim.RMSprop(model.parameters(), lr=lr, momentum=0.8)\n",
    "best_valid_acc = 0.0\n",
    "train_losses_phase1, train_accuracies_phase1, valid_losses_phase1, valid_accuracies_phase1 = [], [], [], []\n",
    "train_losses_phase2, train_accuracies_phase2, valid_losses_phase2, valid_accuracies_phase2 = [], [], [], []\n",
    "learning_rates_phase1, learning_rates_phase2 = [], []\n",
    "print(\"Starting Phase 1...\")\n",
    "for epoch in range(num_epochs_phase1):\n",
    "    print(f\"Phase 1 - Epoch [{epoch + 1}/{num_epochs_phase1}]\")\n",
    "    train_loss, train_acc = train_one_epoch(model, optimizer, criterion_main, criterion_aux, train_loader, device)\n",
    "    valid_loss, valid_acc, _ = evaluate(model, criterion_main, valid_loader, device)\n",
    "    train_losses_phase1.append(train_loss)\n",
    "    train_accuracies_phase1.append(train_acc)\n",
    "    valid_losses_phase1.append(valid_loss)\n",
    "    valid_accuracies_phase1.append(valid_acc)\n",
    "    learning_rates_phase1.append(optimizer.param_groups[0]['lr']) \n",
    "    print(f\"Train Loss: {train_loss:.4f}, Train Accuracy: {train_acc:.2f}%, \"\n",
    "          f\"Valid Loss: {valid_loss:.4f}, Valid Accuracy: {valid_acc:.2f}%\")\n",
    "    if valid_acc > best_valid_acc:\n",
    "        best_valid_acc = valid_acc\n",
    "        torch.save(model.state_dict(), best_model_path_p1)\n",
    "        print(f\"Best model saved with validation accuracy in phase 1: {valid_acc:.2f}%\")\n",
    "best_valid_acc = 0.0\n",
    "print(\"Loading the best model for Phase 2...\")\n",
    "model.load_state_dict(torch.load(best_model_path_p1))\n",
    "optimizer = optim.RMSprop(model.parameters(), lr=lr / 1000, momentum=0.8)\n",
    "scheduler = torch.optim.lr_scheduler.StepLR(optimizer, step_size=ss, gamma=g)\n",
    "print(\"Starting Phase 2...\")\n",
    "for epoch in range(num_epochs_phase2):\n",
    "    print(f\"Phase 2 - Epoch [{epoch + 1}/{num_epochs_phase2}]\")\n",
    "    train_loss, train_acc = train_one_epoch(model, optimizer, criterion_main, criterion_aux, train_loader, device)\n",
    "    valid_loss, valid_acc, _ = evaluate(model, criterion_main, valid_loader, device)\n",
    "    \n",
    "    train_losses_phase2.append(train_loss)\n",
    "    train_accuracies_phase2.append(train_acc)\n",
    "    valid_losses_phase2.append(valid_loss)\n",
    "    valid_accuracies_phase2.append(valid_acc)\n",
    "    learning_rates_phase2.append(optimizer.param_groups[0]['lr']) \n",
    "    print(f\"Train Loss: {train_loss:.4f}, Train Accuracy: {train_acc:.2f}%, \"\n",
    "          f\"Valid Loss: {valid_loss:.4f}, Valid Accuracy: {valid_acc:.2f}%\")\n",
    "    if valid_acc > best_valid_acc:\n",
    "        best_valid_acc = valid_acc\n",
    "        torch.save(model.state_dict(), best_model_path_p2)\n",
    "        print(f\"Best model saved with validation accuracy phase2: {valid_acc:.2f}%\")\n",
    "    torch.save(model.state_dict(), last_model_path_p2)\n",
    "    print(f\"Last model phase 2 saved : {valid_acc:.2f}%\")\n",
    "    scheduler.step()\n",
    "train_losses = train_losses_phase1 + train_losses_phase2\n",
    "train_accuracies = train_accuracies_phase1 + train_accuracies_phase2\n",
    "valid_losses = valid_losses_phase1 + valid_losses_phase2\n",
    "valid_accuracies = valid_accuracies_phase1 + valid_accuracies_phase2\n",
    "learning_rates = learning_rates_phase1 + learning_rates_phase2\n",
    "plt.figure(figsize=(15, 10))\n",
    "plt.subplot(3, 1, 1)\n",
    "plt.plot(range(1, len(train_losses) + 1), train_losses, label=\"Train Loss\")\n",
    "plt.plot(range(1, len(valid_losses) + 1), valid_losses, label=\"Validation Loss\")\n",
    "plt.axvline(x=num_epochs_phase1, color='r', linestyle='--', label=\"Phase 1 End\")\n",
    "plt.title(\"Loss vs Epochs\")\n",
    "plt.xlabel(\"Epochs\")\n",
    "plt.ylabel(\"Loss\")\n",
    "plt.legend()\n",
    "plt.subplot(3, 1, 2)\n",
    "plt.plot(range(1, len(train_accuracies) + 1), train_accuracies, label=\"Train Accuracy\")\n",
    "plt.plot(range(1, len(valid_accuracies) + 1), valid_accuracies, label=\"Validation Accuracy\")\n",
    "plt.axvline(x=num_epochs_phase1, color='r', linestyle='--', label=\"Phase 1 End\")\n",
    "plt.title(\"Accuracy vs Epochs\")\n",
    "plt.xlabel(\"Epochs\")\n",
    "plt.ylabel(\"Accuracy (%)\")\n",
    "plt.legend()\n",
    "plt.subplot(3, 1, 3)\n",
    "plt.plot(range(1, len(learning_rates) + 1), learning_rates, label=\"Learning Rate\")\n",
    "plt.axvline(x=num_epochs_phase1, color='r', linestyle='--', label=\"Phase 1 End\")\n",
    "plt.title(\"Learning Rate vs Epochs\")\n",
    "plt.xlabel(\"Epochs\")\n",
    "plt.ylabel(\"Learning Rate\")\n",
    "plt.legend()\n",
    "plt.tight_layout()\n",
    "plt.show()"
   ]
  },
  {
   "cell_type": "code",
   "execution_count": null,
   "id": "5009f2cf",
   "metadata": {},
   "outputs": [],
   "source": []
  }
 ],
 "metadata": {
  "kernelspec": {
   "display_name": "Python 3 (ipykernel)",
   "language": "python",
   "name": "python3"
  },
  "language_info": {
   "codemirror_mode": {
    "name": "ipython",
    "version": 3
   },
   "file_extension": ".py",
   "mimetype": "text/x-python",
   "name": "python",
   "nbconvert_exporter": "python",
   "pygments_lexer": "ipython3",
   "version": "3.10.9"
  }
 },
 "nbformat": 4,
 "nbformat_minor": 5
}
