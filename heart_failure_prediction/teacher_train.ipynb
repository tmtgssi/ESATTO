{
 "cells": [
  {
   "cell_type": "code",
   "execution_count": 1,
   "id": "4ff52092",
   "metadata": {},
   "outputs": [
    {
     "name": "stderr",
     "output_type": "stream",
     "text": [
      "/home/philipslinux/anaconda3/lib/python3.9/site-packages/torchvision/models/_utils.py:208: UserWarning: The parameter 'pretrained' is deprecated since 0.13 and may be removed in the future, please use 'weights' instead.\n",
      "  warnings.warn(\n",
      "/home/philipslinux/anaconda3/lib/python3.9/site-packages/torchvision/models/_utils.py:223: UserWarning: Arguments other than a weight enum or `None` for 'weights' are deprecated since 0.13 and may be removed in the future. The current behavior is equivalent to passing `weights=ResNet152_Weights.IMAGENET1K_V1`. You can also use `weights=ResNet152_Weights.DEFAULT` to get the most up-to-date weights.\n",
      "  warnings.warn(msg)\n"
     ]
    },
    {
     "name": "stdout",
     "output_type": "stream",
     "text": [
      "Starting Phase 1...\n",
      "Phase 1 - Epoch [1/50]\n"
     ]
    },
    {
     "name": "stderr",
     "output_type": "stream",
     "text": [
      "Training: 100%|█████████████████████████████████| 11/11 [00:04<00:00,  2.46it/s]\n",
      "Evaluating: 100%|███████████████████████████████| 44/44 [00:00<00:00, 49.92it/s]\n",
      "/home/philipslinux/anaconda3/lib/python3.9/site-packages/sklearn/metrics/_classification.py:1334: UndefinedMetricWarning: Precision and F-score are ill-defined and being set to 0.0 in labels with no predicted samples. Use `zero_division` parameter to control this behavior.\n",
      "  _warn_prf(average, modifier, msg_start, len(result))\n",
      "/home/philipslinux/anaconda3/lib/python3.9/site-packages/sklearn/metrics/_classification.py:1334: UndefinedMetricWarning: Precision and F-score are ill-defined and being set to 0.0 in labels with no predicted samples. Use `zero_division` parameter to control this behavior.\n",
      "  _warn_prf(average, modifier, msg_start, len(result))\n",
      "/home/philipslinux/anaconda3/lib/python3.9/site-packages/sklearn/metrics/_classification.py:1334: UndefinedMetricWarning: Precision and F-score are ill-defined and being set to 0.0 in labels with no predicted samples. Use `zero_division` parameter to control this behavior.\n",
      "  _warn_prf(average, modifier, msg_start, len(result))\n"
     ]
    },
    {
     "name": "stdout",
     "output_type": "stream",
     "text": [
      "Train Loss: 6.1993, Train Accuracy: 51.22%, Valid Loss: 29914.1346, Valid Accuracy: 54.55%\n",
      "Best model saved with validation accuracy in phase 1: 54.55%\n",
      "Phase 1 - Epoch [2/50]\n"
     ]
    },
    {
     "name": "stderr",
     "output_type": "stream",
     "text": [
      "Training: 100%|█████████████████████████████████| 11/11 [00:03<00:00,  3.49it/s]\n",
      "Evaluating: 100%|███████████████████████████████| 44/44 [00:01<00:00, 36.38it/s]\n",
      "/home/philipslinux/anaconda3/lib/python3.9/site-packages/sklearn/metrics/_classification.py:1334: UndefinedMetricWarning: Precision and F-score are ill-defined and being set to 0.0 in labels with no predicted samples. Use `zero_division` parameter to control this behavior.\n",
      "  _warn_prf(average, modifier, msg_start, len(result))\n",
      "/home/philipslinux/anaconda3/lib/python3.9/site-packages/sklearn/metrics/_classification.py:1334: UndefinedMetricWarning: Precision and F-score are ill-defined and being set to 0.0 in labels with no predicted samples. Use `zero_division` parameter to control this behavior.\n",
      "  _warn_prf(average, modifier, msg_start, len(result))\n",
      "/home/philipslinux/anaconda3/lib/python3.9/site-packages/sklearn/metrics/_classification.py:1334: UndefinedMetricWarning: Precision and F-score are ill-defined and being set to 0.0 in labels with no predicted samples. Use `zero_division` parameter to control this behavior.\n",
      "  _warn_prf(average, modifier, msg_start, len(result))\n"
     ]
    },
    {
     "name": "stdout",
     "output_type": "stream",
     "text": [
      "Train Loss: 1.4077, Train Accuracy: 50.73%, Valid Loss: 0.7621, Valid Accuracy: 54.55%\n",
      "Phase 1 - Epoch [3/50]\n"
     ]
    },
    {
     "name": "stderr",
     "output_type": "stream",
     "text": [
      "Training: 100%|█████████████████████████████████| 11/11 [00:02<00:00,  3.88it/s]\n",
      "Evaluating: 100%|███████████████████████████████| 44/44 [00:00<00:00, 58.88it/s]\n",
      "/home/philipslinux/anaconda3/lib/python3.9/site-packages/sklearn/metrics/_classification.py:1334: UndefinedMetricWarning: Precision and F-score are ill-defined and being set to 0.0 in labels with no predicted samples. Use `zero_division` parameter to control this behavior.\n",
      "  _warn_prf(average, modifier, msg_start, len(result))\n",
      "/home/philipslinux/anaconda3/lib/python3.9/site-packages/sklearn/metrics/_classification.py:1334: UndefinedMetricWarning: Precision and F-score are ill-defined and being set to 0.0 in labels with no predicted samples. Use `zero_division` parameter to control this behavior.\n",
      "  _warn_prf(average, modifier, msg_start, len(result))\n",
      "/home/philipslinux/anaconda3/lib/python3.9/site-packages/sklearn/metrics/_classification.py:1334: UndefinedMetricWarning: Precision and F-score are ill-defined and being set to 0.0 in labels with no predicted samples. Use `zero_division` parameter to control this behavior.\n",
      "  _warn_prf(average, modifier, msg_start, len(result))\n"
     ]
    },
    {
     "name": "stdout",
     "output_type": "stream",
     "text": [
      "Train Loss: 2.0204, Train Accuracy: 45.85%, Valid Loss: 105558.8512, Valid Accuracy: 45.45%\n",
      "Phase 1 - Epoch [4/50]\n"
     ]
    },
    {
     "name": "stderr",
     "output_type": "stream",
     "text": [
      "Training: 100%|█████████████████████████████████| 11/11 [00:02<00:00,  3.92it/s]\n",
      "Evaluating: 100%|███████████████████████████████| 44/44 [00:00<00:00, 64.55it/s]\n",
      "/home/philipslinux/anaconda3/lib/python3.9/site-packages/sklearn/metrics/_classification.py:1334: UndefinedMetricWarning: Precision and F-score are ill-defined and being set to 0.0 in labels with no predicted samples. Use `zero_division` parameter to control this behavior.\n",
      "  _warn_prf(average, modifier, msg_start, len(result))\n",
      "/home/philipslinux/anaconda3/lib/python3.9/site-packages/sklearn/metrics/_classification.py:1334: UndefinedMetricWarning: Precision and F-score are ill-defined and being set to 0.0 in labels with no predicted samples. Use `zero_division` parameter to control this behavior.\n",
      "  _warn_prf(average, modifier, msg_start, len(result))\n",
      "/home/philipslinux/anaconda3/lib/python3.9/site-packages/sklearn/metrics/_classification.py:1334: UndefinedMetricWarning: Precision and F-score are ill-defined and being set to 0.0 in labels with no predicted samples. Use `zero_division` parameter to control this behavior.\n",
      "  _warn_prf(average, modifier, msg_start, len(result))\n"
     ]
    },
    {
     "name": "stdout",
     "output_type": "stream",
     "text": [
      "Train Loss: 1.1507, Train Accuracy: 43.90%, Valid Loss: 4140.3580, Valid Accuracy: 45.45%\n",
      "Phase 1 - Epoch [5/50]\n"
     ]
    },
    {
     "name": "stderr",
     "output_type": "stream",
     "text": [
      "Training: 100%|█████████████████████████████████| 11/11 [00:02<00:00,  3.92it/s]\n",
      "Evaluating: 100%|███████████████████████████████| 44/44 [00:00<00:00, 52.19it/s]\n",
      "/home/philipslinux/anaconda3/lib/python3.9/site-packages/sklearn/metrics/_classification.py:1334: UndefinedMetricWarning: Precision and F-score are ill-defined and being set to 0.0 in labels with no predicted samples. Use `zero_division` parameter to control this behavior.\n",
      "  _warn_prf(average, modifier, msg_start, len(result))\n",
      "/home/philipslinux/anaconda3/lib/python3.9/site-packages/sklearn/metrics/_classification.py:1334: UndefinedMetricWarning: Precision and F-score are ill-defined and being set to 0.0 in labels with no predicted samples. Use `zero_division` parameter to control this behavior.\n",
      "  _warn_prf(average, modifier, msg_start, len(result))\n",
      "/home/philipslinux/anaconda3/lib/python3.9/site-packages/sklearn/metrics/_classification.py:1334: UndefinedMetricWarning: Precision and F-score are ill-defined and being set to 0.0 in labels with no predicted samples. Use `zero_division` parameter to control this behavior.\n",
      "  _warn_prf(average, modifier, msg_start, len(result))\n"
     ]
    },
    {
     "name": "stdout",
     "output_type": "stream",
     "text": [
      "Train Loss: 0.8363, Train Accuracy: 45.37%, Valid Loss: 24.9593, Valid Accuracy: 54.55%\n",
      "Phase 1 - Epoch [6/50]\n"
     ]
    },
    {
     "name": "stderr",
     "output_type": "stream",
     "text": [
      "Training: 100%|█████████████████████████████████| 11/11 [00:03<00:00,  3.46it/s]\n",
      "Evaluating: 100%|███████████████████████████████| 44/44 [00:00<00:00, 45.31it/s]\n",
      "/home/philipslinux/anaconda3/lib/python3.9/site-packages/sklearn/metrics/_classification.py:1334: UndefinedMetricWarning: Precision and F-score are ill-defined and being set to 0.0 in labels with no predicted samples. Use `zero_division` parameter to control this behavior.\n",
      "  _warn_prf(average, modifier, msg_start, len(result))\n",
      "/home/philipslinux/anaconda3/lib/python3.9/site-packages/sklearn/metrics/_classification.py:1334: UndefinedMetricWarning: Precision and F-score are ill-defined and being set to 0.0 in labels with no predicted samples. Use `zero_division` parameter to control this behavior.\n",
      "  _warn_prf(average, modifier, msg_start, len(result))\n",
      "/home/philipslinux/anaconda3/lib/python3.9/site-packages/sklearn/metrics/_classification.py:1334: UndefinedMetricWarning: Precision and F-score are ill-defined and being set to 0.0 in labels with no predicted samples. Use `zero_division` parameter to control this behavior.\n",
      "  _warn_prf(average, modifier, msg_start, len(result))\n"
     ]
    },
    {
     "name": "stdout",
     "output_type": "stream",
     "text": [
      "Train Loss: 0.8896, Train Accuracy: 47.80%, Valid Loss: 0.6903, Valid Accuracy: 54.55%\n",
      "Phase 1 - Epoch [7/50]\n"
     ]
    },
    {
     "name": "stderr",
     "output_type": "stream",
     "text": [
      "Training: 100%|█████████████████████████████████| 11/11 [00:02<00:00,  3.88it/s]\n",
      "Evaluating: 100%|███████████████████████████████| 44/44 [00:00<00:00, 58.67it/s]\n",
      "/home/philipslinux/anaconda3/lib/python3.9/site-packages/sklearn/metrics/_classification.py:1334: UndefinedMetricWarning: Precision and F-score are ill-defined and being set to 0.0 in labels with no predicted samples. Use `zero_division` parameter to control this behavior.\n",
      "  _warn_prf(average, modifier, msg_start, len(result))\n",
      "/home/philipslinux/anaconda3/lib/python3.9/site-packages/sklearn/metrics/_classification.py:1334: UndefinedMetricWarning: Precision and F-score are ill-defined and being set to 0.0 in labels with no predicted samples. Use `zero_division` parameter to control this behavior.\n",
      "  _warn_prf(average, modifier, msg_start, len(result))\n",
      "/home/philipslinux/anaconda3/lib/python3.9/site-packages/sklearn/metrics/_classification.py:1334: UndefinedMetricWarning: Precision and F-score are ill-defined and being set to 0.0 in labels with no predicted samples. Use `zero_division` parameter to control this behavior.\n",
      "  _warn_prf(average, modifier, msg_start, len(result))\n"
     ]
    },
    {
     "name": "stdout",
     "output_type": "stream",
     "text": [
      "Train Loss: 0.7341, Train Accuracy: 55.12%, Valid Loss: 0.6864, Valid Accuracy: 54.55%\n",
      "Phase 1 - Epoch [8/50]\n"
     ]
    },
    {
     "name": "stderr",
     "output_type": "stream",
     "text": [
      "Training: 100%|█████████████████████████████████| 11/11 [00:02<00:00,  3.92it/s]\n",
      "Evaluating: 100%|███████████████████████████████| 44/44 [00:01<00:00, 39.70it/s]\n"
     ]
    },
    {
     "name": "stdout",
     "output_type": "stream",
     "text": [
      "Train Loss: 0.7473, Train Accuracy: 61.46%, Valid Loss: 1.6467, Valid Accuracy: 50.00%\n",
      "Phase 1 - Epoch [9/50]\n"
     ]
    },
    {
     "name": "stderr",
     "output_type": "stream",
     "text": [
      "Training: 100%|█████████████████████████████████| 11/11 [00:02<00:00,  3.87it/s]\n",
      "Evaluating: 100%|███████████████████████████████| 44/44 [00:00<00:00, 46.77it/s]\n"
     ]
    },
    {
     "name": "stdout",
     "output_type": "stream",
     "text": [
      "Train Loss: 0.6626, Train Accuracy: 66.83%, Valid Loss: 0.8583, Valid Accuracy: 54.55%\n",
      "Phase 1 - Epoch [10/50]\n"
     ]
    },
    {
     "name": "stderr",
     "output_type": "stream",
     "text": [
      "Training: 100%|█████████████████████████████████| 11/11 [00:02<00:00,  3.84it/s]\n",
      "Evaluating: 100%|███████████████████████████████| 44/44 [00:00<00:00, 64.13it/s]\n"
     ]
    },
    {
     "name": "stdout",
     "output_type": "stream",
     "text": [
      "Train Loss: 0.6702, Train Accuracy: 60.00%, Valid Loss: 0.6995, Valid Accuracy: 54.55%\n",
      "Phase 1 - Epoch [11/50]\n"
     ]
    },
    {
     "name": "stderr",
     "output_type": "stream",
     "text": [
      "Training: 100%|█████████████████████████████████| 11/11 [00:02<00:00,  4.38it/s]\n",
      "Evaluating: 100%|███████████████████████████████| 44/44 [00:00<00:00, 63.60it/s]\n"
     ]
    },
    {
     "name": "stdout",
     "output_type": "stream",
     "text": [
      "Train Loss: 0.6313, Train Accuracy: 68.78%, Valid Loss: 0.6910, Valid Accuracy: 56.82%\n",
      "Best model saved with validation accuracy in phase 1: 56.82%\n",
      "Phase 1 - Epoch [12/50]\n"
     ]
    },
    {
     "name": "stderr",
     "output_type": "stream",
     "text": [
      "Training: 100%|█████████████████████████████████| 11/11 [00:02<00:00,  4.17it/s]\n",
      "Evaluating: 100%|███████████████████████████████| 44/44 [00:00<00:00, 49.15it/s]\n"
     ]
    },
    {
     "name": "stdout",
     "output_type": "stream",
     "text": [
      "Train Loss: 0.6872, Train Accuracy: 64.39%, Valid Loss: 0.6940, Valid Accuracy: 54.55%\n",
      "Phase 1 - Epoch [13/50]\n"
     ]
    },
    {
     "name": "stderr",
     "output_type": "stream",
     "text": [
      "Training: 100%|█████████████████████████████████| 11/11 [00:02<00:00,  4.30it/s]\n",
      "Evaluating: 100%|███████████████████████████████| 44/44 [00:00<00:00, 68.46it/s]\n"
     ]
    },
    {
     "name": "stdout",
     "output_type": "stream",
     "text": [
      "Train Loss: 0.7084, Train Accuracy: 63.41%, Valid Loss: 0.6967, Valid Accuracy: 56.82%\n",
      "Phase 1 - Epoch [14/50]\n"
     ]
    },
    {
     "name": "stderr",
     "output_type": "stream",
     "text": [
      "Training: 100%|█████████████████████████████████| 11/11 [00:02<00:00,  4.38it/s]\n",
      "Evaluating: 100%|███████████████████████████████| 44/44 [00:00<00:00, 67.32it/s]\n"
     ]
    },
    {
     "name": "stdout",
     "output_type": "stream",
     "text": [
      "Train Loss: 0.6428, Train Accuracy: 63.41%, Valid Loss: 0.6781, Valid Accuracy: 52.27%\n",
      "Phase 1 - Epoch [15/50]\n"
     ]
    },
    {
     "name": "stderr",
     "output_type": "stream",
     "text": [
      "Training: 100%|█████████████████████████████████| 11/11 [00:02<00:00,  4.38it/s]\n",
      "Evaluating: 100%|███████████████████████████████| 44/44 [00:00<00:00, 66.47it/s]\n",
      "/home/philipslinux/anaconda3/lib/python3.9/site-packages/sklearn/metrics/_classification.py:1334: UndefinedMetricWarning: Precision and F-score are ill-defined and being set to 0.0 in labels with no predicted samples. Use `zero_division` parameter to control this behavior.\n",
      "  _warn_prf(average, modifier, msg_start, len(result))\n",
      "/home/philipslinux/anaconda3/lib/python3.9/site-packages/sklearn/metrics/_classification.py:1334: UndefinedMetricWarning: Precision and F-score are ill-defined and being set to 0.0 in labels with no predicted samples. Use `zero_division` parameter to control this behavior.\n",
      "  _warn_prf(average, modifier, msg_start, len(result))\n",
      "/home/philipslinux/anaconda3/lib/python3.9/site-packages/sklearn/metrics/_classification.py:1334: UndefinedMetricWarning: Precision and F-score are ill-defined and being set to 0.0 in labels with no predicted samples. Use `zero_division` parameter to control this behavior.\n",
      "  _warn_prf(average, modifier, msg_start, len(result))\n"
     ]
    },
    {
     "name": "stdout",
     "output_type": "stream",
     "text": [
      "Train Loss: 0.6056, Train Accuracy: 68.29%, Valid Loss: 0.8537, Valid Accuracy: 54.55%\n",
      "Phase 1 - Epoch [16/50]\n"
     ]
    },
    {
     "name": "stderr",
     "output_type": "stream",
     "text": [
      "Training: 100%|█████████████████████████████████| 11/11 [00:02<00:00,  4.37it/s]\n",
      "Evaluating: 100%|███████████████████████████████| 44/44 [00:00<00:00, 69.38it/s]\n"
     ]
    },
    {
     "name": "stdout",
     "output_type": "stream",
     "text": [
      "Train Loss: 0.7003, Train Accuracy: 62.44%, Valid Loss: 0.8113, Valid Accuracy: 47.73%\n",
      "Phase 1 - Epoch [17/50]\n"
     ]
    },
    {
     "name": "stderr",
     "output_type": "stream",
     "text": [
      "Training: 100%|█████████████████████████████████| 11/11 [00:02<00:00,  4.35it/s]\n",
      "Evaluating: 100%|███████████████████████████████| 44/44 [00:00<00:00, 64.85it/s]\n"
     ]
    },
    {
     "name": "stdout",
     "output_type": "stream",
     "text": [
      "Train Loss: 0.6540, Train Accuracy: 67.80%, Valid Loss: 0.7037, Valid Accuracy: 56.82%\n",
      "Phase 1 - Epoch [18/50]\n"
     ]
    },
    {
     "name": "stderr",
     "output_type": "stream",
     "text": [
      "Training: 100%|█████████████████████████████████| 11/11 [00:02<00:00,  4.32it/s]\n",
      "Evaluating: 100%|███████████████████████████████| 44/44 [00:00<00:00, 66.73it/s]\n"
     ]
    },
    {
     "name": "stdout",
     "output_type": "stream",
     "text": [
      "Train Loss: 0.6410, Train Accuracy: 60.98%, Valid Loss: 0.7428, Valid Accuracy: 56.82%\n",
      "Phase 1 - Epoch [19/50]\n"
     ]
    },
    {
     "name": "stderr",
     "output_type": "stream",
     "text": [
      "Training: 100%|█████████████████████████████████| 11/11 [00:02<00:00,  4.41it/s]\n",
      "Evaluating: 100%|███████████████████████████████| 44/44 [00:00<00:00, 69.46it/s]\n"
     ]
    },
    {
     "name": "stdout",
     "output_type": "stream",
     "text": [
      "Train Loss: 0.6330, Train Accuracy: 66.34%, Valid Loss: 6.8527, Valid Accuracy: 54.55%\n",
      "Phase 1 - Epoch [20/50]\n"
     ]
    },
    {
     "name": "stderr",
     "output_type": "stream",
     "text": [
      "Training: 100%|█████████████████████████████████| 11/11 [00:02<00:00,  4.33it/s]\n",
      "Evaluating: 100%|███████████████████████████████| 44/44 [00:00<00:00, 68.23it/s]\n"
     ]
    },
    {
     "name": "stdout",
     "output_type": "stream",
     "text": [
      "Train Loss: 0.6316, Train Accuracy: 67.32%, Valid Loss: 0.7768, Valid Accuracy: 56.82%\n",
      "Phase 1 - Epoch [21/50]\n"
     ]
    },
    {
     "name": "stderr",
     "output_type": "stream",
     "text": [
      "Training: 100%|█████████████████████████████████| 11/11 [00:02<00:00,  4.39it/s]\n",
      "Evaluating: 100%|███████████████████████████████| 44/44 [00:00<00:00, 65.22it/s]\n"
     ]
    },
    {
     "name": "stdout",
     "output_type": "stream",
     "text": [
      "Train Loss: 0.6242, Train Accuracy: 68.78%, Valid Loss: 1.6223, Valid Accuracy: 54.55%\n",
      "Phase 1 - Epoch [22/50]\n"
     ]
    },
    {
     "name": "stderr",
     "output_type": "stream",
     "text": [
      "Training: 100%|█████████████████████████████████| 11/11 [00:02<00:00,  4.24it/s]\n",
      "Evaluating: 100%|███████████████████████████████| 44/44 [00:00<00:00, 69.82it/s]\n"
     ]
    },
    {
     "name": "stdout",
     "output_type": "stream",
     "text": [
      "Train Loss: 0.6183, Train Accuracy: 64.88%, Valid Loss: 0.6712, Valid Accuracy: 54.55%\n",
      "Phase 1 - Epoch [23/50]\n"
     ]
    },
    {
     "name": "stderr",
     "output_type": "stream",
     "text": [
      "Training: 100%|█████████████████████████████████| 11/11 [00:02<00:00,  4.41it/s]\n",
      "Evaluating: 100%|███████████████████████████████| 44/44 [00:00<00:00, 67.08it/s]\n"
     ]
    },
    {
     "name": "stdout",
     "output_type": "stream",
     "text": [
      "Train Loss: 0.6365, Train Accuracy: 63.90%, Valid Loss: 0.7464, Valid Accuracy: 56.82%\n",
      "Phase 1 - Epoch [24/50]\n"
     ]
    },
    {
     "name": "stderr",
     "output_type": "stream",
     "text": [
      "Training: 100%|█████████████████████████████████| 11/11 [00:02<00:00,  4.19it/s]\n",
      "Evaluating: 100%|███████████████████████████████| 44/44 [00:00<00:00, 59.06it/s]\n"
     ]
    },
    {
     "name": "stdout",
     "output_type": "stream",
     "text": [
      "Train Loss: 0.6298, Train Accuracy: 66.34%, Valid Loss: 1.2572, Valid Accuracy: 52.27%\n",
      "Phase 1 - Epoch [25/50]\n"
     ]
    },
    {
     "name": "stderr",
     "output_type": "stream",
     "text": [
      "Training: 100%|█████████████████████████████████| 11/11 [00:02<00:00,  4.18it/s]\n",
      "Evaluating: 100%|███████████████████████████████| 44/44 [00:00<00:00, 64.29it/s]\n"
     ]
    },
    {
     "name": "stdout",
     "output_type": "stream",
     "text": [
      "Train Loss: 0.6618, Train Accuracy: 65.37%, Valid Loss: 0.6956, Valid Accuracy: 56.82%\n",
      "Phase 1 - Epoch [26/50]\n"
     ]
    },
    {
     "name": "stderr",
     "output_type": "stream",
     "text": [
      "Training: 100%|█████████████████████████████████| 11/11 [00:02<00:00,  4.36it/s]\n",
      "Evaluating: 100%|███████████████████████████████| 44/44 [00:00<00:00, 64.82it/s]\n"
     ]
    },
    {
     "name": "stdout",
     "output_type": "stream",
     "text": [
      "Train Loss: 0.6060, Train Accuracy: 63.90%, Valid Loss: 0.6827, Valid Accuracy: 56.82%\n",
      "Phase 1 - Epoch [27/50]\n"
     ]
    },
    {
     "name": "stderr",
     "output_type": "stream",
     "text": [
      "Training: 100%|█████████████████████████████████| 11/11 [00:02<00:00,  4.38it/s]\n",
      "Evaluating: 100%|███████████████████████████████| 44/44 [00:00<00:00, 60.10it/s]\n"
     ]
    },
    {
     "name": "stdout",
     "output_type": "stream",
     "text": [
      "Train Loss: 0.6250, Train Accuracy: 60.98%, Valid Loss: 0.8134, Valid Accuracy: 50.00%\n",
      "Phase 1 - Epoch [28/50]\n"
     ]
    },
    {
     "name": "stderr",
     "output_type": "stream",
     "text": [
      "Training: 100%|█████████████████████████████████| 11/11 [00:02<00:00,  4.13it/s]\n",
      "Evaluating: 100%|███████████████████████████████| 44/44 [00:00<00:00, 65.90it/s]\n"
     ]
    },
    {
     "name": "stdout",
     "output_type": "stream",
     "text": [
      "Train Loss: 0.6432, Train Accuracy: 68.78%, Valid Loss: 0.7955, Valid Accuracy: 50.00%\n",
      "Phase 1 - Epoch [29/50]\n"
     ]
    },
    {
     "name": "stderr",
     "output_type": "stream",
     "text": [
      "Training: 100%|█████████████████████████████████| 11/11 [00:02<00:00,  4.42it/s]\n",
      "Evaluating: 100%|███████████████████████████████| 44/44 [00:00<00:00, 72.86it/s]\n"
     ]
    },
    {
     "name": "stdout",
     "output_type": "stream",
     "text": [
      "Train Loss: 0.6455, Train Accuracy: 67.80%, Valid Loss: 0.8169, Valid Accuracy: 59.09%\n",
      "Best model saved with validation accuracy in phase 1: 59.09%\n",
      "Phase 1 - Epoch [30/50]\n"
     ]
    },
    {
     "name": "stderr",
     "output_type": "stream",
     "text": [
      "Training: 100%|█████████████████████████████████| 11/11 [00:02<00:00,  3.70it/s]\n",
      "Evaluating: 100%|███████████████████████████████| 44/44 [00:00<00:00, 68.30it/s]\n"
     ]
    },
    {
     "name": "stdout",
     "output_type": "stream",
     "text": [
      "Train Loss: 0.5906, Train Accuracy: 70.73%, Valid Loss: 0.7183, Valid Accuracy: 54.55%\n",
      "Phase 1 - Epoch [31/50]\n"
     ]
    },
    {
     "name": "stderr",
     "output_type": "stream",
     "text": [
      "Training: 100%|█████████████████████████████████| 11/11 [00:02<00:00,  4.06it/s]\n",
      "Evaluating: 100%|███████████████████████████████| 44/44 [00:00<00:00, 62.77it/s]\n"
     ]
    },
    {
     "name": "stdout",
     "output_type": "stream",
     "text": [
      "Train Loss: 0.5761, Train Accuracy: 70.73%, Valid Loss: 0.6976, Valid Accuracy: 59.09%\n",
      "Phase 1 - Epoch [32/50]\n"
     ]
    },
    {
     "name": "stderr",
     "output_type": "stream",
     "text": [
      "Training: 100%|█████████████████████████████████| 11/11 [00:02<00:00,  4.35it/s]\n",
      "Evaluating: 100%|███████████████████████████████| 44/44 [00:00<00:00, 63.97it/s]\n"
     ]
    },
    {
     "name": "stdout",
     "output_type": "stream",
     "text": [
      "Train Loss: 0.5651, Train Accuracy: 71.22%, Valid Loss: 0.6641, Valid Accuracy: 56.82%\n",
      "Phase 1 - Epoch [33/50]\n"
     ]
    },
    {
     "name": "stderr",
     "output_type": "stream",
     "text": [
      "Training: 100%|█████████████████████████████████| 11/11 [00:02<00:00,  4.38it/s]\n",
      "Evaluating: 100%|███████████████████████████████| 44/44 [00:00<00:00, 65.96it/s]\n"
     ]
    },
    {
     "name": "stdout",
     "output_type": "stream",
     "text": [
      "Train Loss: 0.5993, Train Accuracy: 70.24%, Valid Loss: 394.1845, Valid Accuracy: 47.73%\n",
      "Phase 1 - Epoch [34/50]\n"
     ]
    },
    {
     "name": "stderr",
     "output_type": "stream",
     "text": [
      "Training: 100%|█████████████████████████████████| 11/11 [00:02<00:00,  4.36it/s]\n",
      "Evaluating: 100%|███████████████████████████████| 44/44 [00:00<00:00, 65.67it/s]\n"
     ]
    },
    {
     "name": "stdout",
     "output_type": "stream",
     "text": [
      "Train Loss: 0.6060, Train Accuracy: 70.24%, Valid Loss: 2.7497, Valid Accuracy: 56.82%\n",
      "Phase 1 - Epoch [35/50]\n"
     ]
    },
    {
     "name": "stderr",
     "output_type": "stream",
     "text": [
      "Training: 100%|█████████████████████████████████| 11/11 [00:02<00:00,  4.41it/s]\n",
      "Evaluating: 100%|███████████████████████████████| 44/44 [00:00<00:00, 64.91it/s]\n"
     ]
    },
    {
     "name": "stdout",
     "output_type": "stream",
     "text": [
      "Train Loss: 0.5932, Train Accuracy: 70.73%, Valid Loss: 0.6777, Valid Accuracy: 61.36%\n",
      "Best model saved with validation accuracy in phase 1: 61.36%\n",
      "Phase 1 - Epoch [36/50]\n"
     ]
    },
    {
     "name": "stderr",
     "output_type": "stream",
     "text": [
      "Training: 100%|█████████████████████████████████| 11/11 [00:02<00:00,  3.80it/s]\n",
      "Evaluating: 100%|███████████████████████████████| 44/44 [00:00<00:00, 64.72it/s]\n",
      "/home/philipslinux/anaconda3/lib/python3.9/site-packages/sklearn/metrics/_classification.py:1334: UndefinedMetricWarning: Precision and F-score are ill-defined and being set to 0.0 in labels with no predicted samples. Use `zero_division` parameter to control this behavior.\n",
      "  _warn_prf(average, modifier, msg_start, len(result))\n",
      "/home/philipslinux/anaconda3/lib/python3.9/site-packages/sklearn/metrics/_classification.py:1334: UndefinedMetricWarning: Precision and F-score are ill-defined and being set to 0.0 in labels with no predicted samples. Use `zero_division` parameter to control this behavior.\n",
      "  _warn_prf(average, modifier, msg_start, len(result))\n",
      "/home/philipslinux/anaconda3/lib/python3.9/site-packages/sklearn/metrics/_classification.py:1334: UndefinedMetricWarning: Precision and F-score are ill-defined and being set to 0.0 in labels with no predicted samples. Use `zero_division` parameter to control this behavior.\n",
      "  _warn_prf(average, modifier, msg_start, len(result))\n"
     ]
    },
    {
     "name": "stdout",
     "output_type": "stream",
     "text": [
      "Train Loss: 0.5767, Train Accuracy: 77.07%, Valid Loss: 0.9193, Valid Accuracy: 54.55%\n",
      "Phase 1 - Epoch [37/50]\n"
     ]
    },
    {
     "name": "stderr",
     "output_type": "stream",
     "text": [
      "Training: 100%|█████████████████████████████████| 11/11 [00:02<00:00,  4.31it/s]\n",
      "Evaluating: 100%|███████████████████████████████| 44/44 [00:00<00:00, 68.84it/s]\n"
     ]
    },
    {
     "name": "stdout",
     "output_type": "stream",
     "text": [
      "Train Loss: 0.6214, Train Accuracy: 64.39%, Valid Loss: 0.5179, Valid Accuracy: 72.73%\n",
      "Best model saved with validation accuracy in phase 1: 72.73%\n",
      "Phase 1 - Epoch [38/50]\n"
     ]
    },
    {
     "name": "stderr",
     "output_type": "stream",
     "text": [
      "Training: 100%|█████████████████████████████████| 11/11 [00:02<00:00,  3.97it/s]\n",
      "Evaluating: 100%|███████████████████████████████| 44/44 [00:00<00:00, 65.73it/s]\n"
     ]
    },
    {
     "name": "stdout",
     "output_type": "stream",
     "text": [
      "Train Loss: 0.5928, Train Accuracy: 72.20%, Valid Loss: 0.7004, Valid Accuracy: 52.27%\n",
      "Phase 1 - Epoch [39/50]\n"
     ]
    },
    {
     "name": "stderr",
     "output_type": "stream",
     "text": [
      "Training: 100%|█████████████████████████████████| 11/11 [00:02<00:00,  4.42it/s]\n",
      "Evaluating: 100%|███████████████████████████████| 44/44 [00:00<00:00, 66.14it/s]\n",
      "/home/philipslinux/anaconda3/lib/python3.9/site-packages/sklearn/metrics/_classification.py:1334: UndefinedMetricWarning: Precision and F-score are ill-defined and being set to 0.0 in labels with no predicted samples. Use `zero_division` parameter to control this behavior.\n",
      "  _warn_prf(average, modifier, msg_start, len(result))\n",
      "/home/philipslinux/anaconda3/lib/python3.9/site-packages/sklearn/metrics/_classification.py:1334: UndefinedMetricWarning: Precision and F-score are ill-defined and being set to 0.0 in labels with no predicted samples. Use `zero_division` parameter to control this behavior.\n",
      "  _warn_prf(average, modifier, msg_start, len(result))\n",
      "/home/philipslinux/anaconda3/lib/python3.9/site-packages/sklearn/metrics/_classification.py:1334: UndefinedMetricWarning: Precision and F-score are ill-defined and being set to 0.0 in labels with no predicted samples. Use `zero_division` parameter to control this behavior.\n",
      "  _warn_prf(average, modifier, msg_start, len(result))\n"
     ]
    },
    {
     "name": "stdout",
     "output_type": "stream",
     "text": [
      "Train Loss: 0.5674, Train Accuracy: 74.63%, Valid Loss: 0.7758, Valid Accuracy: 45.45%\n",
      "Phase 1 - Epoch [40/50]\n"
     ]
    },
    {
     "name": "stderr",
     "output_type": "stream",
     "text": [
      "Training: 100%|█████████████████████████████████| 11/11 [00:02<00:00,  4.33it/s]\n",
      "Evaluating: 100%|███████████████████████████████| 44/44 [00:00<00:00, 63.95it/s]\n"
     ]
    },
    {
     "name": "stdout",
     "output_type": "stream",
     "text": [
      "Train Loss: 0.5914, Train Accuracy: 70.24%, Valid Loss: 0.5890, Valid Accuracy: 63.64%\n",
      "Phase 1 - Epoch [41/50]\n"
     ]
    },
    {
     "name": "stderr",
     "output_type": "stream",
     "text": [
      "Training: 100%|█████████████████████████████████| 11/11 [00:02<00:00,  4.36it/s]\n",
      "Evaluating: 100%|███████████████████████████████| 44/44 [00:00<00:00, 67.27it/s]\n"
     ]
    },
    {
     "name": "stdout",
     "output_type": "stream",
     "text": [
      "Train Loss: 0.5404, Train Accuracy: 75.61%, Valid Loss: 0.6183, Valid Accuracy: 65.91%\n",
      "Phase 1 - Epoch [42/50]\n"
     ]
    },
    {
     "name": "stderr",
     "output_type": "stream",
     "text": [
      "Training: 100%|█████████████████████████████████| 11/11 [00:02<00:00,  4.40it/s]\n",
      "Evaluating: 100%|███████████████████████████████| 44/44 [00:00<00:00, 63.48it/s]\n"
     ]
    },
    {
     "name": "stdout",
     "output_type": "stream",
     "text": [
      "Train Loss: 0.5010, Train Accuracy: 80.00%, Valid Loss: 0.5646, Valid Accuracy: 68.18%\n",
      "Phase 1 - Epoch [43/50]\n"
     ]
    },
    {
     "name": "stderr",
     "output_type": "stream",
     "text": [
      "Training: 100%|█████████████████████████████████| 11/11 [00:02<00:00,  4.35it/s]\n",
      "Evaluating: 100%|███████████████████████████████| 44/44 [00:00<00:00, 64.83it/s]\n",
      "/home/philipslinux/anaconda3/lib/python3.9/site-packages/sklearn/metrics/_classification.py:1334: UndefinedMetricWarning: Precision and F-score are ill-defined and being set to 0.0 in labels with no predicted samples. Use `zero_division` parameter to control this behavior.\n",
      "  _warn_prf(average, modifier, msg_start, len(result))\n",
      "/home/philipslinux/anaconda3/lib/python3.9/site-packages/sklearn/metrics/_classification.py:1334: UndefinedMetricWarning: Precision and F-score are ill-defined and being set to 0.0 in labels with no predicted samples. Use `zero_division` parameter to control this behavior.\n",
      "  _warn_prf(average, modifier, msg_start, len(result))\n",
      "/home/philipslinux/anaconda3/lib/python3.9/site-packages/sklearn/metrics/_classification.py:1334: UndefinedMetricWarning: Precision and F-score are ill-defined and being set to 0.0 in labels with no predicted samples. Use `zero_division` parameter to control this behavior.\n",
      "  _warn_prf(average, modifier, msg_start, len(result))\n"
     ]
    },
    {
     "name": "stdout",
     "output_type": "stream",
     "text": [
      "Train Loss: 0.4958, Train Accuracy: 75.12%, Valid Loss: 257.2996, Valid Accuracy: 54.55%\n",
      "Phase 1 - Epoch [44/50]\n"
     ]
    },
    {
     "name": "stderr",
     "output_type": "stream",
     "text": [
      "Training: 100%|█████████████████████████████████| 11/11 [00:02<00:00,  4.35it/s]\n",
      "Evaluating: 100%|███████████████████████████████| 44/44 [00:00<00:00, 70.19it/s]\n"
     ]
    },
    {
     "name": "stdout",
     "output_type": "stream",
     "text": [
      "Train Loss: 0.4779, Train Accuracy: 79.51%, Valid Loss: 0.4604, Valid Accuracy: 86.36%\n",
      "Best model saved with validation accuracy in phase 1: 86.36%\n",
      "Phase 1 - Epoch [45/50]\n"
     ]
    },
    {
     "name": "stderr",
     "output_type": "stream",
     "text": [
      "Training: 100%|█████████████████████████████████| 11/11 [00:02<00:00,  3.81it/s]\n",
      "Evaluating: 100%|███████████████████████████████| 44/44 [00:00<00:00, 69.57it/s]\n"
     ]
    },
    {
     "name": "stdout",
     "output_type": "stream",
     "text": [
      "Train Loss: 0.4335, Train Accuracy: 81.46%, Valid Loss: 0.4773, Valid Accuracy: 72.73%\n",
      "Phase 1 - Epoch [46/50]\n"
     ]
    },
    {
     "name": "stderr",
     "output_type": "stream",
     "text": [
      "Training: 100%|█████████████████████████████████| 11/11 [00:02<00:00,  4.39it/s]\n",
      "Evaluating: 100%|███████████████████████████████| 44/44 [00:00<00:00, 66.86it/s]\n"
     ]
    },
    {
     "name": "stdout",
     "output_type": "stream",
     "text": [
      "Train Loss: 0.5705, Train Accuracy: 77.56%, Valid Loss: 0.7982, Valid Accuracy: 52.27%\n",
      "Phase 1 - Epoch [47/50]\n"
     ]
    },
    {
     "name": "stderr",
     "output_type": "stream",
     "text": [
      "Training: 100%|█████████████████████████████████| 11/11 [00:02<00:00,  3.76it/s]\n",
      "Evaluating: 100%|███████████████████████████████| 44/44 [00:00<00:00, 66.64it/s]\n"
     ]
    },
    {
     "name": "stdout",
     "output_type": "stream",
     "text": [
      "Train Loss: 0.6204, Train Accuracy: 73.17%, Valid Loss: 0.7103, Valid Accuracy: 50.00%\n",
      "Phase 1 - Epoch [48/50]\n"
     ]
    },
    {
     "name": "stderr",
     "output_type": "stream",
     "text": [
      "Training: 100%|█████████████████████████████████| 11/11 [00:02<00:00,  3.92it/s]\n",
      "Evaluating: 100%|███████████████████████████████| 44/44 [00:00<00:00, 65.28it/s]\n",
      "/home/philipslinux/anaconda3/lib/python3.9/site-packages/sklearn/metrics/_classification.py:1334: UndefinedMetricWarning: Precision and F-score are ill-defined and being set to 0.0 in labels with no predicted samples. Use `zero_division` parameter to control this behavior.\n",
      "  _warn_prf(average, modifier, msg_start, len(result))\n",
      "/home/philipslinux/anaconda3/lib/python3.9/site-packages/sklearn/metrics/_classification.py:1334: UndefinedMetricWarning: Precision and F-score are ill-defined and being set to 0.0 in labels with no predicted samples. Use `zero_division` parameter to control this behavior.\n",
      "  _warn_prf(average, modifier, msg_start, len(result))\n",
      "/home/philipslinux/anaconda3/lib/python3.9/site-packages/sklearn/metrics/_classification.py:1334: UndefinedMetricWarning: Precision and F-score are ill-defined and being set to 0.0 in labels with no predicted samples. Use `zero_division` parameter to control this behavior.\n",
      "  _warn_prf(average, modifier, msg_start, len(result))\n"
     ]
    },
    {
     "name": "stdout",
     "output_type": "stream",
     "text": [
      "Train Loss: 0.5647, Train Accuracy: 73.17%, Valid Loss: 3.3158, Valid Accuracy: 45.45%\n",
      "Phase 1 - Epoch [49/50]\n"
     ]
    },
    {
     "name": "stderr",
     "output_type": "stream",
     "text": [
      "Training: 100%|█████████████████████████████████| 11/11 [00:02<00:00,  4.28it/s]\n",
      "Evaluating: 100%|███████████████████████████████| 44/44 [00:00<00:00, 67.71it/s]\n",
      "/home/philipslinux/anaconda3/lib/python3.9/site-packages/sklearn/metrics/_classification.py:1334: UndefinedMetricWarning: Precision and F-score are ill-defined and being set to 0.0 in labels with no predicted samples. Use `zero_division` parameter to control this behavior.\n",
      "  _warn_prf(average, modifier, msg_start, len(result))\n",
      "/home/philipslinux/anaconda3/lib/python3.9/site-packages/sklearn/metrics/_classification.py:1334: UndefinedMetricWarning: Precision and F-score are ill-defined and being set to 0.0 in labels with no predicted samples. Use `zero_division` parameter to control this behavior.\n",
      "  _warn_prf(average, modifier, msg_start, len(result))\n",
      "/home/philipslinux/anaconda3/lib/python3.9/site-packages/sklearn/metrics/_classification.py:1334: UndefinedMetricWarning: Precision and F-score are ill-defined and being set to 0.0 in labels with no predicted samples. Use `zero_division` parameter to control this behavior.\n",
      "  _warn_prf(average, modifier, msg_start, len(result))\n"
     ]
    },
    {
     "name": "stdout",
     "output_type": "stream",
     "text": [
      "Train Loss: 0.5145, Train Accuracy: 77.07%, Valid Loss: 1.3391, Valid Accuracy: 45.45%\n",
      "Phase 1 - Epoch [50/50]\n"
     ]
    },
    {
     "name": "stderr",
     "output_type": "stream",
     "text": [
      "Training: 100%|█████████████████████████████████| 11/11 [00:02<00:00,  4.24it/s]\n",
      "Evaluating: 100%|███████████████████████████████| 44/44 [00:00<00:00, 66.39it/s]\n",
      "/tmp/ipykernel_2343305/2614015246.py:164: FutureWarning: You are using `torch.load` with `weights_only=False` (the current default value), which uses the default pickle module implicitly. It is possible to construct malicious pickle data which will execute arbitrary code during unpickling (See https://github.com/pytorch/pytorch/blob/main/SECURITY.md#untrusted-models for more details). In a future release, the default value for `weights_only` will be flipped to `True`. This limits the functions that could be executed during unpickling. Arbitrary objects will no longer be allowed to be loaded via this mode unless they are explicitly allowlisted by the user via `torch.serialization.add_safe_globals`. We recommend you start setting `weights_only=True` for any use case where you don't have full control of the loaded file. Please open an issue on GitHub for any issues related to this experimental feature.\n",
      "  model.load_state_dict(torch.load(best_model_path_p1))\n"
     ]
    },
    {
     "name": "stdout",
     "output_type": "stream",
     "text": [
      "Train Loss: 0.5398, Train Accuracy: 72.20%, Valid Loss: 0.7340, Valid Accuracy: 40.91%\n",
      "Loading the best model for Phase 2...\n",
      "Starting Phase 2...\n",
      "Phase 2 - Epoch [1/5]\n"
     ]
    },
    {
     "name": "stderr",
     "output_type": "stream",
     "text": [
      "Training: 100%|█████████████████████████████████| 11/11 [00:02<00:00,  4.32it/s]\n",
      "Evaluating: 100%|███████████████████████████████| 44/44 [00:00<00:00, 67.81it/s]\n"
     ]
    },
    {
     "name": "stdout",
     "output_type": "stream",
     "text": [
      "Train Loss: 0.4282, Train Accuracy: 81.46%, Valid Loss: 0.6140, Valid Accuracy: 88.64%\n",
      "Best model saved with validation accuracy phase2: 88.64%\n",
      "Last model phase 2 saved : 88.64%\n",
      "Phase 2 - Epoch [2/5]\n"
     ]
    },
    {
     "name": "stderr",
     "output_type": "stream",
     "text": [
      "Training: 100%|█████████████████████████████████| 11/11 [00:02<00:00,  3.80it/s]\n",
      "Evaluating: 100%|███████████████████████████████| 44/44 [00:00<00:00, 66.26it/s]\n"
     ]
    },
    {
     "name": "stdout",
     "output_type": "stream",
     "text": [
      "Train Loss: 0.4189, Train Accuracy: 80.49%, Valid Loss: 1.3628, Valid Accuracy: 84.09%\n",
      "Last model phase 2 saved : 84.09%\n",
      "Phase 2 - Epoch [3/5]\n"
     ]
    },
    {
     "name": "stderr",
     "output_type": "stream",
     "text": [
      "Training: 100%|█████████████████████████████████| 11/11 [00:02<00:00,  4.16it/s]\n",
      "Evaluating: 100%|███████████████████████████████| 44/44 [00:00<00:00, 68.19it/s]\n"
     ]
    },
    {
     "name": "stdout",
     "output_type": "stream",
     "text": [
      "Train Loss: 0.4297, Train Accuracy: 80.98%, Valid Loss: 0.5892, Valid Accuracy: 88.64%\n",
      "Last model phase 2 saved : 88.64%\n",
      "Phase 2 - Epoch [4/5]\n"
     ]
    },
    {
     "name": "stderr",
     "output_type": "stream",
     "text": [
      "Training: 100%|█████████████████████████████████| 11/11 [00:02<00:00,  3.88it/s]\n",
      "Evaluating: 100%|███████████████████████████████| 44/44 [00:00<00:00, 64.81it/s]\n"
     ]
    },
    {
     "name": "stdout",
     "output_type": "stream",
     "text": [
      "Train Loss: 0.4369, Train Accuracy: 79.02%, Valid Loss: 0.6734, Valid Accuracy: 86.36%\n",
      "Last model phase 2 saved : 86.36%\n",
      "Phase 2 - Epoch [5/5]\n"
     ]
    },
    {
     "name": "stderr",
     "output_type": "stream",
     "text": [
      "Training: 100%|█████████████████████████████████| 11/11 [00:02<00:00,  4.13it/s]\n",
      "Evaluating: 100%|███████████████████████████████| 44/44 [00:00<00:00, 69.61it/s]\n"
     ]
    },
    {
     "name": "stdout",
     "output_type": "stream",
     "text": [
      "Train Loss: 0.4352, Train Accuracy: 80.00%, Valid Loss: 0.7013, Valid Accuracy: 88.64%\n",
      "Last model phase 2 saved : 88.64%\n"
     ]
    },
    {
     "data": {
      "image/png": "[encoded data removed]",
      "text/plain": [
       "<Figure size 1500x1000 with 3 Axes>"
      ]
     },
     "metadata": {},
     "output_type": "display_data"
    }
   ],
   "source": [
    "import os\n",
    "import torch\n",
    "import torch.nn as nn\n",
    "import torch.optim as optim\n",
    "from torch.utils.data import DataLoader\n",
    "from torchvision import datasets, transforms\n",
    "from sklearn.metrics import classification_report\n",
    "import numpy as np\n",
    "import matplotlib.pyplot as plt\n",
    "from tqdm import tqdm\n",
    "from torchvision import transforms, models, datasets\n",
    "# Parameters\n",
    "train_ratio = 1\n",
    "batch_size = 20\n",
    "num_epochs_phase1 = 50\n",
    "num_epochs_phase2 = 5\n",
    "lr = 0.0001\n",
    "ss=1\n",
    "g=0.01\n",
    "best_model_path_p1 = \"./checkpoints/best_model_res152_dif_p1.pth\"\n",
    "best_model_path_p2 = \"./checkpoints/best_model_res152_dif_p2.pth\"\n",
    "last_model_path_p2 = \"./checkpoints/last_model_res152_dif_p2.pth\"\n",
    "loss_weight_main, loss_weight_aux = 0.9, 0.1\n",
    "transform = transforms.Compose([\n",
    "    transforms.Resize((224, 224)),\n",
    "    transforms.ToTensor(),\n",
    "    transforms.Normalize(mean=[0.485, 0.456, 0.406], std=[0.229, 0.224, 0.225])\n",
    "])\n",
    "train_set = datasets.ImageFolder(root=\"./syn_vision_dataset/train\", transform=transform)\n",
    "total_samples = len(train_set)\n",
    "train_samples = int(train_ratio * total_samples)\n",
    "val_samples = total_samples - train_samples\n",
    "train_data, valid_data = torch.utils.data.random_split(train_set, [train_samples, val_samples])\n",
    "train_loader = DataLoader(train_data, batch_size=batch_size, shuffle=True)\n",
    "val_dataset = datasets.ImageFolder(root=\"./syn_vision_dataset/val\", transform=transform)\n",
    "valid_loader = DataLoader(val_dataset, batch_size=1, shuffle=False)\n",
    "class Network(nn.Module):\n",
    "    def __init__(self, num_classes=10):\n",
    "        super(Network, self).__init__()\n",
    "        self.backbone1 = models.resnet152(pretrained=True)\n",
    "        self.feature_extractor1 = nn.Sequential(*list(self.backbone1.children())[:-2])\n",
    "        self.feature_extractor2 = nn.Sequential(*list(self.backbone1.children())[:-50])\n",
    "        self.feature_extractor3 = nn.Sequential(*list(self.backbone1.children())[:-100])\n",
    "        self.global_pool = nn.AdaptiveAvgPool2d(1)\n",
    "        self.local_pool = nn.AdaptiveAvgPool2d((4, 4))\n",
    "        self.fc1 = nn.Linear(34816, 256)\n",
    "        self.fc2 = nn.Linear(51, 256)\n",
    "        self.fc3 = nn.Linear(51, 256)\n",
    "        self.fc_out1 = nn.Linear(256, num_classes)\n",
    "        self.fc_out2 = nn.Linear(256, num_classes)\n",
    "        self.fc_out3 = nn.Linear(256, num_classes)\n",
    "        self.fc_out_final = nn.Linear(6, num_classes)\n",
    "    def forward(self, x):\n",
    "        features1 = self.feature_extractor1(x)\n",
    "        global_features1 = self.global_pool(features1).view(x.size(0), -1)\n",
    "        local_features1 = self.local_pool(features1).view(x.size(0), -1)\n",
    "        combined_features1 = torch.cat((global_features1, local_features1), dim=1)\n",
    "        features2 = self.feature_extractor2(x)\n",
    "        global_features2 = self.global_pool(features2).view(x.size(0), -1)\n",
    "        local_features2 = self.local_pool(features2).view(x.size(0), -1)\n",
    "        combined_features2 = torch.cat((global_features2, local_features2), dim=1)\n",
    "        features3 = self.feature_extractor3(x)\n",
    "        global_features3 = self.global_pool(features3).view(x.size(0), -1)\n",
    "        local_features3 = self.local_pool(features3).view(x.size(0), -1)\n",
    "        combined_features3 = torch.cat((global_features3, local_features3), dim=1)\n",
    "        out1 = self.fc_out1(self.fc1(combined_features1))\n",
    "        out2 = self.fc_out2(self.fc2(combined_features2))\n",
    "        out3 = self.fc_out3(self.fc3(combined_features3))\n",
    "        out_cat = torch.cat((out1, out2, out3), dim=1)\n",
    "        final_out = self.fc_out_final(out_cat)\n",
    "        return final_out, out1, out2, out3\n",
    "def train_one_epoch(model, optimizer, criterion_main, criterion_aux, train_loader, device):\n",
    "    model.train()\n",
    "    total_loss = 0.0\n",
    "    total_correct = 0\n",
    "    total_samples = 0\n",
    "    for images, labels in tqdm(train_loader, desc=\"Training\", leave=True):\n",
    "        images, labels = images.to(device), labels.to(device)\n",
    "        optimizer.zero_grad()\n",
    "        outputs, out1, out2, out3 = model(images)\n",
    "        loss_main = criterion_main(outputs, labels)\n",
    "        loss_aux = (criterion_aux(out1, labels) + criterion_aux(out2, labels) + criterion_aux(out3, labels)) / 3\n",
    "        loss = loss_weight_main * loss_main + loss_weight_aux * loss_aux\n",
    "        loss.backward()\n",
    "        optimizer.step()\n",
    "        total_loss += loss.item()\n",
    "        _, predicted = torch.max(outputs, 1)\n",
    "        total_correct += (predicted == labels).sum().item()\n",
    "        total_samples += labels.size(0)\n",
    "    avg_loss = total_loss / len(train_loader)\n",
    "    accuracy = total_correct / total_samples * 100\n",
    "    return avg_loss, accuracy\n",
    "def evaluate(model, criterion_main, valid_loader, device):\n",
    "    model.eval()\n",
    "    total_loss = 0.0\n",
    "    total_correct = 0\n",
    "    total_samples = 0\n",
    "    all_labels = []\n",
    "    all_preds = []\n",
    "    with torch.no_grad():\n",
    "        for images, labels in tqdm(valid_loader, desc=\"Evaluating\", leave=True):\n",
    "            images, labels = images.to(device), labels.to(device)\n",
    "            outputs, _, _, _ = model(images)\n",
    "            loss = criterion_main(outputs, labels)\n",
    "            total_loss += loss.item()\n",
    "            _, predicted = torch.max(outputs, 1)\n",
    "            all_labels.extend(labels.cpu().numpy())\n",
    "            all_preds.extend(predicted.cpu().numpy())\n",
    "            total_correct += (predicted == labels).sum().item()\n",
    "            total_samples += labels.size(0)\n",
    "    avg_loss = total_loss / len(valid_loader)\n",
    "    accuracy = total_correct / total_samples * 100\n",
    "    report = classification_report(all_labels, all_preds, target_names=train_set.classes, output_dict=True)\n",
    "    return avg_loss, accuracy, report\n",
    "device = torch.device(\"cuda\" if torch.cuda.is_available() else \"cpu\")\n",
    "model = Network(num_classes=2).to(device)\n",
    "criterion_main = nn.CrossEntropyLoss()\n",
    "criterion_aux = nn.CrossEntropyLoss()\n",
    "optimizer = optim.RMSprop(model.parameters(), lr=lr, momentum=0.8)\n",
    "best_valid_acc = 0.0\n",
    "train_losses_phase1, train_accuracies_phase1, valid_losses_phase1, valid_accuracies_phase1 = [], [], [], []\n",
    "train_losses_phase2, train_accuracies_phase2, valid_losses_phase2, valid_accuracies_phase2 = [], [], [], []\n",
    "learning_rates_phase1, learning_rates_phase2 = [], []\n",
    "print(\"Starting Phase 1...\")\n",
    "for epoch in range(num_epochs_phase1):\n",
    "    print(f\"Phase 1 - Epoch [{epoch + 1}/{num_epochs_phase1}]\")\n",
    "    train_loss, train_acc = train_one_epoch(model, optimizer, criterion_main, criterion_aux, train_loader, device)\n",
    "    valid_loss, valid_acc, _ = evaluate(model, criterion_main, valid_loader, device)\n",
    "    train_losses_phase1.append(train_loss)\n",
    "    train_accuracies_phase1.append(train_acc)\n",
    "    valid_losses_phase1.append(valid_loss)\n",
    "    valid_accuracies_phase1.append(valid_acc)\n",
    "    learning_rates_phase1.append(optimizer.param_groups[0]['lr']) \n",
    "    print(f\"Train Loss: {train_loss:.4f}, Train Accuracy: {train_acc:.2f}%, \"\n",
    "          f\"Valid Loss: {valid_loss:.4f}, Valid Accuracy: {valid_acc:.2f}%\")\n",
    "    if valid_acc > best_valid_acc:\n",
    "        best_valid_acc = valid_acc\n",
    "        torch.save(model.state_dict(), best_model_path_p1)\n",
    "        print(f\"Best model saved with validation accuracy in phase 1: {valid_acc:.2f}%\")\n",
    "best_valid_acc = 0.0\n",
    "print(\"Loading the best model for Phase 2...\")\n",
    "model.load_state_dict(torch.load(best_model_path_p1))\n",
    "optimizer = optim.RMSprop(model.parameters(), lr=lr / 1000, momentum=0.8)\n",
    "scheduler = torch.optim.lr_scheduler.StepLR(optimizer, step_size=ss, gamma=g)\n",
    "print(\"Starting Phase 2...\")\n",
    "for epoch in range(num_epochs_phase2):\n",
    "    print(f\"Phase 2 - Epoch [{epoch + 1}/{num_epochs_phase2}]\")\n",
    "    train_loss, train_acc = train_one_epoch(model, optimizer, criterion_main, criterion_aux, train_loader, device)\n",
    "    valid_loss, valid_acc, _ = evaluate(model, criterion_main, valid_loader, device)\n",
    "    train_losses_phase2.append(train_loss)\n",
    "    train_accuracies_phase2.append(train_acc)\n",
    "    valid_losses_phase2.append(valid_loss)\n",
    "    valid_accuracies_phase2.append(valid_acc)\n",
    "    learning_rates_phase2.append(optimizer.param_groups[0]['lr'])  \n",
    "    print(f\"Train Loss: {train_loss:.4f}, Train Accuracy: {train_acc:.2f}%, \"\n",
    "          f\"Valid Loss: {valid_loss:.4f}, Valid Accuracy: {valid_acc:.2f}%\")\n",
    "    if valid_acc > best_valid_acc:\n",
    "        best_valid_acc = valid_acc\n",
    "        torch.save(model.state_dict(), best_model_path_p2)\n",
    "        print(f\"Best model saved with validation accuracy phase2: {valid_acc:.2f}%\")\n",
    "    torch.save(model.state_dict(), last_model_path_p2)\n",
    "    print(f\"Last model phase 2 saved : {valid_acc:.2f}%\")\n",
    "    scheduler.step()\n",
    "train_losses = train_losses_phase1 + train_losses_phase2\n",
    "train_accuracies = train_accuracies_phase1 + train_accuracies_phase2\n",
    "valid_losses = valid_losses_phase1 + valid_losses_phase2\n",
    "valid_accuracies = valid_accuracies_phase1 + valid_accuracies_phase2\n",
    "learning_rates = learning_rates_phase1 + learning_rates_phase2\n",
    "plt.figure(figsize=(15, 10))\n",
    "plt.subplot(3, 1, 1)\n",
    "plt.plot(range(1, len(train_losses) + 1), train_losses, label=\"Train Loss\")\n",
    "plt.plot(range(1, len(valid_losses) + 1), valid_losses, label=\"Validation Loss\")\n",
    "plt.axvline(x=num_epochs_phase1, color='r', linestyle='--', label=\"Phase 1 End\")\n",
    "plt.title(\"Loss vs Epochs\")\n",
    "plt.xlabel(\"Epochs\")\n",
    "plt.ylabel(\"Loss\")\n",
    "plt.legend()\n",
    "plt.subplot(3, 1, 2)\n",
    "plt.plot(range(1, len(train_accuracies) + 1), train_accuracies, label=\"Train Accuracy\")\n",
    "plt.plot(range(1, len(valid_accuracies) + 1), valid_accuracies, label=\"Validation Accuracy\")\n",
    "plt.axvline(x=num_epochs_phase1, color='r', linestyle='--', label=\"Phase 1 End\")\n",
    "plt.title(\"Accuracy vs Epochs\")\n",
    "plt.xlabel(\"Epochs\")\n",
    "plt.ylabel(\"Accuracy (%)\")\n",
    "plt.legend()\n",
    "plt.subplot(3, 1, 3)\n",
    "plt.plot(range(1, len(learning_rates) + 1), learning_rates, label=\"Learning Rate\")\n",
    "plt.axvline(x=num_epochs_phase1, color='r', linestyle='--', label=\"Phase 1 End\")\n",
    "plt.title(\"Learning Rate vs Epochs\")\n",
    "plt.xlabel(\"Epochs\")\n",
    "plt.ylabel(\"Learning Rate\")\n",
    "plt.legend()\n",
    "plt.tight_layout()\n",
    "plt.show()"
   ]
  },
  {
   "cell_type": "code",
   "execution_count": null,
   "id": "5009f2cf",
   "metadata": {},
   "outputs": [],
   "source": []
  }
 ],
 "metadata": {
  "kernelspec": {
   "display_name": "Python 3 (ipykernel)",
   "language": "python",
   "name": "python3"
  },
  "language_info": {
   "codemirror_mode": {
    "name": "ipython",
    "version": 3
   },
   "file_extension": ".py",
   "mimetype": "text/x-python",
   "name": "python",
   "nbconvert_exporter": "python",
   "pygments_lexer": "ipython3",
   "version": "3.10.9"
  }
 },
 "nbformat": 4,
 "nbformat_minor": 5
}
