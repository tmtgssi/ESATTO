{
 "cells": [
  {
   "cell_type": "code",
   "execution_count": 1,
   "id": "bcb60570",
   "metadata": {},
   "outputs": [
    {
     "name": "stdout",
     "output_type": "stream",
     "text": [
      "Dataset split completed:\n",
      "Training set: 205 rows saved to ./tabular_dataset/train.csv\n",
      "Validation set: 44 rows saved to ./tabular_dataset/val.csv\n",
      "Test set: 44 rows saved to ./tabular_dataset/test.csv\n"
     ]
    }
   ],
   "source": [
    "import pandas as pd\n",
    "from sklearn.model_selection import train_test_split\n",
    "def split_csv(input_csv, output_train, output_val, output_test, train_size=0.7, val_size=0.15, test_size=0.15, random_state=None):\n",
    "    if train_size + val_size + test_size != 1.0:\n",
    "        raise ValueError(\"The sum of train_size, val_size, and test_size must equal 1.0\")\n",
    "    df = pd.read_csv(input_csv)\n",
    "    train_df, temp_df = train_test_split(df, test_size=(val_size + test_size), random_state=random_state)\n",
    "    temp_val_size = val_size / (val_size + test_size)\n",
    "    val_df, test_df = train_test_split(temp_df, test_size=(1 - temp_val_size), random_state=random_state)\n",
    "    train_df.to_csv(output_train, index=False)\n",
    "    val_df.to_csv(output_val, index=False)\n",
    "    test_df.to_csv(output_test, index=False)\n",
    "    print(f\"Dataset split completed:\")\n",
    "    print(f\"Training set: {len(train_df)} rows saved to {output_train}\")\n",
    "    print(f\"Validation set: {len(val_df)} rows saved to {output_val}\")\n",
    "    print(f\"Test set: {len(test_df)} rows saved to {output_test}\")\n",
    "split_csv(\n",
    "    input_csv=\"./tabular_dataset/trieu_data_processed.csv\",\n",
    "    output_train=\"./tabular_dataset/train.csv\",\n",
    "    output_val=\"./tabular_dataset/val.csv\",\n",
    "    output_test=\"./tabular_dataset/test.csv\",\n",
    "    train_size=0.7,\n",
    "    val_size=0.15,\n",
    "    test_size=0.15,\n",
    "    random_state=2508\n",
    ")"
   ]
  },
  {
   "cell_type": "code",
   "execution_count": null,
   "id": "ee6ef0f8",
   "metadata": {},
   "outputs": [],
   "source": []
  }
 ],
 "metadata": {
  "kernelspec": {
   "display_name": "Python 3 (ipykernel)",
   "language": "python",
   "name": "python3"
  },
  "language_info": {
   "codemirror_mode": {
    "name": "ipython",
    "version": 3
   },
   "file_extension": ".py",
   "mimetype": "text/x-python",
   "name": "python",
   "nbconvert_exporter": "python",
   "pygments_lexer": "ipython3",
   "version": "3.10.9"
  }
 },
 "nbformat": 4,
 "nbformat_minor": 5
}
