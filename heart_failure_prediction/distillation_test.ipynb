{
 "cells": [
  {
   "cell_type": "code",
   "execution_count": 1,
   "id": "54adc525",
   "metadata": {},
   "outputs": [
    {
     "name": "stderr",
     "output_type": "stream",
     "text": [
      "/home/philipslinux/anaconda3/lib/python3.10/site-packages/torchvision/models/_utils.py:208: UserWarning: The parameter 'pretrained' is deprecated since 0.13 and may be removed in the future, please use 'weights' instead.\n",
      "  warnings.warn(\n",
      "/home/philipslinux/anaconda3/lib/python3.10/site-packages/torchvision/models/_utils.py:223: UserWarning: Arguments other than a weight enum or `None` for 'weights' are deprecated since 0.13 and may be removed in the future. The current behavior is equivalent to passing `weights=MobileNet_V2_Weights.IMAGENET1K_V1`. You can also use `weights=MobileNet_V2_Weights.DEFAULT` to get the most up-to-date weights.\n",
      "  warnings.warn(msg)\n",
      "/tmp/ipykernel_40633/2610344168.py:25: FutureWarning: You are using `torch.load` with `weights_only=False` (the current default value), which uses the default pickle module implicitly. It is possible to construct malicious pickle data which will execute arbitrary code during unpickling (See https://github.com/pytorch/pytorch/blob/main/SECURITY.md#untrusted-models for more details). In a future release, the default value for `weights_only` will be flipped to `True`. This limits the functions that could be executed during unpickling. Arbitrary objects will no longer be allowed to be loaded via this mode unless they are explicitly allowlisted by the user via `torch.serialization.add_safe_globals`. We recommend you start setting `weights_only=True` for any use case where you don't have full control of the loaded file. Please open an issue on GitHub for any issues related to this experimental feature.\n",
      "  checkpoint = torch.load(checkpoint_path)\n"
     ]
    },
    {
     "name": "stdout",
     "output_type": "stream",
     "text": [
      "Checkpoint loaded from epoch 4\n",
      "              precision    recall  f1-score   support\n",
      "\n",
      "           0       0.84      1.00      0.92        27\n",
      "           1       1.00      0.71      0.83        17\n",
      "\n",
      "    accuracy                           0.89        44\n",
      "   macro avg       0.92      0.85      0.87        44\n",
      "weighted avg       0.90      0.89      0.88        44\n",
      "\n"
     ]
    }
   ],
   "source": [
    "import torch\n",
    "import torch.nn as nn\n",
    "import os\n",
    "from torchvision import transforms, models\n",
    "from PIL import Image\n",
    "from sklearn.metrics import classification_report\n",
    "import numpy as np\n",
    "class StudentNetwork(nn.Module):\n",
    "    def __init__(self, num_classes=10):\n",
    "        super(StudentNetwork, self).__init__()\n",
    "        self.backbone = models.mobilenet_v2(pretrained=True)        \n",
    "        for param in self.backbone.parameters():\n",
    "            param.requires_grad = False\n",
    "        self.backbone.classifier[1] = nn.Linear(self.backbone.last_channel, 2)        \n",
    "    def forward(self, x):\n",
    "        out = self.backbone(x)        \n",
    "        return out\n",
    "def load_checkpoint(model, checkpoint_path='best_model.pth'):\n",
    "    checkpoint = torch.load(checkpoint_path)\n",
    "    model.load_state_dict(checkpoint['model_state_dict'])\n",
    "    model.eval() \n",
    "    print(f\"Checkpoint loaded from epoch {checkpoint['epoch']}\")\n",
    "def preprocess_image(image_path, transform):\n",
    "    img = Image.open(image_path).convert('RGB')\n",
    "    img = transform(img).unsqueeze(0)  \n",
    "    return img\n",
    "def predict_image(model, image_path, transform, device='cuda'):\n",
    "    img = preprocess_image(image_path, transform).to(device)      \n",
    "    with torch.no_grad():\n",
    "        output = model(img)    \n",
    "    _, predicted_class = torch.max(output, 1)\n",
    "    return predicted_class.item()\n",
    "def evaluate_folder(model, folder_path, transform, device='cuda'):\n",
    "    all_preds = []\n",
    "    all_labels = []\n",
    "    for class_folder in os.listdir(folder_path):\n",
    "        class_folder_path = os.path.join(folder_path, class_folder)\n",
    "        if os.path.isdir(class_folder_path):  \n",
    "            for img_name in os.listdir(class_folder_path):\n",
    "                img_path = os.path.join(class_folder_path, img_name)\n",
    "                true_label = int(class_folder) \n",
    "                predicted_class = predict_image(model, img_path, transform, device)\n",
    "                all_labels.append(true_label)\n",
    "                all_preds.append(predicted_class)\n",
    "    return all_labels, all_preds\n",
    "transform = transforms.Compose([\n",
    "    transforms.Resize((224, 224)), \n",
    "    transforms.ToTensor(),\n",
    "    transforms.Normalize(mean=[0.485, 0.456, 0.406], std=[0.229, 0.224, 0.225])\n",
    "])\n",
    "if __name__ == '__main__':\n",
    "    student_model = StudentNetwork(num_classes=2).cuda() \n",
    "    load_checkpoint(student_model, checkpoint_path='best_model.pth') \n",
    "    test_folder_path = './syn_vision_dataset/test/' \n",
    "    true_labels, predicted_labels = evaluate_folder(student_model, test_folder_path, transform, device='cuda')\n",
    "    report = classification_report(true_labels, predicted_labels, target_names=[str(i) for i in range(2)])  \n",
    "    print(report)"
   ]
  },
  {
   "cell_type": "code",
   "execution_count": null,
   "id": "6ae27aa1",
   "metadata": {},
   "outputs": [],
   "source": []
  }
 ],
 "metadata": {
  "kernelspec": {
   "display_name": "Python 3 (ipykernel)",
   "language": "python",
   "name": "python3"
  },
  "language_info": {
   "codemirror_mode": {
    "name": "ipython",
    "version": 3
   },
   "file_extension": ".py",
   "mimetype": "text/x-python",
   "name": "python",
   "nbconvert_exporter": "python",
   "pygments_lexer": "ipython3",
   "version": "3.10.9"
  }
 },
 "nbformat": 4,
 "nbformat_minor": 5
}
